{
 "cells": [
  {
   "cell_type": "code",
   "execution_count": null,
   "metadata": {},
   "outputs": [],
   "source": [
    "!pip install imblearn"
   ]
  },
  {
   "cell_type": "code",
   "execution_count": 24,
   "metadata": {},
   "outputs": [],
   "source": [
    "import matplotlib.pyplot as plt\n",
    "from scipy.stats import norm\n",
    "from scipy import stats\n",
    "import seaborn as sns\n",
    "import numpy as np \n",
    "import pandas as pd\n",
    "from sklearn.model_selection import train_test_split\n",
    "from sklearn.linear_model import LinearRegression\n",
    "from sklearn import metrics\n",
    "%matplotlib inline\n",
    "pd.set_option('display.max_columns', 300)\n",
    "pd.set_option('display.max_rows', 950)\n",
    "from statsmodels.formula.api import ols\n",
    "from sklearn.preprocessing import StandardScaler\n",
    "from sklearn.tree import DecisionTreeClassifier \n",
    "from sklearn.metrics import accuracy_score, roc_curve, auc\n",
    "from sklearn import tree \n",
    "from IPython.display import Image  \n",
    "\n",
    "import pydotplus\n",
    "from imblearn.over_sampling import SMOTE"
   ]
  },
  {
   "cell_type": "code",
   "execution_count": 25,
   "metadata": {},
   "outputs": [],
   "source": [
    "df = pd.read_csv('whiskey_database.csv')\n",
    "df.rename(columns = {'#': 'reviews', 'Super Cluster': 'supercluster', 'Meta Critic':'metascore'}, inplace = True)"
   ]
  },
  {
   "cell_type": "code",
   "execution_count": 26,
   "metadata": {},
   "outputs": [
    {
     "data": {
      "text/plain": [
       "(1611, 10)"
      ]
     },
     "execution_count": 26,
     "metadata": {},
     "output_type": "execute_result"
    }
   ],
   "source": [
    "df.shape"
   ]
  },
  {
   "cell_type": "code",
   "execution_count": 27,
   "metadata": {},
   "outputs": [
    {
     "data": {
      "text/html": [
       "<div>\n",
       "<style scoped>\n",
       "    .dataframe tbody tr th:only-of-type {\n",
       "        vertical-align: middle;\n",
       "    }\n",
       "\n",
       "    .dataframe tbody tr th {\n",
       "        vertical-align: top;\n",
       "    }\n",
       "\n",
       "    .dataframe thead th {\n",
       "        text-align: right;\n",
       "    }\n",
       "</style>\n",
       "<table border=\"1\" class=\"dataframe\">\n",
       "  <thead>\n",
       "    <tr style=\"text-align: right;\">\n",
       "      <th></th>\n",
       "      <th>Whisky</th>\n",
       "      <th>metascore</th>\n",
       "      <th>STDEV</th>\n",
       "      <th>reviews</th>\n",
       "      <th>Cost</th>\n",
       "      <th>Class</th>\n",
       "      <th>supercluster</th>\n",
       "      <th>Cluster</th>\n",
       "      <th>Country</th>\n",
       "      <th>Type</th>\n",
       "    </tr>\n",
       "  </thead>\n",
       "  <tbody>\n",
       "    <tr>\n",
       "      <th>0</th>\n",
       "      <td>Ledaig 42yo Dusgadh</td>\n",
       "      <td>9.46</td>\n",
       "      <td>0.24</td>\n",
       "      <td>3</td>\n",
       "      <td>$$$$$+</td>\n",
       "      <td>SingleMalt-like</td>\n",
       "      <td>ABC</td>\n",
       "      <td>C</td>\n",
       "      <td>Scotland</td>\n",
       "      <td>Malt</td>\n",
       "    </tr>\n",
       "    <tr>\n",
       "      <th>1</th>\n",
       "      <td>Laphroaig 27yo 57.4% 1980-2007 (OB, 5 Oloroso ...</td>\n",
       "      <td>9.38</td>\n",
       "      <td>0.20</td>\n",
       "      <td>4</td>\n",
       "      <td>$$$$$+</td>\n",
       "      <td>SingleMalt-like</td>\n",
       "      <td>ABC</td>\n",
       "      <td>C</td>\n",
       "      <td>Scotland</td>\n",
       "      <td>Malt</td>\n",
       "    </tr>\n",
       "    <tr>\n",
       "      <th>2</th>\n",
       "      <td>Glenfarclas 40yo</td>\n",
       "      <td>9.27</td>\n",
       "      <td>0.26</td>\n",
       "      <td>15</td>\n",
       "      <td>$$$$$+</td>\n",
       "      <td>SingleMalt-like</td>\n",
       "      <td>ABC</td>\n",
       "      <td>A</td>\n",
       "      <td>Scotland</td>\n",
       "      <td>Malt</td>\n",
       "    </tr>\n",
       "    <tr>\n",
       "      <th>3</th>\n",
       "      <td>Glengoyne 25yo</td>\n",
       "      <td>9.20</td>\n",
       "      <td>0.23</td>\n",
       "      <td>14</td>\n",
       "      <td>$$$$$+</td>\n",
       "      <td>SingleMalt-like</td>\n",
       "      <td>ABC</td>\n",
       "      <td>A</td>\n",
       "      <td>Scotland</td>\n",
       "      <td>Malt</td>\n",
       "    </tr>\n",
       "    <tr>\n",
       "      <th>4</th>\n",
       "      <td>Amrut Spectrum (Batch 1)</td>\n",
       "      <td>9.18</td>\n",
       "      <td>0.25</td>\n",
       "      <td>10</td>\n",
       "      <td>$$$$$</td>\n",
       "      <td>SingleMalt-like</td>\n",
       "      <td>ABC</td>\n",
       "      <td>C</td>\n",
       "      <td>India</td>\n",
       "      <td>Malt</td>\n",
       "    </tr>\n",
       "  </tbody>\n",
       "</table>\n",
       "</div>"
      ],
      "text/plain": [
       "                                              Whisky metascore STDEV  reviews  \\\n",
       "0                                Ledaig 42yo Dusgadh      9.46  0.24        3   \n",
       "1  Laphroaig 27yo 57.4% 1980-2007 (OB, 5 Oloroso ...      9.38  0.20        4   \n",
       "2                                   Glenfarclas 40yo      9.27  0.26       15   \n",
       "3                                     Glengoyne 25yo      9.20  0.23       14   \n",
       "4                           Amrut Spectrum (Batch 1)      9.18  0.25       10   \n",
       "\n",
       "     Cost            Class supercluster Cluster   Country  Type  \n",
       "0  $$$$$+  SingleMalt-like          ABC       C  Scotland  Malt  \n",
       "1  $$$$$+  SingleMalt-like          ABC       C  Scotland  Malt  \n",
       "2  $$$$$+  SingleMalt-like          ABC       A  Scotland  Malt  \n",
       "3  $$$$$+  SingleMalt-like          ABC       A  Scotland  Malt  \n",
       "4   $$$$$  SingleMalt-like          ABC       C     India  Malt  "
      ]
     },
     "execution_count": 27,
     "metadata": {},
     "output_type": "execute_result"
    }
   ],
   "source": [
    "df.head()"
   ]
  },
  {
   "cell_type": "code",
   "execution_count": null,
   "metadata": {},
   "outputs": [],
   "source": [
    "df.Country.value_counts()"
   ]
  },
  {
   "cell_type": "code",
   "execution_count": null,
   "metadata": {
    "scrolled": false
   },
   "outputs": [],
   "source": [
    "sns_plot = sns.catplot(x=\"Country\", kind=\"count\", palette=\"RdBu_r\", data=df, height=8.27, aspect=15/10);\n",
    "sns_plot.savefig(\"output.png\")"
   ]
  },
  {
   "cell_type": "code",
   "execution_count": null,
   "metadata": {},
   "outputs": [],
   "source": [
    "#irish whiskey popularity declined until there were only 3 distilleries left by 1990.  More are coming back,\n",
    "#but many have not been operating long enough to produce a saleable product."
   ]
  },
  {
   "cell_type": "code",
   "execution_count": null,
   "metadata": {},
   "outputs": [],
   "source": [
    "sns.catplot(x=\"Cluster\", kind=\"count\", palette=\"Set1\", data=df, height=8.27, aspect=15/8.27);"
   ]
  },
  {
   "cell_type": "code",
   "execution_count": null,
   "metadata": {},
   "outputs": [],
   "source": [
    "sns.catplot(x=\"Type\", kind=\"count\", palette=\"ch:.25\", data=df, height=8.27, aspect=15/8.27);"
   ]
  },
  {
   "cell_type": "code",
   "execution_count": null,
   "metadata": {},
   "outputs": [],
   "source": [
    "sns.catplot(x=\"Class\", kind=\"count\", palette=\"ch:.25\", data=df, height=8.27, aspect=15/8.27);"
   ]
  },
  {
   "cell_type": "code",
   "execution_count": null,
   "metadata": {},
   "outputs": [],
   "source": [
    "sns.catplot(x=\"supercluster\", kind=\"count\", palette=\"ch:3,.5,dark=.3\", data=df, height=8.27, aspect=15/8.27);"
   ]
  },
  {
   "cell_type": "markdown",
   "metadata": {},
   "source": [
    "#### Reference\n",
    "Scotland: 1  \n",
    "USA : 2  \n",
    "Canada: 3  \n",
    "Ireland: 4  \n",
    "Japan: 5  \n",
    "Sweden: 6  \n",
    "India: 7  \n",
    "Taiwan: 8  \n",
    "Wales: 9  \n",
    "Swizerland: 10  \n",
    "Finland: 11  \n",
    "Tasmania: 12  \n",
    "South Africa: 13  \n",
    "Netherlands: 14  \n",
    "England: 15  \n",
    "Belgium: 16  \n",
    "France: 17  \n",
    "Ireland: 18  "
   ]
  },
  {
   "cell_type": "code",
   "execution_count": 28,
   "metadata": {},
   "outputs": [],
   "source": [
    "df['Country'] = df['Country'].replace({'Sweden': 'rest_of_world', 'India': 'rest_of_world', 'Taiwan': 'rest_of_world', 'Wales': 'rest_of_world', 'Switzerland': 'rest_of_world', 'Finland': 'rest_of_world', 'Tasmania': 'rest_of_world', 'South Africa': 'rest_of_world', 'Netherlands': 'rest_of_world', 'England': 'rest_of_world', 'Belgium': 'rest_of_world', 'France': 'rest_of_world', 'Irish': 'rest_of_world'})\n",
    "\n",
    "\n"
   ]
  },
  {
   "cell_type": "code",
   "execution_count": 29,
   "metadata": {},
   "outputs": [],
   "source": [
    "df['Country'] = df['Country'].map({'Scotland': 1, 'USA': 2, 'Canada': 3, 'Ireland': 4, 'Japan': 5, 'rest_of_world': 6})\n"
   ]
  },
  {
   "cell_type": "code",
   "execution_count": 30,
   "metadata": {},
   "outputs": [],
   "source": [
    "#RO will be B\n",
    "#R1 will be A\n",
    "#R2 will be E\n",
    "#R3 will be C\n",
    "#R4 will be F"
   ]
  },
  {
   "cell_type": "code",
   "execution_count": 31,
   "metadata": {},
   "outputs": [
    {
     "data": {
      "text/plain": [
       "Whisky            0\n",
       "metascore         0\n",
       "STDEV             0\n",
       "reviews           0\n",
       "Cost              1\n",
       "Class             0\n",
       "supercluster    254\n",
       "Cluster           0\n",
       "Country           0\n",
       "Type              0\n",
       "dtype: int64"
      ]
     },
     "execution_count": 31,
     "metadata": {},
     "output_type": "execute_result"
    }
   ],
   "source": [
    "df['Cluster'] = df['Cluster'].replace({'R2': 'E', 'R1': 'A', 'R4': 'F', 'R3': 'C', 'R0': 'B'})\n",
    "df.dropna(subset=['Cluster'], how='any', inplace = True, axis = 0)\n",
    "df.isna().sum()"
   ]
  },
  {
   "cell_type": "code",
   "execution_count": 32,
   "metadata": {},
   "outputs": [],
   "source": [
    "target = df.Country"
   ]
  },
  {
   "cell_type": "code",
   "execution_count": 33,
   "metadata": {},
   "outputs": [
    {
     "data": {
      "text/plain": [
       "(1344, 10)"
      ]
     },
     "execution_count": 33,
     "metadata": {},
     "output_type": "execute_result"
    }
   ],
   "source": [
    "df.shape"
   ]
  },
  {
   "cell_type": "code",
   "execution_count": 34,
   "metadata": {},
   "outputs": [],
   "source": [
    "dfDummies = pd.get_dummies(df.Cluster)\n",
    "feature_cluster = dfDummies\n",
    "df = pd.concat([df, dfDummies], axis =1 )"
   ]
  },
  {
   "cell_type": "code",
   "execution_count": 35,
   "metadata": {},
   "outputs": [],
   "source": [
    "dfDummies = pd.get_dummies(df.Class)\n",
    "df = pd.concat([df, dfDummies], axis =1 )"
   ]
  },
  {
   "cell_type": "code",
   "execution_count": 36,
   "metadata": {},
   "outputs": [],
   "source": [
    "dfDummies = pd.get_dummies(df.Type)\n",
    "df = pd.concat([df, dfDummies], axis =1 )"
   ]
  },
  {
   "cell_type": "code",
   "execution_count": 37,
   "metadata": {},
   "outputs": [],
   "source": [
    "df = df.drop(['metascore', 'STDEV', 'reviews', 'Country'], axis = 1)\n",
    "df.drop(['Whisky', 'Cost', 'supercluster'], axis = 1, inplace = True)\n",
    "df.drop(['Class', 'Cluster', 'Type'], axis =1, inplace = True)"
   ]
  },
  {
   "cell_type": "code",
   "execution_count": null,
   "metadata": {},
   "outputs": [],
   "source": [
    "df.head(10)"
   ]
  },
  {
   "cell_type": "markdown",
   "metadata": {},
   "source": [
    "### Setting up Data for Models"
   ]
  },
  {
   "cell_type": "code",
   "execution_count": 38,
   "metadata": {},
   "outputs": [],
   "source": [
    "def plot_feature_importances(model):\n",
    "    n_features = x_train.shape[1]\n",
    "    plt.figure(figsize=(8,8))\n",
    "    plt.barh(range(n_features), model.feature_importances_, align='center') \n",
    "    plt.yticks(np.arange(n_features), x_train.columns.values) \n",
    "    plt.xlabel(\"Feature importance\")\n",
    "    plt.ylabel(\"Feature\")"
   ]
  },
  {
   "cell_type": "code",
   "execution_count": 39,
   "metadata": {},
   "outputs": [],
   "source": [
    "def print_metrics(labels, preds):\n",
    "    print(\"Precision Score: {}\".format(precision_score(labels, preds, average='weighted')))\n",
    "    print(\"Recall Score: {}\".format(recall_score(labels, preds, average='weighted')))\n",
    "    print(\"Accuracy Score: {}\".format(accuracy_score(labels, preds)))\n",
    "    print(\"F1 Score: {}\".format(f1_score(labels, preds, average='weighted')))"
   ]
  },
  {
   "cell_type": "code",
   "execution_count": 40,
   "metadata": {},
   "outputs": [],
   "source": [
    "def plot_confusion_matrix(y_true, y_pred, classes, normalize=False, title=None, cmap=plt.cm.Blues):\n",
    "    labels = ['Scotland', 'USA', 'Canada', 'Ireland', 'Japan', 'Rest_of_World']\n",
    "    # Compute confusion matrix\n",
    "    cmat = pd.crosstab(y_test, test_preds, rownames=['True'], colnames=['Predicted'], margins=True)\n",
    "    print(cmat)\n",
    "    cm = confusion_matrix(y_true, y_pred)\n",
    "    fig, ax = plt.subplots()\n",
    "    im = ax.imshow(cm, interpolation='nearest', cmap=cmap)\n",
    "    ax.figure.colorbar(im, ax=ax)\n",
    "    # We want to show all ticks...\n",
    "    ax.set(xticks=np.arange(cm.shape[1]),\n",
    "           yticks=np.arange(cm.shape[0]),\n",
    "           # ... and label them with the respective list entries\n",
    "           xticklabels=classes, yticklabels=classes,\n",
    "           title=title,\n",
    "           ylabel='True label',\n",
    "           xlabel='Predicted label')\n",
    "    # Rotate the tick labels and set their alignment.\n",
    "    plt.setp(ax.get_xticklabels(), rotation=45, ha=\"right\",\n",
    "             rotation_mode=\"anchor\")\n",
    "\n",
    "    # Loop over data dimensions and create text annotations.\n",
    "    fmt = '.2f' if normalize else 'd'\n",
    "    thresh = cm.max() / 2.\n",
    "    for i in range(cm.shape[0]):\n",
    "        for j in range(cm.shape[1]):\n",
    "            ax.text(j, i, format(cm[i, j], fmt),\n",
    "                    ha=\"center\", va=\"center\",\n",
    "                    color=\"white\" if cm[i, j] > thresh else \"black\")\n",
    "    fig.tight_layout()\n",
    "    return ax\n",
    "np.set_printoptions(precision=1)\n",
    "# Plot non-normalized confusion matrix\n",
    "\n",
    "plt.show()"
   ]
  },
  {
   "cell_type": "code",
   "execution_count": 41,
   "metadata": {},
   "outputs": [],
   "source": [
    "#variables include flavor, type, class\n",
    "x = df\n",
    "y = target"
   ]
  },
  {
   "cell_type": "code",
   "execution_count": null,
   "metadata": {},
   "outputs": [],
   "source": [
    "#just flavor as variable\n",
    "x = feature_cluster\n",
    "y = target"
   ]
  },
  {
   "cell_type": "code",
   "execution_count": null,
   "metadata": {},
   "outputs": [],
   "source": [
    "x.shape"
   ]
  },
  {
   "cell_type": "code",
   "execution_count": 42,
   "metadata": {},
   "outputs": [],
   "source": [
    "from sklearn.model_selection import train_test_split\n",
    "x_train, x_test, y_train, y_test = train_test_split(x,y, test_size = .2, random_state = 42)"
   ]
  },
  {
   "cell_type": "code",
   "execution_count": 43,
   "metadata": {},
   "outputs": [
    {
     "name": "stdout",
     "output_type": "stream",
     "text": [
      "1    814\n",
      "2    263\n",
      "6    137\n",
      "5     58\n",
      "4     43\n",
      "3     29\n",
      "Name: Country, dtype: int64\n",
      "5    650\n",
      "3    650\n",
      "1    650\n",
      "6    650\n",
      "4    650\n",
      "2    650\n",
      "dtype: int64\n"
     ]
    }
   ],
   "source": [
    "#SMOOOOOTTTEEEDDD!!!!\n",
    "print(y.value_counts()) #Previous original class distribution\n",
    "smote = SMOTE()\n",
    "x_train_resampled, y_train_resampled = smote.fit_sample(x_train, y_train) \n",
    "print(pd.Series(y_train_resampled).value_counts()) #Preview synthetic sample class distribution"
   ]
  },
  {
   "cell_type": "code",
   "execution_count": 44,
   "metadata": {},
   "outputs": [
    {
     "name": "stdout",
     "output_type": "stream",
     "text": [
      "(3900, 19)\n",
      "(269, 19)\n",
      "(3900,)\n",
      "(269,)\n"
     ]
    }
   ],
   "source": [
    "print(x_train_resampled.shape)\n",
    "print(x_test.shape)\n",
    "\n",
    "print(y_train_resampled.shape)\n",
    "print(y_test.shape)"
   ]
  },
  {
   "cell_type": "markdown",
   "metadata": {},
   "source": [
    "### Running Models"
   ]
  },
  {
   "cell_type": "markdown",
   "metadata": {},
   "source": [
    "#### KNN"
   ]
  },
  {
   "cell_type": "code",
   "execution_count": 45,
   "metadata": {},
   "outputs": [
    {
     "name": "stdout",
     "output_type": "stream",
     "text": [
      "Precision Score: 0.38625841750841755\n",
      "Recall Score: 0.7211895910780669\n",
      "Accuracy Score: 0.7211895910780669\n",
      "F1 Score: 0.7211895910780669\n"
     ]
    },
    {
     "name": "stderr",
     "output_type": "stream",
     "text": [
      "/anaconda3/lib/python3.7/site-packages/sklearn/metrics/classification.py:1437: UndefinedMetricWarning: Precision is ill-defined and being set to 0.0 in labels with no predicted samples.\n",
      "  'precision', 'predicted', average, warn_for)\n"
     ]
    }
   ],
   "source": [
    "#K Nearest Neighbor test\n",
    "from sklearn.neighbors import KNeighborsClassifier\n",
    "\n",
    "knn = KNeighborsClassifier(n_neighbors=5)\n",
    "from sklearn.metrics import precision_score, recall_score, accuracy_score, f1_score\n",
    "knnfit = knn.fit(x_train_resampled, y_train_resampled)\n",
    "test_preds = knn.predict(x_test)\n",
    "def print_metrics(labels, preds):\n",
    "    print(\"Precision Score: {}\".format(precision_score(labels, preds, average='macro')))\n",
    "    print(\"Recall Score: {}\".format(recall_score(labels, preds, average='weighted')))\n",
    "    print(\"Accuracy Score: {}\".format(accuracy_score(labels, preds)))\n",
    "    print(\"F1 Score: {}\".format(f1_score(labels, preds, average='micro')))\n",
    "    \n",
    "print_metrics(y_test, test_preds)"
   ]
  },
  {
   "cell_type": "code",
   "execution_count": 46,
   "metadata": {},
   "outputs": [
    {
     "name": "stdout",
     "output_type": "stream",
     "text": [
      "precision: [0.8 1.  0.  0.5 0.  0. ]\n",
      "recall: [0.8 0.9 0.2 0.3 0.  0. ]\n",
      "fscore: [0.8 1.  0.  0.4 0.  0. ]\n",
      "support: [164  56   5  10   9  25]\n"
     ]
    },
    {
     "name": "stderr",
     "output_type": "stream",
     "text": [
      "/anaconda3/lib/python3.7/site-packages/sklearn/metrics/classification.py:1437: UndefinedMetricWarning: Precision and F-score are ill-defined and being set to 0.0 in labels with no predicted samples.\n",
      "  'precision', 'predicted', average, warn_for)\n"
     ]
    }
   ],
   "source": [
    "from sklearn.metrics import precision_recall_fscore_support as score\n",
    "labels = ['Scotland', 'USA', 'Canada', 'Ireland', 'Japan', 'Rest_of_World']\n",
    "precision, recall, fscore, support = score(y_test, test_preds,)\n",
    "\n",
    "print('precision: {}'.format(precision))\n",
    "print('recall: {}'.format(recall))\n",
    "print('fscore: {}'.format(fscore))\n",
    "print('support: {}'.format(support))"
   ]
  },
  {
   "cell_type": "code",
   "execution_count": 47,
   "metadata": {},
   "outputs": [
    {
     "name": "stdout",
     "output_type": "stream",
     "text": [
      "               precision    recall  f1-score   support\n",
      "\n",
      "     Scotland       0.79      0.85      0.82       164\n",
      "          USA       1.00      0.91      0.95        56\n",
      "       Canada       0.03      0.20      0.05         5\n",
      "      Ireland       0.50      0.30      0.37        10\n",
      "        Japan       0.00      0.00      0.00         9\n",
      "Rest_of_World       0.00      0.00      0.00        25\n",
      "\n",
      "     accuracy                           0.72       269\n",
      "    macro avg       0.39      0.38      0.37       269\n",
      " weighted avg       0.71      0.72      0.71       269\n",
      "\n"
     ]
    },
    {
     "name": "stderr",
     "output_type": "stream",
     "text": [
      "/anaconda3/lib/python3.7/site-packages/sklearn/metrics/classification.py:1437: UndefinedMetricWarning: Precision and F-score are ill-defined and being set to 0.0 in labels with no predicted samples.\n",
      "  'precision', 'predicted', average, warn_for)\n",
      "/anaconda3/lib/python3.7/site-packages/sklearn/metrics/classification.py:1437: UndefinedMetricWarning: Precision and F-score are ill-defined and being set to 0.0 in labels with no predicted samples.\n",
      "  'precision', 'predicted', average, warn_for)\n",
      "/anaconda3/lib/python3.7/site-packages/sklearn/metrics/classification.py:1437: UndefinedMetricWarning: Precision and F-score are ill-defined and being set to 0.0 in labels with no predicted samples.\n",
      "  'precision', 'predicted', average, warn_for)\n"
     ]
    }
   ],
   "source": [
    "from sklearn.metrics import classification_report\n",
    "\n",
    "print(classification_report(y_test, test_preds, target_names=labels))\n"
   ]
  },
  {
   "cell_type": "code",
   "execution_count": 48,
   "metadata": {},
   "outputs": [
    {
     "name": "stdout",
     "output_type": "stream",
     "text": [
      "Precision Score: 0.7211895910780669\n",
      "Recall Score: 0.7211895910780669\n",
      "Accuracy Score: 0.7211895910780669\n",
      "F1 Score: 0.7211895910780669\n"
     ]
    }
   ],
   "source": [
    "#knn with weight distance and ball_tree algo\n",
    "knn = KNeighborsClassifier(n_neighbors=5, weights = 'distance', algorithm='ball_tree')\n",
    "from sklearn.metrics import precision_score, recall_score, accuracy_score, f1_score\n",
    "knnfit = knn.fit(x_train_resampled, y_train_resampled)\n",
    "test_preds = knn.predict(x_test)\n",
    "def print_metrics(labels, preds):\n",
    "    print(\"Precision Score: {}\".format(precision_score(labels, preds, average='micro')))\n",
    "    print(\"Recall Score: {}\".format(recall_score(labels, preds, average='micro')))\n",
    "    print(\"Accuracy Score: {}\".format(accuracy_score(labels, preds)))\n",
    "    print(\"F1 Score: {}\".format(f1_score(labels, preds, average='micro')))\n",
    "    \n",
    "print_metrics(y_test, test_preds)"
   ]
  },
  {
   "cell_type": "code",
   "execution_count": 49,
   "metadata": {},
   "outputs": [
    {
     "name": "stdout",
     "output_type": "stream",
     "text": [
      "Precision Score: 0.654275092936803\n",
      "Recall Score: 0.654275092936803\n",
      "Accuracy Score: 0.654275092936803\n",
      "F1 Score: 0.654275092936803\n"
     ]
    }
   ],
   "source": [
    "#KNN with Euclidian distance\n",
    "knn = KNeighborsClassifier(n_neighbors=3, metric = 'euclidean')\n",
    "from sklearn.metrics import precision_score, recall_score, accuracy_score, f1_score\n",
    "knnfit = knn.fit(x_train_resampled, y_train_resampled)\n",
    "test_preds = knn.predict(x_test)\n",
    "def print_metrics(labels, preds):\n",
    "    print(\"Precision Score: {}\".format(precision_score(labels, preds, average='micro')))\n",
    "    print(\"Recall Score: {}\".format(recall_score(labels, preds, average='micro')))\n",
    "    print(\"Accuracy Score: {}\".format(accuracy_score(labels, preds)))\n",
    "    print(\"F1 Score: {}\".format(f1_score(labels, preds, average='micro')))\n",
    "    \n",
    "print_metrics(y_test, test_preds)"
   ]
  },
  {
   "cell_type": "code",
   "execution_count": 50,
   "metadata": {},
   "outputs": [
    {
     "name": "stdout",
     "output_type": "stream",
     "text": [
      "Best Value for k: 5\n",
      "F1-Score: 0.7211895910780669\n"
     ]
    }
   ],
   "source": [
    "#Finding best KNN neighbor via F1 score\n",
    "def find_best_k(X_train, y_train, X_test, y_test, min_k=1, max_k=25):\n",
    "    best_k = 0\n",
    "    best_score = 0.0\n",
    "    for k in range(min_k, max_k+1, 2):\n",
    "        knn = KNeighborsClassifier(n_neighbors=k)\n",
    "        knn.fit(X_train, y_train)\n",
    "        preds = knn.predict(X_test)\n",
    "        f1 = f1_score(y_test, preds, average = 'micro')\n",
    "        if f1 > best_score:\n",
    "            best_k = k\n",
    "            best_score = f1\n",
    "    \n",
    "    print(\"Best Value for k: {}\".format(best_k))\n",
    "    print(\"F1-Score: {}\".format(best_score))\n",
    "\n",
    "find_best_k(x_train_resampled, y_train_resampled, x_test, y_test)"
   ]
  },
  {
   "cell_type": "code",
   "execution_count": 51,
   "metadata": {},
   "outputs": [],
   "source": [
    "#rerun KNN with best\n",
    "from sklearn.neighbors import KNeighborsClassifier\n",
    "def updateKNN(x, x_train, y_train):\n",
    "    knn = KNeighborsClassifier(n_neighbors=x)\n",
    "\n",
    "    knn.fit(x_train, y_train)\n",
    "    test_preds = knn.predict(x_test)    \n",
    "    print_metrics(y_test, test_preds)\n",
    "\n"
   ]
  },
  {
   "cell_type": "code",
   "execution_count": 53,
   "metadata": {
    "scrolled": true
   },
   "outputs": [
    {
     "name": "stdout",
     "output_type": "stream",
     "text": [
      "Precision Score: 0.7211895910780669\n",
      "Recall Score: 0.7211895910780669\n",
      "Accuracy Score: 0.7211895910780669\n",
      "F1 Score: 0.7211895910780669\n"
     ]
    }
   ],
   "source": [
    "updateKNN(5, x_train_resampled, y_train_resampled)"
   ]
  },
  {
   "cell_type": "code",
   "execution_count": 54,
   "metadata": {},
   "outputs": [
    {
     "name": "stdout",
     "output_type": "stream",
     "text": [
      "Fitting 3 folds for each of 24 candidates, totalling 72 fits\n"
     ]
    },
    {
     "name": "stderr",
     "output_type": "stream",
     "text": [
      "[Parallel(n_jobs=-1)]: Using backend LokyBackend with 4 concurrent workers.\n",
      "[Parallel(n_jobs=-1)]: Done  42 tasks      | elapsed:    3.4s\n",
      "[Parallel(n_jobs=-1)]: Done  72 out of  72 | elapsed:    4.3s finished\n"
     ]
    }
   ],
   "source": [
    "from sklearn.model_selection import GridSearchCV\n",
    "\n",
    "grid_params = {\n",
    "    'n_neighbors': [3,5,11,19],\n",
    "    'weights': ['uniform', 'distance'],\n",
    "    'p' : [1,2,3]\n",
    "}\n",
    "\n",
    "gs = GridSearchCV(\n",
    "    knn,\n",
    "    grid_params,\n",
    "    verbose = 1,\n",
    "    cv = 3,\n",
    "    n_jobs = -1)\n",
    "\n",
    "gs_results = gs.fit(x_train_resampled, y_train_resampled)"
   ]
  },
  {
   "cell_type": "code",
   "execution_count": 55,
   "metadata": {},
   "outputs": [
    {
     "data": {
      "text/plain": [
       "{'n_neighbors': 11, 'p': 1, 'weights': 'distance'}"
      ]
     },
     "execution_count": 55,
     "metadata": {},
     "output_type": "execute_result"
    }
   ],
   "source": [
    "gs_results.best_score_\n",
    "gs_results.best_estimator_\n",
    "gs_results.best_params_"
   ]
  },
  {
   "cell_type": "code",
   "execution_count": 56,
   "metadata": {},
   "outputs": [
    {
     "name": "stdout",
     "output_type": "stream",
     "text": [
      "Precision Score: 0.7211895910780669\n",
      "Recall Score: 0.7211895910780669\n",
      "Accuracy Score: 0.7211895910780669\n",
      "F1 Score: 0.7211895910780669\n"
     ]
    }
   ],
   "source": [
    "knn = KNeighborsClassifier(n_neighbors=11, weights = 'distance', p = 1)\n",
    "from sklearn.metrics import precision_score, recall_score, accuracy_score, f1_score\n",
    "knnfit = knn.fit(x_train_resampled, y_train_resampled)\n",
    "test_preds = knn.predict(x_test)\n",
    "def print_metrics(labels, preds):\n",
    "    print(\"Precision Score: {}\".format(precision_score(labels, preds, average='micro')))\n",
    "    print(\"Recall Score: {}\".format(recall_score(labels, preds, average='micro')))\n",
    "    print(\"Accuracy Score: {}\".format(accuracy_score(labels, preds)))\n",
    "    print(\"F1 Score: {}\".format(f1_score(labels, preds, average='micro')))\n",
    "    \n",
    "print_metrics(y_test, test_preds)"
   ]
  },
  {
   "cell_type": "code",
   "execution_count": 57,
   "metadata": {},
   "outputs": [
    {
     "name": "stdout",
     "output_type": "stream",
     "text": [
      "               precision    recall  f1-score   support\n",
      "\n",
      "     Scotland       0.79      0.85      0.82       164\n",
      "          USA       1.00      0.91      0.95        56\n",
      "       Canada       0.03      0.20      0.05         5\n",
      "      Ireland       0.50      0.30      0.37        10\n",
      "        Japan       0.00      0.00      0.00         9\n",
      "Rest_of_World       0.00      0.00      0.00        25\n",
      "\n",
      "     accuracy                           0.72       269\n",
      "    macro avg       0.39      0.38      0.37       269\n",
      " weighted avg       0.71      0.72      0.71       269\n",
      "\n"
     ]
    },
    {
     "name": "stderr",
     "output_type": "stream",
     "text": [
      "/anaconda3/lib/python3.7/site-packages/sklearn/metrics/classification.py:1437: UndefinedMetricWarning: Precision and F-score are ill-defined and being set to 0.0 in labels with no predicted samples.\n",
      "  'precision', 'predicted', average, warn_for)\n",
      "/anaconda3/lib/python3.7/site-packages/sklearn/metrics/classification.py:1437: UndefinedMetricWarning: Precision and F-score are ill-defined and being set to 0.0 in labels with no predicted samples.\n",
      "  'precision', 'predicted', average, warn_for)\n",
      "/anaconda3/lib/python3.7/site-packages/sklearn/metrics/classification.py:1437: UndefinedMetricWarning: Precision and F-score are ill-defined and being set to 0.0 in labels with no predicted samples.\n",
      "  'precision', 'predicted', average, warn_for)\n"
     ]
    }
   ],
   "source": [
    "from sklearn.metrics import classification_report\n",
    "\n",
    "print(classification_report(y_test, test_preds, target_names=labels))"
   ]
  },
  {
   "cell_type": "code",
   "execution_count": 58,
   "metadata": {},
   "outputs": [
    {
     "name": "stdout",
     "output_type": "stream",
     "text": [
      "Predicted    1   2   3  4  All\n",
      "True                          \n",
      "1          139   0  24  1  164\n",
      "2            3  51   2  0   56\n",
      "3            4   0   1  0    5\n",
      "4            4   0   3  3   10\n",
      "5            5   0   2  2    9\n",
      "6           21   0   4  0   25\n",
      "All        176  51  36  6  269\n"
     ]
    }
   ],
   "source": [
    "from sklearn.metrics import confusion_matrix \n",
    "results = pd.crosstab(y_test, test_preds, rownames=['True'], colnames=['Predicted'], margins=True)\n",
    "print(results)"
   ]
  },
  {
   "cell_type": "code",
   "execution_count": 59,
   "metadata": {},
   "outputs": [
    {
     "name": "stdout",
     "output_type": "stream",
     "text": [
      "Predicted    1   2   3  4  All\n",
      "True                          \n",
      "1          139   0  24  1  164\n",
      "2            3  51   2  0   56\n",
      "3            4   0   1  0    5\n",
      "4            4   0   3  3   10\n",
      "5            5   0   2  2    9\n",
      "6           21   0   4  0   25\n",
      "All        176  51  36  6  269\n"
     ]
    },
    {
     "data": {
      "image/png": "[encoded data removed]",
      "text/plain": [
       "<Figure size 432x288 with 2 Axes>"
      ]
     },
     "metadata": {
      "needs_background": "light"
     },
     "output_type": "display_data"
    }
   ],
   "source": [
    "labels = ['Scotland', 'USA', 'Canada', 'Ireland', 'Japan', 'Rest_of_World']\n",
    "def plot_confusion_matrix(y_true, y_pred, classes,\n",
    "                          normalize=False,\n",
    "                          title=None,\n",
    "                          cmap=plt.cm.Blues):\n",
    "\n",
    "    # Compute confusion matrix\n",
    "    cmat = pd.crosstab(y_test, test_preds, rownames=['True'], colnames=['Predicted'], margins=True)\n",
    "    print(cmat)\n",
    "    cm = confusion_matrix(y_true, y_pred)\n",
    "    fig, ax = plt.subplots()\n",
    "    im = ax.imshow(cm, interpolation='nearest', cmap=cmap)\n",
    "    ax.figure.colorbar(im, ax=ax)\n",
    "    # We want to show all ticks...\n",
    "    ax.set(xticks=np.arange(cm.shape[1]),\n",
    "           yticks=np.arange(cm.shape[0]),\n",
    "           # ... and label them with the respective list entries\n",
    "           xticklabels=classes, yticklabels=classes,\n",
    "           title=title,\n",
    "           ylabel='True label',\n",
    "           xlabel='Predicted label')\n",
    "\n",
    "    # Rotate the tick labels and set their alignment.\n",
    "    plt.setp(ax.get_xticklabels(), rotation=45, ha=\"right\",\n",
    "             rotation_mode=\"anchor\")\n",
    "\n",
    "    # Loop over data dimensions and create text annotations.\n",
    "    fmt = '.2f' if normalize else 'd'\n",
    "    thresh = cm.max() / 2.\n",
    "    for i in range(cm.shape[0]):\n",
    "        for j in range(cm.shape[1]):\n",
    "            ax.text(j, i, format(cm[i, j], fmt),\n",
    "                    ha=\"center\", va=\"center\",\n",
    "                    color=\"white\" if cm[i, j] > thresh else \"black\")\n",
    "    fig.tight_layout()\n",
    "    return ax\n",
    "\n",
    "\n",
    "np.set_printoptions(precision=1)\n",
    "\n",
    "# Plot non-normalized confusion matrix\n",
    "plot_confusion_matrix(y_test, test_preds, classes=labels,\n",
    "                      title='Confusion matrix')\n",
    "\n",
    "\n",
    "plt.show()"
   ]
  },
  {
   "cell_type": "code",
   "execution_count": null,
   "metadata": {},
   "outputs": [],
   "source": [
    "df.corr()\n"
   ]
  },
  {
   "cell_type": "code",
   "execution_count": 60,
   "metadata": {},
   "outputs": [
    {
     "name": "stdout",
     "output_type": "stream",
     "text": [
      "RMSE value for k=  1 is: 2.4983265774778807\n",
      "RMSE value for k=  2 is: 1.8079234941210305\n",
      "RMSE value for k=  3 is: 1.6979711877654518\n",
      "RMSE value for k=  4 is: 1.6395722082367414\n",
      "RMSE value for k=  5 is: 1.6254481795451423\n",
      "RMSE value for k=  6 is: 1.6140069973084363\n",
      "RMSE value for k=  7 is: 1.5992800519676982\n",
      "RMSE value for k=  8 is: 1.5665977864580671\n",
      "RMSE value for k=  9 is: 1.5986966328420984\n",
      "RMSE value for k=  10 is: 1.6373997883579008\n",
      "RMSE value for k=  11 is: 1.60680754011867\n",
      "RMSE value for k=  12 is: 1.62350398203325\n",
      "RMSE value for k=  13 is: 1.618377607746864\n",
      "RMSE value for k=  14 is: 1.604412917156881\n",
      "RMSE value for k=  15 is: 1.6268655291123868\n",
      "RMSE value for k=  16 is: 1.61355258000434\n",
      "RMSE value for k=  17 is: 1.6205776289348255\n",
      "RMSE value for k=  18 is: 1.6189826082607122\n",
      "RMSE value for k=  19 is: 1.6114856417274412\n",
      "RMSE value for k=  20 is: 1.6076172073916908\n"
     ]
    }
   ],
   "source": [
    "#test knn with RMSE\n",
    "from math import sqrt\n",
    "from sklearn.metrics import mean_squared_error \n",
    "from sklearn import neighbors\n",
    "rmse_val = []\n",
    "for K in range(20):\n",
    "    K = K+1\n",
    "    model = neighbors.KNeighborsRegressor(n_neighbors = K)\n",
    "\n",
    "    model.fit(x_train, y_train)  #fit the model\n",
    "    pred=model.predict(x_test) #make prediction on test set\n",
    "    error = sqrt(mean_squared_error(y_test,pred)) #calculate rmse\n",
    "    rmse_val.append(error) #store rmse values\n",
    "    print('RMSE value for k= ' , K , 'is:', error)"
   ]
  },
  {
   "cell_type": "code",
   "execution_count": 61,
   "metadata": {},
   "outputs": [
    {
     "data": {
      "text/plain": [
       "<matplotlib.axes._subplots.AxesSubplot at 0x10cd62dd8>"
      ]
     },
     "execution_count": 61,
     "metadata": {},
     "output_type": "execute_result"
    },
    {
     "data": {
      "image/png": "[encoded data removed]",
      "text/plain": [
       "<Figure size 432x288 with 1 Axes>"
      ]
     },
     "metadata": {
      "needs_background": "light"
     },
     "output_type": "display_data"
    }
   ],
   "source": [
    "#plotting the rmse values against k values\n",
    "curve = pd.DataFrame(rmse_val) #elbow curve \n",
    "curve.plot()"
   ]
  },
  {
   "cell_type": "markdown",
   "metadata": {},
   "source": [
    "#### Decision Trees"
   ]
  },
  {
   "cell_type": "code",
   "execution_count": 62,
   "metadata": {},
   "outputs": [
    {
     "name": "stdout",
     "output_type": "stream",
     "text": [
      "[6 1 5 6 6 3 5 1 2 6 6 1 5 2 4 6 3 4 6 6 1 1 6 4 1 2 6 6 5 5 5 2 1 6 6 2 6\n",
      " 5 5 2 6 6 6 6 6 1 5 6 6 2 6 6 2 5 3 6 2 3 5 2 6 5 6 6 3 5 1 6 5 6 6 2 3 6\n",
      " 6 6 2 6 2 5 3 3 6 2 6 5 6 1 4 3 6 1 5 6 6 6 6 5 6 6 5 2 3 5 5 2 6 3 6 3 1\n",
      " 6 5 6 5 6 5 6 1 3 2 3 3 6 5 6 6 1 4 2 6 5 3 5 3 6 1 1 5 2 1 5 6 1 3 3 6 5\n",
      " 6 2 5 2 5 6 2 6 2 5 2 5 3 1 5 2 5 5 6 6 2 6 2 2 6 3 1 1 5 2 3 2 2 5 1 1 5\n",
      " 6 5 3 2 6 6 1 1 6 6 6 2 5 6 5 1 2 3 5 6 6 6 6 3 3 5 5 1 2 6 2 1 2 6 6 1 5\n",
      " 3 2 6 6 4 6 3 2 5 6 2 5 3 2 3 3 6 5 6 3 6 1 2 2 6 6 5 2 3 6 2 3 6 6 2 2 6\n",
      " 2 2 3 2 6 3 1 1 2 6]\n"
     ]
    }
   ],
   "source": [
    "#Decision Tree\n",
    "clf= DecisionTreeClassifier(criterion='entropy')\n",
    "clf.fit(x_train_resampled,y_train_resampled) \n",
    "y_pred = clf.predict(x_test)\n",
    "print(y_pred)"
   ]
  },
  {
   "cell_type": "code",
   "execution_count": 63,
   "metadata": {},
   "outputs": [
    {
     "name": "stdout",
     "output_type": "stream",
     "text": [
      "Accuracy is :36.059479553903344\n",
      "\n",
      "Confusion Matrix\n",
      "----------------\n"
     ]
    },
    {
     "name": "stderr",
     "output_type": "stream",
     "text": [
      "/anaconda3/lib/python3.7/site-packages/sklearn/externals/six.py:31: DeprecationWarning: The module is deprecated in version 0.21 and will be removed in version 0.23 since we've dropped support for Python 2.7. Please rely on the official version of six (https://pypi.org/project/six/).\n",
      "  \"(https://pypi.org/project/six/).\", DeprecationWarning)\n"
     ]
    },
    {
     "data": {
      "text/html": [
       "<div>\n",
       "<style scoped>\n",
       "    .dataframe tbody tr th:only-of-type {\n",
       "        vertical-align: middle;\n",
       "    }\n",
       "\n",
       "    .dataframe tbody tr th {\n",
       "        vertical-align: top;\n",
       "    }\n",
       "\n",
       "    .dataframe thead th {\n",
       "        text-align: right;\n",
       "    }\n",
       "</style>\n",
       "<table border=\"1\" class=\"dataframe\">\n",
       "  <thead>\n",
       "    <tr style=\"text-align: right;\">\n",
       "      <th>Predicted</th>\n",
       "      <th>1</th>\n",
       "      <th>2</th>\n",
       "      <th>3</th>\n",
       "      <th>4</th>\n",
       "      <th>5</th>\n",
       "      <th>6</th>\n",
       "      <th>All</th>\n",
       "    </tr>\n",
       "    <tr>\n",
       "      <th>True</th>\n",
       "      <th></th>\n",
       "      <th></th>\n",
       "      <th></th>\n",
       "      <th></th>\n",
       "      <th></th>\n",
       "      <th></th>\n",
       "      <th></th>\n",
       "    </tr>\n",
       "  </thead>\n",
       "  <tbody>\n",
       "    <tr>\n",
       "      <th>1</th>\n",
       "      <td>28</td>\n",
       "      <td>0</td>\n",
       "      <td>24</td>\n",
       "      <td>1</td>\n",
       "      <td>38</td>\n",
       "      <td>73</td>\n",
       "      <td>164</td>\n",
       "    </tr>\n",
       "    <tr>\n",
       "      <th>2</th>\n",
       "      <td>0</td>\n",
       "      <td>51</td>\n",
       "      <td>2</td>\n",
       "      <td>0</td>\n",
       "      <td>1</td>\n",
       "      <td>2</td>\n",
       "      <td>56</td>\n",
       "    </tr>\n",
       "    <tr>\n",
       "      <th>3</th>\n",
       "      <td>1</td>\n",
       "      <td>0</td>\n",
       "      <td>1</td>\n",
       "      <td>0</td>\n",
       "      <td>3</td>\n",
       "      <td>0</td>\n",
       "      <td>5</td>\n",
       "    </tr>\n",
       "    <tr>\n",
       "      <th>4</th>\n",
       "      <td>1</td>\n",
       "      <td>0</td>\n",
       "      <td>3</td>\n",
       "      <td>3</td>\n",
       "      <td>1</td>\n",
       "      <td>2</td>\n",
       "      <td>10</td>\n",
       "    </tr>\n",
       "    <tr>\n",
       "      <th>5</th>\n",
       "      <td>1</td>\n",
       "      <td>0</td>\n",
       "      <td>2</td>\n",
       "      <td>2</td>\n",
       "      <td>1</td>\n",
       "      <td>3</td>\n",
       "      <td>9</td>\n",
       "    </tr>\n",
       "    <tr>\n",
       "      <th>6</th>\n",
       "      <td>1</td>\n",
       "      <td>0</td>\n",
       "      <td>4</td>\n",
       "      <td>0</td>\n",
       "      <td>7</td>\n",
       "      <td>13</td>\n",
       "      <td>25</td>\n",
       "    </tr>\n",
       "    <tr>\n",
       "      <th>All</th>\n",
       "      <td>32</td>\n",
       "      <td>51</td>\n",
       "      <td>36</td>\n",
       "      <td>6</td>\n",
       "      <td>51</td>\n",
       "      <td>93</td>\n",
       "      <td>269</td>\n",
       "    </tr>\n",
       "  </tbody>\n",
       "</table>\n",
       "</div>"
      ],
      "text/plain": [
       "Predicted   1   2   3  4   5   6  All\n",
       "True                                 \n",
       "1          28   0  24  1  38  73  164\n",
       "2           0  51   2  0   1   2   56\n",
       "3           1   0   1  0   3   0    5\n",
       "4           1   0   3  3   1   2   10\n",
       "5           1   0   2  2   1   3    9\n",
       "6           1   0   4  0   7  13   25\n",
       "All        32  51  36  6  51  93  269"
      ]
     },
     "execution_count": 63,
     "metadata": {},
     "output_type": "execute_result"
    }
   ],
   "source": [
    "from sklearn.metrics import accuracy_score, roc_curve, auc\n",
    "from sklearn.externals.six import StringIO  \n",
    "acc = accuracy_score(y_test,y_pred) * 100\n",
    "print(\"Accuracy is :{0}\".format(acc))\n",
    "\n",
    "# # Check the AUC for predictions\n",
    "# false_positive_rate, true_positive_rate, thresholds = roc_curve(y_test, y_pred)\n",
    "# roc_auc = auc(false_positive_rate, true_positive_rate)\n",
    "# print(\"\\nAUC is :{0}\".format(round(roc_auc,2)))\n",
    "\n",
    "# Create and print a confusion matrix \n",
    "print('\\nConfusion Matrix')\n",
    "print('----------------')\n",
    "pd.crosstab(y_test, y_pred, rownames=['True'], colnames=['Predicted'], margins=True)"
   ]
  },
  {
   "cell_type": "code",
   "execution_count": 64,
   "metadata": {},
   "outputs": [
    {
     "name": "stdout",
     "output_type": "stream",
     "text": [
      "[[28  0 24  1 38 73]\n",
      " [ 0 51  2  0  1  2]\n",
      " [ 1  0  1  0  3  0]\n",
      " [ 1  0  3  3  1  2]\n",
      " [ 1  0  2  2  1  3]\n",
      " [ 1  0  4  0  7 13]]\n"
     ]
    },
    {
     "data": {
      "image/png": "[encoded data removed]",
      "text/plain": [
       "<Figure size 432x288 with 2 Axes>"
      ]
     },
     "metadata": {
      "needs_background": "light"
     },
     "output_type": "display_data"
    }
   ],
   "source": [
    "labels = ['Scotland', 'USA', 'Canada', 'Ireland', 'Japan', 'Rest_of_World']\n",
    "def plot_confusion_matrix(y_true, y_pred, classes,\n",
    "                          normalize=False,\n",
    "                          title=None,\n",
    "                          cmap=plt.cm.Blues):\n",
    "\n",
    "    # Compute confusion matrix\n",
    "    cm = confusion_matrix(y_true, y_pred)\n",
    "    print(cm)\n",
    "\n",
    "    fig, ax = plt.subplots()\n",
    "    im = ax.imshow(cm, interpolation='nearest', cmap=cmap)\n",
    "    ax.figure.colorbar(im, ax=ax)\n",
    "    # We want to show all ticks...\n",
    "    ax.set(xticks=np.arange(cm.shape[1]),\n",
    "           yticks=np.arange(cm.shape[0]),\n",
    "           # ... and label them with the respective list entries\n",
    "           xticklabels=classes, yticklabels=classes,\n",
    "           title=title,\n",
    "           ylabel='True label',\n",
    "           xlabel='Predicted label')\n",
    "\n",
    "    # Rotate the tick labels and set their alignment.\n",
    "    plt.setp(ax.get_xticklabels(), rotation=45, ha=\"right\",\n",
    "             rotation_mode=\"anchor\")\n",
    "\n",
    "    # Loop over data dimensions and create text annotations.\n",
    "    fmt = '.2f' if normalize else 'd'\n",
    "    thresh = cm.max() / 2.\n",
    "    for i in range(cm.shape[0]):\n",
    "        for j in range(cm.shape[1]):\n",
    "            ax.text(j, i, format(cm[i, j], fmt),\n",
    "                    ha=\"center\", va=\"center\",\n",
    "                    color=\"white\" if cm[i, j] > thresh else \"black\")\n",
    "    fig.tight_layout()\n",
    "    return ax\n",
    "\n",
    "\n",
    "np.set_printoptions(precision=1)\n",
    "\n",
    "# Plot non-normalized confusion matrix\n",
    "plot_confusion_matrix(y_test, y_pred, classes=labels,\n",
    "                      title='Confusion matrix')\n",
    "\n",
    "\n",
    "plt.show()"
   ]
  },
  {
   "cell_type": "markdown",
   "metadata": {},
   "source": [
    "#### Reference\n",
    "Scotland: 1  \n",
    "USA : 2  \n",
    "Canada: 3  \n",
    "Ireland: 4  \n",
    "Japan: 5  \n",
    "Sweden: 6  \n",
    "India: 7  \n",
    "Taiwan: 8  \n",
    "Wales: 9  \n",
    "Swizerland: 10  \n",
    "Finland: 11  \n",
    "Tasmania: 12  \n",
    "South Africa: 13  \n",
    "Netherlands: 14  \n",
    "England: 15  \n",
    "Belgium: 16  \n",
    "France: 17  \n",
    "Ireland: 18  "
   ]
  },
  {
   "cell_type": "markdown",
   "metadata": {},
   "source": [
    "#### Regression Tree"
   ]
  },
  {
   "cell_type": "code",
   "execution_count": 65,
   "metadata": {},
   "outputs": [
    {
     "data": {
      "text/plain": [
       "DecisionTreeRegressor(criterion='mse', max_depth=7, max_features=None,\n",
       "                      max_leaf_nodes=None, min_impurity_decrease=0.0,\n",
       "                      min_impurity_split=None, min_samples_leaf=2,\n",
       "                      min_samples_split=2, min_weight_fraction_leaf=0.0,\n",
       "                      presort=False, random_state=10, splitter='best')"
      ]
     },
     "execution_count": 65,
     "metadata": {},
     "output_type": "execute_result"
    }
   ],
   "source": [
    "#Regression Tree\n",
    "from sklearn.tree import DecisionTreeRegressor\n",
    "regressor = DecisionTreeRegressor(random_state = 10, max_depth=7, min_samples_leaf = 2)\n",
    "regressor.fit(x_train_resampled, y_train_resampled)"
   ]
  },
  {
   "cell_type": "code",
   "execution_count": 66,
   "metadata": {},
   "outputs": [
    {
     "name": "stdout",
     "output_type": "stream",
     "text": [
      "MSE score: 5.027862091021895\n",
      "R-sq score: -0.9616594349823437\n"
     ]
    }
   ],
   "source": [
    "from sklearn.metrics import mean_squared_error as mse\n",
    "from sklearn.metrics import r2_score\n",
    "\n",
    "# Make predictions and evaluate \n",
    "y_pred = regressor.predict(x_test)\n",
    "print ('MSE score:', mse(y_test, y_pred))\n",
    "print('R-sq score:',r2_score(y_test,y_pred))"
   ]
  },
  {
   "cell_type": "code",
   "execution_count": 67,
   "metadata": {},
   "outputs": [],
   "source": [
    "from sklearn.metrics import accuracy_score, confusion_matrix, classification_report\n",
    "from sklearn.tree import DecisionTreeClassifier\n",
    "from sklearn.ensemble import BaggingClassifier, RandomForestClassifier"
   ]
  },
  {
   "cell_type": "code",
   "execution_count": 68,
   "metadata": {},
   "outputs": [
    {
     "data": {
      "text/plain": [
       "DecisionTreeClassifier(class_weight=None, criterion='gini', max_depth=5,\n",
       "                       max_features=None, max_leaf_nodes=8,\n",
       "                       min_impurity_decrease=0.0, min_impurity_split=None,\n",
       "                       min_samples_leaf=1, min_samples_split=2,\n",
       "                       min_weight_fraction_leaf=0.0, presort=False,\n",
       "                       random_state=None, splitter='best')"
      ]
     },
     "execution_count": 68,
     "metadata": {},
     "output_type": "execute_result"
    }
   ],
   "source": [
    "tree_clf = DecisionTreeClassifier(criterion = \"gini\", max_depth = 5, max_leaf_nodes = 8) \n",
    "tree_clf.fit(x_train_resampled, y_train_resampled)"
   ]
  },
  {
   "cell_type": "code",
   "execution_count": 69,
   "metadata": {},
   "outputs": [
    {
     "data": {
      "text/plain": [
       "array([0. , 0.1, 0. , 0. , 0. , 0.1, 0. , 0.1, 0. , 0. , 0. , 0.7, 0. ,\n",
       "       0. , 0. , 0.1, 0. , 0. , 0. ])"
      ]
     },
     "execution_count": 69,
     "metadata": {},
     "output_type": "execute_result"
    }
   ],
   "source": [
    "tree_clf.feature_importances_"
   ]
  },
  {
   "cell_type": "code",
   "execution_count": 70,
   "metadata": {
    "scrolled": true
   },
   "outputs": [
    {
     "data": {
      "image/png": "[encoded data removed]",
      "text/plain": [
       "<Figure size 576x576 with 1 Axes>"
      ]
     },
     "metadata": {
      "needs_background": "light"
     },
     "output_type": "display_data"
    }
   ],
   "source": [
    "plot_feature_importances(tree_clf)"
   ]
  },
  {
   "cell_type": "code",
   "execution_count": 71,
   "metadata": {},
   "outputs": [
    {
     "name": "stdout",
     "output_type": "stream",
     "text": [
      "[[  0   0  18   1  25 120]\n",
      " [  0  51   1   0   1   3]\n",
      " [  0   0   1   0   3   1]\n",
      " [  0   0   3   3   0   4]\n",
      " [  0   0   2   2   1   4]\n",
      " [  0   0   2   0   5  18]]\n",
      "              precision    recall  f1-score   support\n",
      "\n",
      "           1       0.00      0.00      0.00       164\n",
      "           2       1.00      0.91      0.95        56\n",
      "           3       0.04      0.20      0.06         5\n",
      "           4       0.50      0.30      0.37        10\n",
      "           5       0.03      0.11      0.05         9\n",
      "           6       0.12      0.72      0.21        25\n",
      "\n",
      "    accuracy                           0.28       269\n",
      "   macro avg       0.28      0.37      0.27       269\n",
      "weighted avg       0.24      0.28      0.23       269\n",
      "\n"
     ]
    },
    {
     "name": "stderr",
     "output_type": "stream",
     "text": [
      "/anaconda3/lib/python3.7/site-packages/sklearn/metrics/classification.py:1437: UndefinedMetricWarning: Precision and F-score are ill-defined and being set to 0.0 in labels with no predicted samples.\n",
      "  'precision', 'predicted', average, warn_for)\n",
      "/anaconda3/lib/python3.7/site-packages/sklearn/metrics/classification.py:1437: UndefinedMetricWarning: Precision and F-score are ill-defined and being set to 0.0 in labels with no predicted samples.\n",
      "  'precision', 'predicted', average, warn_for)\n",
      "/anaconda3/lib/python3.7/site-packages/sklearn/metrics/classification.py:1437: UndefinedMetricWarning: Precision and F-score are ill-defined and being set to 0.0 in labels with no predicted samples.\n",
      "  'precision', 'predicted', average, warn_for)\n"
     ]
    }
   ],
   "source": [
    "pred = tree_clf.predict(x_test)\n",
    "print(confusion_matrix(y_test, pred))\n",
    "print(classification_report(y_test, pred))\n"
   ]
  },
  {
   "cell_type": "code",
   "execution_count": 72,
   "metadata": {},
   "outputs": [
    {
     "name": "stdout",
     "output_type": "stream",
     "text": [
      "[[  0   0  18   1  25 120]\n",
      " [  0  51   1   0   1   3]\n",
      " [  0   0   1   0   3   1]\n",
      " [  0   0   3   3   0   4]\n",
      " [  0   0   2   2   1   4]\n",
      " [  0   0   2   0   5  18]]\n"
     ]
    },
    {
     "data": {
      "image/png": "[encoded data removed]",
      "text/plain": [
       "<Figure size 432x288 with 2 Axes>"
      ]
     },
     "metadata": {
      "needs_background": "light"
     },
     "output_type": "display_data"
    }
   ],
   "source": [
    "labels = ['Scotland', 'USA', 'Canada', 'Ireland', 'Japan', 'Rest_of_World']\n",
    " \n",
    "plot_confusion_matrix(y_test, pred, classes=labels,\n",
    "                      title='Confusion matrix')\n",
    "\n",
    "\n",
    "plt.show()"
   ]
  },
  {
   "cell_type": "markdown",
   "metadata": {},
   "source": [
    "#### Reference\n",
    "Scotland: 1  \n",
    "USA : 2  \n",
    "Canada: 3  \n",
    "Ireland: 4  \n",
    "Japan: 5  \n",
    "Sweden: 6  \n",
    "India: 7  \n",
    "Taiwan: 8  \n",
    "Wales: 9  \n",
    "Swizerland: 10  \n",
    "Finland: 11  \n",
    "Tasmania: 12  \n",
    "South Africa: 13  \n",
    "Netherlands: 14  \n",
    "England: 15  \n",
    "Belgium: 16  \n",
    "France: 17  \n",
    "Ireland: 18  "
   ]
  },
  {
   "cell_type": "code",
   "execution_count": null,
   "metadata": {},
   "outputs": [],
   "source": [
    "print(\"Testing Accuracy for Decision Tree Classifier: {:.4}%\".format(accuracy_score(y_test, pred) * 100))\n"
   ]
  },
  {
   "cell_type": "markdown",
   "metadata": {},
   "source": [
    "#### Bagged Tree"
   ]
  },
  {
   "cell_type": "code",
   "execution_count": 73,
   "metadata": {},
   "outputs": [],
   "source": [
    "#bagged test\n",
    "bagged_tree =  BaggingClassifier(DecisionTreeClassifier(criterion='gini', max_depth=5), n_estimators=20)\n"
   ]
  },
  {
   "cell_type": "code",
   "execution_count": 74,
   "metadata": {},
   "outputs": [],
   "source": [
    "clf = bagged_tree.fit(x_train_resampled, y_train_resampled)\n"
   ]
  },
  {
   "cell_type": "code",
   "execution_count": 75,
   "metadata": {},
   "outputs": [
    {
     "data": {
      "text/plain": [
       "0.5197435897435897"
      ]
     },
     "execution_count": 75,
     "metadata": {},
     "output_type": "execute_result"
    }
   ],
   "source": [
    "bagged_tree.score(x_train_resampled, y_train_resampled)\n"
   ]
  },
  {
   "cell_type": "code",
   "execution_count": 76,
   "metadata": {},
   "outputs": [
    {
     "name": "stdout",
     "output_type": "stream",
     "text": [
      "Testing Accuracy for Bagged Tree Test: 49.81%\n"
     ]
    }
   ],
   "source": [
    "print(\"Testing Accuracy for Bagged Tree Test: {:.4}%\".format(bagged_tree.score(x_test, y_test)*100))"
   ]
  },
  {
   "cell_type": "code",
   "execution_count": 77,
   "metadata": {},
   "outputs": [],
   "source": [
    "bagged_pred = bagged_tree.predict(x_test)"
   ]
  },
  {
   "cell_type": "code",
   "execution_count": 79,
   "metadata": {},
   "outputs": [
    {
     "name": "stdout",
     "output_type": "stream",
     "text": [
      "              precision    recall  f1-score   support\n",
      "\n",
      "           1       0.87      0.40      0.54       164\n",
      "           2       1.00      0.91      0.95        56\n",
      "           3       0.04      0.20      0.06         5\n",
      "           4       0.50      0.30      0.37        10\n",
      "           5       0.03      0.11      0.05         9\n",
      "           6       0.17      0.52      0.26        25\n",
      "\n",
      "    accuracy                           0.50       269\n",
      "   macro avg       0.43      0.41      0.37       269\n",
      "weighted avg       0.77      0.50      0.57       269\n",
      "\n"
     ]
    }
   ],
   "source": [
    "\n",
    "print(classification_report(y_test, bagged_pred))"
   ]
  },
  {
   "cell_type": "code",
   "execution_count": 78,
   "metadata": {},
   "outputs": [
    {
     "name": "stdout",
     "output_type": "stream",
     "text": [
      "[[65  0 18  1 25 55]\n",
      " [ 1 51  1  0  1  2]\n",
      " [ 1  0  1  0  3  0]\n",
      " [ 2  0  3  3  0  2]\n",
      " [ 1  0  2  2  1  3]\n",
      " [ 5  0  2  0  5 13]]\n"
     ]
    },
    {
     "data": {
      "image/png": "[encoded data removed]",
      "text/plain": [
       "<Figure size 432x288 with 2 Axes>"
      ]
     },
     "metadata": {
      "needs_background": "light"
     },
     "output_type": "display_data"
    }
   ],
   "source": [
    "labels = ['Scotland', 'USA', 'Canada', 'Ireland', 'Japan', 'Rest_of_World']\n",
    "\n",
    "plot_confusion_matrix(y_test, bagged_pred, classes=labels,\n",
    "                      title='Confusion matrix')\n",
    "plt.show()"
   ]
  },
  {
   "cell_type": "code",
   "execution_count": null,
   "metadata": {},
   "outputs": [],
   "source": []
  },
  {
   "cell_type": "markdown",
   "metadata": {},
   "source": [
    "#### Random Forest"
   ]
  },
  {
   "cell_type": "code",
   "execution_count": 80,
   "metadata": {},
   "outputs": [
    {
     "data": {
      "text/plain": [
       "RandomForestClassifier(bootstrap=True, class_weight=None, criterion='gini',\n",
       "                       max_depth=5, max_features='auto', max_leaf_nodes=20,\n",
       "                       min_impurity_decrease=0.0, min_impurity_split=None,\n",
       "                       min_samples_leaf=1, min_samples_split=2,\n",
       "                       min_weight_fraction_leaf=0.0, n_estimators=100,\n",
       "                       n_jobs=None, oob_score=False, random_state=None,\n",
       "                       verbose=0, warm_start=False)"
      ]
     },
     "execution_count": 80,
     "metadata": {},
     "output_type": "execute_result"
    }
   ],
   "source": [
    "#Random Forest\n",
    "forest = RandomForestClassifier(n_estimators=100, max_depth= 5, max_leaf_nodes = 20)\n",
    "forest.fit(x_train_resampled, y_train_resampled)"
   ]
  },
  {
   "cell_type": "code",
   "execution_count": 81,
   "metadata": {},
   "outputs": [
    {
     "data": {
      "text/plain": [
       "0.5435897435897435"
      ]
     },
     "execution_count": 81,
     "metadata": {},
     "output_type": "execute_result"
    }
   ],
   "source": [
    "forest.score(x_train_resampled, y_train_resampled)"
   ]
  },
  {
   "cell_type": "code",
   "execution_count": 85,
   "metadata": {},
   "outputs": [
    {
     "name": "stdout",
     "output_type": "stream",
     "text": [
      "[[  0   0  18   1  25 120]\n",
      " [  0  51   1   0   1   3]\n",
      " [  0   0   1   0   3   1]\n",
      " [  0   0   3   3   0   4]\n",
      " [  0   0   2   2   1   4]\n",
      " [  0   0   2   0   5  18]]\n",
      "              precision    recall  f1-score   support\n",
      "\n",
      "           1       0.00      0.00      0.00       164\n",
      "           2       1.00      0.91      0.95        56\n",
      "           3       0.04      0.20      0.06         5\n",
      "           4       0.50      0.30      0.37        10\n",
      "           5       0.03      0.11      0.05         9\n",
      "           6       0.12      0.72      0.21        25\n",
      "\n",
      "    accuracy                           0.28       269\n",
      "   macro avg       0.28      0.37      0.27       269\n",
      "weighted avg       0.24      0.28      0.23       269\n",
      "\n"
     ]
    },
    {
     "name": "stderr",
     "output_type": "stream",
     "text": [
      "/anaconda3/lib/python3.7/site-packages/sklearn/metrics/classification.py:1437: UndefinedMetricWarning: Precision and F-score are ill-defined and being set to 0.0 in labels with no predicted samples.\n",
      "  'precision', 'predicted', average, warn_for)\n",
      "/anaconda3/lib/python3.7/site-packages/sklearn/metrics/classification.py:1437: UndefinedMetricWarning: Precision and F-score are ill-defined and being set to 0.0 in labels with no predicted samples.\n",
      "  'precision', 'predicted', average, warn_for)\n",
      "/anaconda3/lib/python3.7/site-packages/sklearn/metrics/classification.py:1437: UndefinedMetricWarning: Precision and F-score are ill-defined and being set to 0.0 in labels with no predicted samples.\n",
      "  'precision', 'predicted', average, warn_for)\n"
     ]
    }
   ],
   "source": [
    "RFpred = tree_clf.predict(x_test)\n",
    "print(confusion_matrix(y_test, RFpred))\n",
    "print(classification_report(y_test, RFpred))"
   ]
  },
  {
   "cell_type": "code",
   "execution_count": 83,
   "metadata": {},
   "outputs": [
    {
     "name": "stdout",
     "output_type": "stream",
     "text": [
      "Testing Accuracy for Random Forest Test: 34.2%\n"
     ]
    }
   ],
   "source": [
    "print(\"Testing Accuracy for Random Forest Test: {:.4}%\".format(forest.score(x_test, y_test)*100))\n"
   ]
  },
  {
   "cell_type": "code",
   "execution_count": 86,
   "metadata": {},
   "outputs": [
    {
     "name": "stdout",
     "output_type": "stream",
     "text": [
      "              precision    recall  f1-score   support\n",
      "\n",
      "           1       0.00      0.00      0.00       164\n",
      "           2       1.00      0.91      0.95        56\n",
      "           3       0.04      0.20      0.06         5\n",
      "           4       0.50      0.30      0.37        10\n",
      "           5       0.03      0.11      0.05         9\n",
      "           6       0.12      0.72      0.21        25\n",
      "\n",
      "    accuracy                           0.28       269\n",
      "   macro avg       0.28      0.37      0.27       269\n",
      "weighted avg       0.24      0.28      0.23       269\n",
      "\n"
     ]
    },
    {
     "name": "stderr",
     "output_type": "stream",
     "text": [
      "/anaconda3/lib/python3.7/site-packages/sklearn/metrics/classification.py:1437: UndefinedMetricWarning: Precision and F-score are ill-defined and being set to 0.0 in labels with no predicted samples.\n",
      "  'precision', 'predicted', average, warn_for)\n",
      "/anaconda3/lib/python3.7/site-packages/sklearn/metrics/classification.py:1437: UndefinedMetricWarning: Precision and F-score are ill-defined and being set to 0.0 in labels with no predicted samples.\n",
      "  'precision', 'predicted', average, warn_for)\n",
      "/anaconda3/lib/python3.7/site-packages/sklearn/metrics/classification.py:1437: UndefinedMetricWarning: Precision and F-score are ill-defined and being set to 0.0 in labels with no predicted samples.\n",
      "  'precision', 'predicted', average, warn_for)\n"
     ]
    }
   ],
   "source": [
    "print(classification_report(y_test, RFpred))"
   ]
  },
  {
   "cell_type": "code",
   "execution_count": 87,
   "metadata": {},
   "outputs": [
    {
     "data": {
      "image/png": "[encoded data removed]",
      "text/plain": [
       "<Figure size 576x576 with 1 Axes>"
      ]
     },
     "metadata": {
      "needs_background": "light"
     },
     "output_type": "display_data"
    }
   ],
   "source": [
    "plot_feature_importances(forest)\n"
   ]
  },
  {
   "cell_type": "code",
   "execution_count": null,
   "metadata": {},
   "outputs": [],
   "source": [
    "#closer look at random forest, smaller trees reduced n_estimators, max features, and max depth\n",
    "forest_2 = RandomForestClassifier(n_estimators = 5, max_features= 10, max_depth= 2)\n",
    "forest_2.fit(x_train_resampled, y_train_resampled)"
   ]
  },
  {
   "cell_type": "code",
   "execution_count": null,
   "metadata": {},
   "outputs": [],
   "source": [
    "rf_tree_1 = forest_2.estimators_[0]\n",
    "plot_feature_importances(rf_tree_1)"
   ]
  },
  {
   "cell_type": "code",
   "execution_count": null,
   "metadata": {},
   "outputs": [],
   "source": [
    "rf_tree_2 = forest_2.estimators_[1]\n",
    "plot_feature_importances(rf_tree_2)"
   ]
  },
  {
   "cell_type": "code",
   "execution_count": null,
   "metadata": {},
   "outputs": [],
   "source": []
  },
  {
   "cell_type": "code",
   "execution_count": 88,
   "metadata": {},
   "outputs": [
    {
     "name": "stdout",
     "output_type": "stream",
     "text": [
      "[[  0   0  18   1  25 120]\n",
      " [  0  51   1   0   1   3]\n",
      " [  0   0   1   0   3   1]\n",
      " [  0   0   3   3   0   4]\n",
      " [  0   0   2   2   1   4]\n",
      " [  0   0   2   0   5  18]]\n"
     ]
    },
    {
     "data": {
      "image/png": "[encoded data removed]",
      "text/plain": [
       "<Figure size 432x288 with 2 Axes>"
      ]
     },
     "metadata": {
      "needs_background": "light"
     },
     "output_type": "display_data"
    }
   ],
   "source": [
    "labels = ['Scotland', 'USA', 'Canada', 'Ireland', 'Japan', 'Rest_of_World']\n",
    "\n",
    "plot_confusion_matrix(y_test, pred, classes=labels,\n",
    "                      title='Confusion matrix')\n",
    "plt.show()"
   ]
  },
  {
   "cell_type": "markdown",
   "metadata": {},
   "source": [
    "#### AdaBoost and Gradient Boosting"
   ]
  },
  {
   "cell_type": "code",
   "execution_count": 89,
   "metadata": {},
   "outputs": [],
   "source": [
    "#Adaboost\n",
    "from sklearn.model_selection import cross_val_score\n",
    "from sklearn.ensemble import AdaBoostClassifier, GradientBoostingClassifier\n",
    "from sklearn.metrics import accuracy_score, f1_score, confusion_matrix, classification_report"
   ]
  },
  {
   "cell_type": "code",
   "execution_count": 90,
   "metadata": {},
   "outputs": [],
   "source": [
    "adaboost_clf = AdaBoostClassifier()\n",
    "gbt_clf = GradientBoostingClassifier(learning_rate =.02)"
   ]
  },
  {
   "cell_type": "code",
   "execution_count": 91,
   "metadata": {},
   "outputs": [
    {
     "data": {
      "text/plain": [
       "AdaBoostClassifier(algorithm='SAMME.R', base_estimator=None, learning_rate=1.0,\n",
       "                   n_estimators=50, random_state=None)"
      ]
     },
     "execution_count": 91,
     "metadata": {},
     "output_type": "execute_result"
    }
   ],
   "source": [
    "adaboost_clf.fit(x_train_resampled, y_train_resampled)\n"
   ]
  },
  {
   "cell_type": "code",
   "execution_count": 92,
   "metadata": {},
   "outputs": [
    {
     "data": {
      "text/plain": [
       "GradientBoostingClassifier(criterion='friedman_mse', init=None,\n",
       "                           learning_rate=0.02, loss='deviance', max_depth=3,\n",
       "                           max_features=None, max_leaf_nodes=None,\n",
       "                           min_impurity_decrease=0.0, min_impurity_split=None,\n",
       "                           min_samples_leaf=1, min_samples_split=2,\n",
       "                           min_weight_fraction_leaf=0.0, n_estimators=100,\n",
       "                           n_iter_no_change=None, presort='auto',\n",
       "                           random_state=None, subsample=1.0, tol=0.0001,\n",
       "                           validation_fraction=0.1, verbose=0,\n",
       "                           warm_start=False)"
      ]
     },
     "execution_count": 92,
     "metadata": {},
     "output_type": "execute_result"
    }
   ],
   "source": [
    "gbt_clf.fit(x_train_resampled, y_train_resampled)\n",
    "#learning_rate = 2"
   ]
  },
  {
   "cell_type": "code",
   "execution_count": 93,
   "metadata": {},
   "outputs": [],
   "source": [
    "adaboost_train_preds = adaboost_clf.predict(x_train_resampled)\n",
    "adaboost_test_preds = adaboost_clf.predict(x_test)\n",
    "gbt_clf_train_preds = gbt_clf.predict(x_train_resampled)\n",
    "gbt_clf_test_preds = gbt_clf.predict(x_test)"
   ]
  },
  {
   "cell_type": "code",
   "execution_count": 94,
   "metadata": {},
   "outputs": [
    {
     "name": "stdout",
     "output_type": "stream",
     "text": [
      "Training Metrics\n",
      "Model: AdaBoost\n",
      "Accuracy: 0.5007692307692307\n",
      "F1-Score: 0.5007692307692307\n",
      "\n",
      "Model: Gradient Boosted Trees\n",
      "Accuracy: 0.5438461538461539\n",
      "F1-Score: 0.5438461538461539\n",
      "\n",
      "Testing Metrics\n",
      "Model: AdaBoost\n",
      "Accuracy: 0.34944237918215615\n",
      "F1-Score: 0.34944237918215615\n",
      "\n",
      "Model: Gradient Boosted Trees\n",
      "Accuracy: 0.3420074349442379\n",
      "F1-Score: 0.3420074349442379\n"
     ]
    }
   ],
   "source": [
    "def display_acc_and_f1_score(true, preds, model_name):\n",
    "    acc = accuracy_score(true, preds)\n",
    "    f1 = f1_score(true, preds, average = 'micro')\n",
    "    print(\"Model: {}\".format(model_name))\n",
    "    print(\"Accuracy: {}\".format(acc))\n",
    "    print(\"F1-Score: {}\".format(f1))\n",
    "    \n",
    "print(\"Training Metrics\")\n",
    "display_acc_and_f1_score(y_train_resampled, adaboost_train_preds, model_name='AdaBoost')\n",
    "print(\"\")\n",
    "display_acc_and_f1_score(y_train_resampled, gbt_clf_train_preds, model_name='Gradient Boosted Trees')\n",
    "print(\"\")\n",
    "print(\"Testing Metrics\")\n",
    "display_acc_and_f1_score(y_test, adaboost_test_preds, model_name='AdaBoost')\n",
    "print(\"\")\n",
    "display_acc_and_f1_score(y_test, gbt_clf_test_preds, model_name='Gradient Boosted Trees')"
   ]
  },
  {
   "cell_type": "code",
   "execution_count": 95,
   "metadata": {},
   "outputs": [
    {
     "name": "stdout",
     "output_type": "stream",
     "text": [
      "              precision    recall  f1-score   support\n",
      "\n",
      "           1       0.88      0.17      0.29       164\n",
      "           2       1.00      0.86      0.92        56\n",
      "           3       0.03      0.20      0.05         5\n",
      "           4       0.50      0.30      0.37        10\n",
      "           5       0.02      0.11      0.03         9\n",
      "           6       0.14      0.52      0.22        25\n",
      "\n",
      "    accuracy                           0.35       269\n",
      "   macro avg       0.43      0.36      0.31       269\n",
      "weighted avg       0.77      0.35      0.40       269\n",
      "\n",
      "              precision    recall  f1-score   support\n",
      "\n",
      "           1       0.91      0.13      0.22       164\n",
      "           2       1.00      0.91      0.95        56\n",
      "           3       0.04      0.20      0.06         5\n",
      "           4       0.50      0.30      0.37        10\n",
      "           5       0.02      0.11      0.03         9\n",
      "           6       0.14      0.60      0.22        25\n",
      "\n",
      "    accuracy                           0.34       269\n",
      "   macro avg       0.43      0.37      0.31       269\n",
      "weighted avg       0.80      0.34      0.37       269\n",
      "\n"
     ]
    }
   ],
   "source": [
    "print(classification_report(y_test, adaboost_test_preds))\n",
    "print(classification_report(y_test, gbt_clf_test_preds))"
   ]
  },
  {
   "cell_type": "code",
   "execution_count": 96,
   "metadata": {},
   "outputs": [
    {
     "data": {
      "text/plain": [
       "array([[28,  0, 24,  1, 38, 73],\n",
       "       [ 0, 48,  5,  0,  1,  2],\n",
       "       [ 1,  0,  1,  0,  3,  0],\n",
       "       [ 1,  0,  3,  3,  1,  2],\n",
       "       [ 1,  0,  2,  2,  1,  3],\n",
       "       [ 1,  0,  4,  0,  7, 13]])"
      ]
     },
     "execution_count": 96,
     "metadata": {},
     "output_type": "execute_result"
    }
   ],
   "source": [
    "adaboost_confusion_matrix = confusion_matrix(y_test, adaboost_test_preds)\n",
    "adaboost_confusion_matrix"
   ]
  },
  {
   "cell_type": "code",
   "execution_count": 97,
   "metadata": {},
   "outputs": [
    {
     "name": "stdout",
     "output_type": "stream",
     "text": [
      "[[28  0 24  1 38 73]\n",
      " [ 0 48  5  0  1  2]\n",
      " [ 1  0  1  0  3  0]\n",
      " [ 1  0  3  3  1  2]\n",
      " [ 1  0  2  2  1  3]\n",
      " [ 1  0  4  0  7 13]]\n"
     ]
    },
    {
     "data": {
      "image/png": "[encoded data removed]",
      "text/plain": [
       "<Figure size 432x288 with 2 Axes>"
      ]
     },
     "metadata": {
      "needs_background": "light"
     },
     "output_type": "display_data"
    }
   ],
   "source": [
    "labels = ['Scotland', 'USA', 'Canada', 'Ireland', 'Japan', 'Rest_of_World']\n",
    "\n",
    "plot_confusion_matrix(y_test, adaboost_test_preds, classes=labels,\n",
    "                      title='Confusion matrix')\n",
    "plt.show()"
   ]
  },
  {
   "cell_type": "code",
   "execution_count": 98,
   "metadata": {},
   "outputs": [
    {
     "data": {
      "text/plain": [
       "array([[21,  0, 18,  1, 38, 86],\n",
       "       [ 0, 51,  1,  0,  1,  3],\n",
       "       [ 0,  0,  1,  0,  3,  1],\n",
       "       [ 1,  0,  3,  3,  1,  2],\n",
       "       [ 0,  0,  2,  2,  1,  4],\n",
       "       [ 1,  0,  2,  0,  7, 15]])"
      ]
     },
     "execution_count": 98,
     "metadata": {},
     "output_type": "execute_result"
    }
   ],
   "source": [
    "gbt_confusion_matrix = confusion_matrix(y_test, gbt_clf_test_preds)\n",
    "gbt_confusion_matrix"
   ]
  },
  {
   "cell_type": "code",
   "execution_count": 99,
   "metadata": {},
   "outputs": [
    {
     "name": "stdout",
     "output_type": "stream",
     "text": [
      "[[21  0 18  1 38 86]\n",
      " [ 0 51  1  0  1  3]\n",
      " [ 0  0  1  0  3  1]\n",
      " [ 1  0  3  3  1  2]\n",
      " [ 0  0  2  2  1  4]\n",
      " [ 1  0  2  0  7 15]]\n"
     ]
    },
    {
     "data": {
      "image/png": "[encoded data removed]",
      "text/plain": [
       "<Figure size 432x288 with 2 Axes>"
      ]
     },
     "metadata": {
      "needs_background": "light"
     },
     "output_type": "display_data"
    }
   ],
   "source": [
    "labels = ['Scotland', 'USA', 'Canada', 'Ireland', 'Japan', 'Rest_of_World']\n",
    "\n",
    "plot_confusion_matrix(y_test, gbt_clf_test_preds, classes=labels,\n",
    "                      title='Confusion matrix')\n",
    "plt.show()"
   ]
  },
  {
   "cell_type": "markdown",
   "metadata": {},
   "source": [
    "#### Reference\n",
    "Scotland: 1  \n",
    "USA : 2  \n",
    "Canada: 3  \n",
    "Ireland: 4  \n",
    "Japan: 5  \n",
    "Sweden: 6  \n",
    "India: 7  \n",
    "Taiwan: 8  \n",
    "Wales: 9  \n",
    "Swizerland: 10  \n",
    "Finland: 11  \n",
    "Tasmania: 12  \n",
    "South Africa: 13  \n",
    "Netherlands: 14  \n",
    "England: 15  \n",
    "Belgium: 16  \n",
    "France: 17  \n",
    "Ireland: 18  "
   ]
  },
  {
   "cell_type": "code",
   "execution_count": 100,
   "metadata": {},
   "outputs": [
    {
     "name": "stdout",
     "output_type": "stream",
     "text": [
      "              precision    recall  f1-score   support\n",
      "\n",
      "           1       0.88      0.17      0.29       164\n",
      "           2       1.00      0.86      0.92        56\n",
      "           3       0.03      0.20      0.05         5\n",
      "           4       0.50      0.30      0.37        10\n",
      "           5       0.02      0.11      0.03         9\n",
      "           6       0.14      0.52      0.22        25\n",
      "\n",
      "    accuracy                           0.35       269\n",
      "   macro avg       0.43      0.36      0.31       269\n",
      "weighted avg       0.77      0.35      0.40       269\n",
      "\n"
     ]
    }
   ],
   "source": [
    "adaboost_classification_report = classification_report(y_test, adaboost_test_preds)\n",
    "print(adaboost_classification_report)"
   ]
  },
  {
   "cell_type": "code",
   "execution_count": 118,
   "metadata": {},
   "outputs": [
    {
     "ename": "NameError",
     "evalue": "name 'cross_val_predict' is not defined",
     "output_type": "error",
     "traceback": [
      "\u001b[0;31m---------------------------------------------------------------------------\u001b[0m",
      "\u001b[0;31mNameError\u001b[0m                                 Traceback (most recent call last)",
      "\u001b[0;32m<ipython-input-118-f14759890d91>\u001b[0m in \u001b[0;36m<module>\u001b[0;34m\u001b[0m\n\u001b[0;32m----> 1\u001b[0;31m \u001b[0mpredictions\u001b[0m \u001b[0;34m=\u001b[0m \u001b[0mcross_val_predict\u001b[0m\u001b[0;34m(\u001b[0m\u001b[0mcvp\u001b[0m\u001b[0;34m,\u001b[0m \u001b[0madaboost_test_preds\u001b[0m\u001b[0;34m,\u001b[0m \u001b[0my_test\u001b[0m\u001b[0;34m,\u001b[0m \u001b[0mcv\u001b[0m\u001b[0;34m=\u001b[0m\u001b[0;34m'prediction_proba'\u001b[0m\u001b[0;34m)\u001b[0m\u001b[0;34m\u001b[0m\u001b[0;34m\u001b[0m\u001b[0m\n\u001b[0m",
      "\u001b[0;31mNameError\u001b[0m: name 'cross_val_predict' is not defined"
     ]
    }
   ],
   "source": [
    "predictions = cross_val_predict(cvp, adaboost_test_preds, y_test, cv='prediction_proba')"
   ]
  },
  {
   "cell_type": "code",
   "execution_count": 101,
   "metadata": {},
   "outputs": [
    {
     "name": "stdout",
     "output_type": "stream",
     "text": [
      "              precision    recall  f1-score   support\n",
      "\n",
      "           1       0.91      0.13      0.22       164\n",
      "           2       1.00      0.91      0.95        56\n",
      "           3       0.04      0.20      0.06         5\n",
      "           4       0.50      0.30      0.37        10\n",
      "           5       0.02      0.11      0.03         9\n",
      "           6       0.14      0.60      0.22        25\n",
      "\n",
      "    accuracy                           0.34       269\n",
      "   macro avg       0.43      0.37      0.31       269\n",
      "weighted avg       0.80      0.34      0.37       269\n",
      "\n"
     ]
    }
   ],
   "source": [
    "gbt_classification_report = classification_report(y_test, gbt_clf_test_preds)\n",
    "print(gbt_classification_report)"
   ]
  },
  {
   "cell_type": "markdown",
   "metadata": {},
   "source": [
    "#### XG Boost"
   ]
  },
  {
   "cell_type": "code",
   "execution_count": 102,
   "metadata": {},
   "outputs": [],
   "source": [
    "#xgboost\n",
    "from sklearn.model_selection import GridSearchCV\n",
    "import xgboost as xgb"
   ]
  },
  {
   "cell_type": "code",
   "execution_count": 103,
   "metadata": {},
   "outputs": [
    {
     "name": "stdout",
     "output_type": "stream",
     "text": [
      "Training Accuracy: 54.77%\n",
      "Validation accuracy: 33.46%\n"
     ]
    }
   ],
   "source": [
    "clf = xgb.XGBClassifier()\n",
    "xgb = clf.fit(np.array(x_train_resampled), np.array(y_train_resampled))\n",
    "training_preds = clf.predict(np.array(x_train_resampled))\n",
    "xgb_preds = clf.predict(np.array(x_test))\n",
    "training_accuracy = accuracy_score(np.array(y_train_resampled), training_preds)\n",
    "val_accuracy = accuracy_score(np.array(y_test), val_preds)\n",
    "\n",
    "print(\"Training Accuracy: {:.4}%\".format(training_accuracy * 100))\n",
    "print(\"Validation accuracy: {:.4}%\".format(val_accuracy * 100))"
   ]
  },
  {
   "cell_type": "code",
   "execution_count": 104,
   "metadata": {},
   "outputs": [
    {
     "name": "stdout",
     "output_type": "stream",
     "text": [
      "Precision Score: 0.3345724907063197\n",
      "Recall Score: 0.3345724907063197\n",
      "Accuracy Score: 0.3345724907063197\n",
      "F1 Score: 0.3345724907063197\n"
     ]
    }
   ],
   "source": [
    "print_metrics(y_test, val_preds)"
   ]
  },
  {
   "cell_type": "code",
   "execution_count": 105,
   "metadata": {},
   "outputs": [
    {
     "name": "stdout",
     "output_type": "stream",
     "text": [
      "              precision    recall  f1-score   support\n",
      "\n",
      "           1       0.88      0.17      0.29       164\n",
      "           2       1.00      0.91      0.95        56\n",
      "           3       0.03      0.20      0.05         5\n",
      "           4       0.10      0.40      0.15        10\n",
      "           5       0.02      0.11      0.03         9\n",
      "           6       0.09      0.20      0.12        25\n",
      "\n",
      "    accuracy                           0.33       269\n",
      "   macro avg       0.35      0.33      0.27       269\n",
      "weighted avg       0.75      0.33      0.39       269\n",
      "\n"
     ]
    }
   ],
   "source": [
    "print(classification_report(y_test, val_preds))\n"
   ]
  },
  {
   "cell_type": "code",
   "execution_count": 106,
   "metadata": {},
   "outputs": [
    {
     "data": {
      "image/png": "[encoded data removed]",
      "text/plain": [
       "<Figure size 576x576 with 1 Axes>"
      ]
     },
     "metadata": {
      "needs_background": "light"
     },
     "output_type": "display_data"
    }
   ],
   "source": [
    "plot_feature_importances(xgb)"
   ]
  },
  {
   "cell_type": "code",
   "execution_count": 107,
   "metadata": {},
   "outputs": [
    {
     "name": "stdout",
     "output_type": "stream",
     "text": [
      "[[28  0 24 24 38 50]\n",
      " [ 0 51  2  1  1  1]\n",
      " [ 1  0  1  0  3  0]\n",
      " [ 1  0  3  4  1  1]\n",
      " [ 1  0  2  5  1  0]\n",
      " [ 1  0  4  8  7  5]]\n"
     ]
    },
    {
     "data": {
      "image/png": "[encoded data removed]",
      "text/plain": [
       "<Figure size 432x288 with 2 Axes>"
      ]
     },
     "metadata": {
      "needs_background": "light"
     },
     "output_type": "display_data"
    }
   ],
   "source": [
    "labels = ['Scotland', 'USA', 'Canada', 'Ireland', 'Japan', 'Rest_of_World']\n",
    "\n",
    "plot_confusion_matrix(y_test, val_preds, classes=labels,\n",
    "                      title='Confusion matrix')\n",
    "plt.show()"
   ]
  },
  {
   "cell_type": "code",
   "execution_count": 110,
   "metadata": {},
   "outputs": [],
   "source": [
    "param_grid = {\n",
    "    \"learning_rate\": [.05],\n",
    "    'max_depth': [6],\n",
    "    'min_child_weight': [10],\n",
    "    'subsample': [ 0.7],\n",
    "    'n_estimators': [5, 30, 100, 250],\n",
    "}"
   ]
  },
  {
   "cell_type": "code",
   "execution_count": 111,
   "metadata": {},
   "outputs": [
    {
     "name": "stderr",
     "output_type": "stream",
     "text": [
      "/anaconda3/lib/python3.7/site-packages/sklearn/model_selection/_split.py:1978: FutureWarning: The default value of cv will change from 3 to 5 in version 0.22. Specify it explicitly to silence this warning.\n",
      "  warnings.warn(CV_WARNING, FutureWarning)\n"
     ]
    },
    {
     "name": "stdout",
     "output_type": "stream",
     "text": [
      "Grid Search found the following optimal parameters: \n",
      "learning_rate: 0.05\n",
      "max_depth: 6\n",
      "min_child_weight: 10\n",
      "n_estimators: 100\n",
      "subsample: 0.7\n",
      "\n",
      "Training Accuracy: 54.72%\n",
      "Validation accuracy: 33.46%\n"
     ]
    }
   ],
   "source": [
    "grid_clf = GridSearchCV(clf, param_grid, scoring='accuracy', cv=None, n_jobs=1)\n",
    "grid_clf.fit(x_train_resampled, y_train_resampled)\n",
    "\n",
    "best_parameters = grid_clf.best_params_\n",
    "\n",
    "print(\"Grid Search found the following optimal parameters: \")\n",
    "for param_name in sorted(best_parameters.keys()):\n",
    "    print(\"%s: %r\" % (param_name, best_parameters[param_name]))\n",
    "\n",
    "training_preds = grid_clf.predict(np.array(x_train_resampled))\n",
    "val_preds = grid_clf.predict(np.array(x_test))\n",
    "training_accuracy = accuracy_score(np.array(y_train_resampled), training_preds)\n",
    "val_accuracy = accuracy_score(np.array(y_test), val_preds)\n",
    "\n",
    "print(\"\")\n",
    "print(\"Training Accuracy: {:.4}%\".format(training_accuracy * 100))\n",
    "print(\"Validation accuracy: {:.4}%\".format(val_accuracy * 100))"
   ]
  },
  {
   "cell_type": "code",
   "execution_count": 112,
   "metadata": {},
   "outputs": [
    {
     "name": "stderr",
     "output_type": "stream",
     "text": [
      "/anaconda3/lib/python3.7/site-packages/sklearn/svm/base.py:193: FutureWarning: The default value of gamma will change from 'auto' to 'scale' in version 0.22 to account better for unscaled features. Set gamma explicitly to 'auto' or 'scale' to avoid this warning.\n",
      "  \"avoid this warning.\", FutureWarning)\n"
     ]
    },
    {
     "data": {
      "text/plain": [
       "SVC(C=1.0, cache_size=200, class_weight=None, coef0=0.0,\n",
       "    decision_function_shape='ovr', degree=3, gamma='auto_deprecated',\n",
       "    kernel='rbf', max_iter=-1, probability=False, random_state=None,\n",
       "    shrinking=True, tol=0.001, verbose=False)"
      ]
     },
     "execution_count": 112,
     "metadata": {},
     "output_type": "execute_result"
    }
   ],
   "source": [
    "from sklearn import svm\n",
    "\n",
    "clf = svm.SVC(kernel='rbf')\n",
    "clf.fit(x_train_resampled, y_train_resampled)"
   ]
  },
  {
   "cell_type": "code",
   "execution_count": 114,
   "metadata": {},
   "outputs": [
    {
     "data": {
      "text/plain": [
       "array([[0., 0., 0., ..., 0., 0., 0.],\n",
       "       [0., 0., 0., ..., 0., 0., 0.],\n",
       "       [0., 0., 0., ..., 0., 0., 0.],\n",
       "       ...,\n",
       "       [0., 0., 0., ..., 0., 0., 0.],\n",
       "       [0., 0., 0., ..., 0., 0., 0.],\n",
       "       [0., 0., 0., ..., 0., 0., 0.]])"
      ]
     },
     "execution_count": 114,
     "metadata": {},
     "output_type": "execute_result"
    }
   ],
   "source": [
    "clf.support_vectors_\n"
   ]
  },
  {
   "cell_type": "code",
   "execution_count": 115,
   "metadata": {},
   "outputs": [
    {
     "data": {
      "text/plain": [
       "0.36059479553903345"
      ]
     },
     "execution_count": 115,
     "metadata": {},
     "output_type": "execute_result"
    }
   ],
   "source": [
    "clf.score(x_test,y_test)"
   ]
  },
  {
   "cell_type": "code",
   "execution_count": 116,
   "metadata": {},
   "outputs": [
    {
     "ename": "ValueError",
     "evalue": "Classification metrics can't handle a mix of multiclass and multilabel-indicator targets",
     "output_type": "error",
     "traceback": [
      "\u001b[0;31m---------------------------------------------------------------------------\u001b[0m",
      "\u001b[0;31mValueError\u001b[0m                                Traceback (most recent call last)",
      "\u001b[0;32m<ipython-input-116-4ed6c9216869>\u001b[0m in \u001b[0;36m<module>\u001b[0;34m\u001b[0m\n\u001b[0;32m----> 1\u001b[0;31m \u001b[0mprint\u001b[0m\u001b[0;34m(\u001b[0m\u001b[0mclassification_report\u001b[0m\u001b[0;34m(\u001b[0m\u001b[0my_test\u001b[0m\u001b[0;34m,\u001b[0m \u001b[0mx_test\u001b[0m\u001b[0;34m)\u001b[0m\u001b[0;34m)\u001b[0m\u001b[0;34m\u001b[0m\u001b[0;34m\u001b[0m\u001b[0m\n\u001b[0m",
      "\u001b[0;32m/anaconda3/lib/python3.7/site-packages/sklearn/metrics/classification.py\u001b[0m in \u001b[0;36mclassification_report\u001b[0;34m(y_true, y_pred, labels, target_names, sample_weight, digits, output_dict)\u001b[0m\n\u001b[1;32m   1850\u001b[0m     \"\"\"\n\u001b[1;32m   1851\u001b[0m \u001b[0;34m\u001b[0m\u001b[0m\n\u001b[0;32m-> 1852\u001b[0;31m     \u001b[0my_type\u001b[0m\u001b[0;34m,\u001b[0m \u001b[0my_true\u001b[0m\u001b[0;34m,\u001b[0m \u001b[0my_pred\u001b[0m \u001b[0;34m=\u001b[0m \u001b[0m_check_targets\u001b[0m\u001b[0;34m(\u001b[0m\u001b[0my_true\u001b[0m\u001b[0;34m,\u001b[0m \u001b[0my_pred\u001b[0m\u001b[0;34m)\u001b[0m\u001b[0;34m\u001b[0m\u001b[0;34m\u001b[0m\u001b[0m\n\u001b[0m\u001b[1;32m   1853\u001b[0m \u001b[0;34m\u001b[0m\u001b[0m\n\u001b[1;32m   1854\u001b[0m     \u001b[0mlabels_given\u001b[0m \u001b[0;34m=\u001b[0m \u001b[0;32mTrue\u001b[0m\u001b[0;34m\u001b[0m\u001b[0;34m\u001b[0m\u001b[0m\n",
      "\u001b[0;32m/anaconda3/lib/python3.7/site-packages/sklearn/metrics/classification.py\u001b[0m in \u001b[0;36m_check_targets\u001b[0;34m(y_true, y_pred)\u001b[0m\n\u001b[1;32m     79\u001b[0m     \u001b[0;32mif\u001b[0m \u001b[0mlen\u001b[0m\u001b[0;34m(\u001b[0m\u001b[0my_type\u001b[0m\u001b[0;34m)\u001b[0m \u001b[0;34m>\u001b[0m \u001b[0;36m1\u001b[0m\u001b[0;34m:\u001b[0m\u001b[0;34m\u001b[0m\u001b[0;34m\u001b[0m\u001b[0m\n\u001b[1;32m     80\u001b[0m         raise ValueError(\"Classification metrics can't handle a mix of {0} \"\n\u001b[0;32m---> 81\u001b[0;31m                          \"and {1} targets\".format(type_true, type_pred))\n\u001b[0m\u001b[1;32m     82\u001b[0m \u001b[0;34m\u001b[0m\u001b[0m\n\u001b[1;32m     83\u001b[0m     \u001b[0;31m# We can't have more than one value on y_type => The set is no more needed\u001b[0m\u001b[0;34m\u001b[0m\u001b[0;34m\u001b[0m\u001b[0;34m\u001b[0m\u001b[0m\n",
      "\u001b[0;31mValueError\u001b[0m: Classification metrics can't handle a mix of multiclass and multilabel-indicator targets"
     ]
    }
   ],
   "source": [
    "print(classification_report(y_test, x_test))"
   ]
  },
  {
   "cell_type": "code",
   "execution_count": null,
   "metadata": {},
   "outputs": [],
   "source": [
    "labels = ['Scotland', 'USA', 'Canada', 'Ireland', 'Japan', 'Rest_of_World']\n",
    "\n",
    "plot_confusion_matrix(y_test, x_test, classes=labels,\n",
    "                      title='Confusion matrix')\n",
    "plt.show()"
   ]
  },
  {
   "cell_type": "code",
   "execution_count": 119,
   "metadata": {},
   "outputs": [
    {
     "data": {
      "text/plain": [
       "DummyClassifier(constant=None, random_state=None, strategy='uniform')"
      ]
     },
     "execution_count": 119,
     "metadata": {},
     "output_type": "execute_result"
    }
   ],
   "source": [
    "from sklearn.dummy import DummyClassifier\n",
    "\n",
    "\n",
    "dummy = DummyClassifier(strategy = 'uniform')\n",
    "dummy.fit(x_train_resampled, y_train_resampled)"
   ]
  },
  {
   "cell_type": "code",
   "execution_count": 120,
   "metadata": {},
   "outputs": [],
   "source": [
    "dummypred = dummy.predict(x_test)"
   ]
  },
  {
   "cell_type": "code",
   "execution_count": 121,
   "metadata": {},
   "outputs": [
    {
     "name": "stdout",
     "output_type": "stream",
     "text": [
      "Precision Score: 0.12639405204460966\n",
      "Recall Score: 0.12639405204460966\n",
      "Accuracy Score: 0.12639405204460966\n",
      "F1 Score: 0.12639405204460966\n"
     ]
    }
   ],
   "source": [
    "print_metrics(y_test, dummypred)\n",
    "  "
   ]
  },
  {
   "cell_type": "code",
   "execution_count": 1,
   "metadata": {},
   "outputs": [
    {
     "data": {
      "text/plain": [
       "'/Users/hamiltonchang/Documents/Coding/Section01/nyc-mhtn-ds-071519-lectures/Project_5'"
      ]
     },
     "execution_count": 1,
     "metadata": {},
     "output_type": "execute_result"
    }
   ],
   "source": [
    "pwd"
   ]
  },
  {
   "cell_type": "code",
   "execution_count": null,
   "metadata": {},
   "outputs": [],
   "source": []
  }
 ],
 "metadata": {
  "kernelspec": {
   "display_name": "Python 3",
   "language": "python",
   "name": "python3"
  },
  "language_info": {
   "codemirror_mode": {
    "name": "ipython",
    "version": 3
   },
   "file_extension": ".py",
   "mimetype": "text/x-python",
   "name": "python",
   "nbconvert_exporter": "python",
   "pygments_lexer": "ipython3",
   "version": "3.7.3"
  }
 },
 "nbformat": 4,
 "nbformat_minor": 2
}
