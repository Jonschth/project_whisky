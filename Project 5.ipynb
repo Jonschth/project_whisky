{
 "cells": [
  {
   "cell_type": "markdown",
   "metadata": {},
   "source": [
    "# Importing Libraries"
   ]
  },
  {
   "cell_type": "code",
   "execution_count": 1,
   "metadata": {},
   "outputs": [
    {
     "name": "stderr",
     "output_type": "stream",
     "text": [
      "Using TensorFlow backend.\n"
     ]
    }
   ],
   "source": [
    "import matplotlib.pyplot as plt\n",
    "from scipy.stats import norm\n",
    "from scipy import stats\n",
    "import seaborn as sns\n",
    "import numpy as np \n",
    "import pandas as pd\n",
    "from sklearn.model_selection import train_test_split\n",
    "from sklearn.linear_model import LinearRegression\n",
    "from sklearn import metrics\n",
    "%matplotlib inline\n",
    "pd.set_option('display.max_columns', 300)\n",
    "pd.set_option('display.max_rows', 950)\n",
    "from statsmodels.formula.api import ols\n",
    "from sklearn.preprocessing import StandardScaler\n",
    "from sklearn.tree import DecisionTreeClassifier \n",
    "from sklearn.metrics import accuracy_score, roc_curve, auc\n",
    "from sklearn import tree \n",
    "from IPython.display import Image  \n",
    "from sklearn.metrics import confusion_matrix \n",
    "from sklearn.metrics import classification_report\n",
    "from sklearn.metrics import precision_score, recall_score, accuracy_score, f1_score\n",
    "\n",
    "import pydotplus\n",
    "from imblearn.over_sampling import SMOTE\n",
    "from tqdm import tqdm\n",
    "import time"
   ]
  },
  {
   "cell_type": "markdown",
   "metadata": {},
   "source": [
    "# Reading and Cleaning Data"
   ]
  },
  {
   "cell_type": "code",
   "execution_count": 3,
   "metadata": {},
   "outputs": [],
   "source": [
    "df = pd.read_csv('whiskey_database.csv')\n",
    "df.rename(columns = {'#': 'reviews', \n",
    "                     'Super Cluster': 'supercluster', \n",
    "                     'Meta Critic':'metascore'}, inplace = True)"
   ]
  },
  {
   "cell_type": "code",
   "execution_count": 4,
   "metadata": {},
   "outputs": [
    {
     "data": {
      "text/html": [
       "<div>\n",
       "<style scoped>\n",
       "    .dataframe tbody tr th:only-of-type {\n",
       "        vertical-align: middle;\n",
       "    }\n",
       "\n",
       "    .dataframe tbody tr th {\n",
       "        vertical-align: top;\n",
       "    }\n",
       "\n",
       "    .dataframe thead th {\n",
       "        text-align: right;\n",
       "    }\n",
       "</style>\n",
       "<table border=\"1\" class=\"dataframe\">\n",
       "  <thead>\n",
       "    <tr style=\"text-align: right;\">\n",
       "      <th></th>\n",
       "      <th>Whisky</th>\n",
       "      <th>metascore</th>\n",
       "      <th>STDEV</th>\n",
       "      <th>reviews</th>\n",
       "      <th>Cost</th>\n",
       "      <th>Class</th>\n",
       "      <th>supercluster</th>\n",
       "      <th>Cluster</th>\n",
       "      <th>Country</th>\n",
       "      <th>Type</th>\n",
       "    </tr>\n",
       "  </thead>\n",
       "  <tbody>\n",
       "    <tr>\n",
       "      <th>0</th>\n",
       "      <td>Ledaig 42yo Dusgadh</td>\n",
       "      <td>9.46</td>\n",
       "      <td>0.24</td>\n",
       "      <td>3</td>\n",
       "      <td>$$$$$+</td>\n",
       "      <td>SingleMalt-like</td>\n",
       "      <td>ABC</td>\n",
       "      <td>C</td>\n",
       "      <td>Scotland</td>\n",
       "      <td>Malt</td>\n",
       "    </tr>\n",
       "    <tr>\n",
       "      <th>1</th>\n",
       "      <td>Laphroaig 27yo 57.4% 1980-2007 (OB, 5 Oloroso ...</td>\n",
       "      <td>9.38</td>\n",
       "      <td>0.20</td>\n",
       "      <td>4</td>\n",
       "      <td>$$$$$+</td>\n",
       "      <td>SingleMalt-like</td>\n",
       "      <td>ABC</td>\n",
       "      <td>C</td>\n",
       "      <td>Scotland</td>\n",
       "      <td>Malt</td>\n",
       "    </tr>\n",
       "    <tr>\n",
       "      <th>2</th>\n",
       "      <td>Glenfarclas 40yo</td>\n",
       "      <td>9.27</td>\n",
       "      <td>0.26</td>\n",
       "      <td>15</td>\n",
       "      <td>$$$$$+</td>\n",
       "      <td>SingleMalt-like</td>\n",
       "      <td>ABC</td>\n",
       "      <td>A</td>\n",
       "      <td>Scotland</td>\n",
       "      <td>Malt</td>\n",
       "    </tr>\n",
       "    <tr>\n",
       "      <th>3</th>\n",
       "      <td>Glengoyne 25yo</td>\n",
       "      <td>9.20</td>\n",
       "      <td>0.23</td>\n",
       "      <td>14</td>\n",
       "      <td>$$$$$+</td>\n",
       "      <td>SingleMalt-like</td>\n",
       "      <td>ABC</td>\n",
       "      <td>A</td>\n",
       "      <td>Scotland</td>\n",
       "      <td>Malt</td>\n",
       "    </tr>\n",
       "    <tr>\n",
       "      <th>4</th>\n",
       "      <td>Amrut Spectrum (Batch 1)</td>\n",
       "      <td>9.18</td>\n",
       "      <td>0.25</td>\n",
       "      <td>10</td>\n",
       "      <td>$$$$$</td>\n",
       "      <td>SingleMalt-like</td>\n",
       "      <td>ABC</td>\n",
       "      <td>C</td>\n",
       "      <td>India</td>\n",
       "      <td>Malt</td>\n",
       "    </tr>\n",
       "  </tbody>\n",
       "</table>\n",
       "</div>"
      ],
      "text/plain": [
       "                                              Whisky metascore STDEV  reviews  \\\n",
       "0                                Ledaig 42yo Dusgadh      9.46  0.24        3   \n",
       "1  Laphroaig 27yo 57.4% 1980-2007 (OB, 5 Oloroso ...      9.38  0.20        4   \n",
       "2                                   Glenfarclas 40yo      9.27  0.26       15   \n",
       "3                                     Glengoyne 25yo      9.20  0.23       14   \n",
       "4                           Amrut Spectrum (Batch 1)      9.18  0.25       10   \n",
       "\n",
       "     Cost            Class supercluster Cluster   Country  Type  \n",
       "0  $$$$$+  SingleMalt-like          ABC       C  Scotland  Malt  \n",
       "1  $$$$$+  SingleMalt-like          ABC       C  Scotland  Malt  \n",
       "2  $$$$$+  SingleMalt-like          ABC       A  Scotland  Malt  \n",
       "3  $$$$$+  SingleMalt-like          ABC       A  Scotland  Malt  \n",
       "4   $$$$$  SingleMalt-like          ABC       C     India  Malt  "
      ]
     },
     "execution_count": 4,
     "metadata": {},
     "output_type": "execute_result"
    }
   ],
   "source": [
    "df.head()"
   ]
  },
  {
   "cell_type": "markdown",
   "metadata": {},
   "source": [
    "## Analyzing Data Distributions"
   ]
  },
  {
   "cell_type": "code",
   "execution_count": 4,
   "metadata": {},
   "outputs": [
    {
     "data": {
      "image/png": "[encoded data removed]",
      "text/plain": [
       "<Figure size 893.16x595.44 with 1 Axes>"
      ]
     },
     "metadata": {
      "needs_background": "light"
     },
     "output_type": "display_data"
    }
   ],
   "source": [
    "sns_plot = sns.catplot(x=\"Country\", kind=\"count\", palette=\"RdBu_r\", data=df, height=8.27, aspect=15/10);\n",
    "sns_plot.savefig(\"output.png\")"
   ]
  },
  {
   "cell_type": "code",
   "execution_count": null,
   "metadata": {},
   "outputs": [],
   "source": [
    "#irish whiskey popularity declined until there were only 3 distilleries left by 1990.  More are coming back,\n",
    "#but many have not been operating long enough to produce a saleable product."
   ]
  },
  {
   "cell_type": "code",
   "execution_count": null,
   "metadata": {},
   "outputs": [],
   "source": [
    "sns_plot2 = sns.catplot(x=\"Cluster\", kind=\"count\", palette=\"magma\", data=df, height=8.27, aspect=15/8.27);\n",
    "sns_plot2.savefig(\"clusters.png\")"
   ]
  },
  {
   "cell_type": "code",
   "execution_count": null,
   "metadata": {},
   "outputs": [],
   "source": [
    "sns_plot3 = sns.catplot(x=\"Type\", kind=\"count\", palette=\"PuBuGn_d\", data=df, height=8.27, aspect=15/8.27);\n",
    "sns_plot3.savefig(\"type.png\")"
   ]
  },
  {
   "cell_type": "code",
   "execution_count": null,
   "metadata": {},
   "outputs": [],
   "source": [
    "sns.catplot(x=\"Class\", kind=\"count\", palette=\"ch:.25\", data=df, height=8.27, aspect=15/8.27);"
   ]
  },
  {
   "cell_type": "code",
   "execution_count": null,
   "metadata": {},
   "outputs": [],
   "source": [
    "sns.catplot(x=\"supercluster\", kind=\"count\", palette=\"ch:3,.5,dark=.3\", data=df, height=8.27, aspect=15/8.27);"
   ]
  },
  {
   "cell_type": "markdown",
   "metadata": {},
   "source": [
    "### Relabeling Countries to Balance Classes"
   ]
  },
  {
   "cell_type": "code",
   "execution_count": 4,
   "metadata": {},
   "outputs": [],
   "source": [
    "df['Country'] = df['Country'].replace({'Sweden': 'rest_of_world', 'India': 'rest_of_world', 'Taiwan': 'rest_of_world', 'Wales': 'rest_of_world', 'Switzerland': 'rest_of_world', 'Finland': 'rest_of_world', 'Tasmania': 'rest_of_world', 'South Africa': 'rest_of_world', 'Netherlands': 'rest_of_world', 'England': 'rest_of_world', 'Belgium': 'rest_of_world', 'France': 'rest_of_world', 'Irish': 'rest_of_world'})\n",
    "\n",
    "\n"
   ]
  },
  {
   "cell_type": "code",
   "execution_count": 5,
   "metadata": {},
   "outputs": [],
   "source": [
    "df['Country'] = df['Country'].map({'Scotland': 1, 'USA': 2, 'Canada': 3, 'Ireland': 4, 'Japan': 5, 'rest_of_world': 6})\n"
   ]
  },
  {
   "cell_type": "code",
   "execution_count": null,
   "metadata": {},
   "outputs": [],
   "source": [
    "#RO will be B\n",
    "#R1 will be A\n",
    "#R2 will be E\n",
    "#R3 will be C\n",
    "#R4 will be F"
   ]
  },
  {
   "cell_type": "markdown",
   "metadata": {},
   "source": [
    "### Relabeling Bourbons"
   ]
  },
  {
   "cell_type": "code",
   "execution_count": 6,
   "metadata": {},
   "outputs": [
    {
     "data": {
      "text/plain": [
       "Whisky            0\n",
       "metascore         0\n",
       "STDEV             0\n",
       "reviews           0\n",
       "Cost              1\n",
       "Class             0\n",
       "supercluster    254\n",
       "Cluster           0\n",
       "Country           0\n",
       "Type              0\n",
       "dtype: int64"
      ]
     },
     "execution_count": 6,
     "metadata": {},
     "output_type": "execute_result"
    }
   ],
   "source": [
    "df['Cluster'] = df['Cluster'].replace({'R2': 'E', 'R1': 'A', 'R4': 'F', 'R3': 'C', 'R0': 'B'})\n",
    "df.dropna(subset=['Cluster'], how='any', inplace = True, axis = 0)\n",
    "df.isna().sum()"
   ]
  },
  {
   "cell_type": "code",
   "execution_count": 7,
   "metadata": {},
   "outputs": [],
   "source": [
    "#set target as country\n",
    "target = df.Country"
   ]
  },
  {
   "cell_type": "markdown",
   "metadata": {},
   "source": [
    "### Dummying Up"
   ]
  },
  {
   "cell_type": "code",
   "execution_count": 8,
   "metadata": {},
   "outputs": [],
   "source": [
    "dfDummies = pd.get_dummies(df.Cluster)\n",
    "feature_cluster = dfDummies\n",
    "df = pd.concat([df, dfDummies], axis =1 )"
   ]
  },
  {
   "cell_type": "code",
   "execution_count": 9,
   "metadata": {},
   "outputs": [],
   "source": [
    "dfDummies = pd.get_dummies(df.Class)\n",
    "df = pd.concat([df, dfDummies], axis =1 )"
   ]
  },
  {
   "cell_type": "code",
   "execution_count": 10,
   "metadata": {},
   "outputs": [],
   "source": [
    "dfDummies = pd.get_dummies(df.Type)\n",
    "df = pd.concat([df, dfDummies], axis =1 )"
   ]
  },
  {
   "cell_type": "markdown",
   "metadata": {},
   "source": [
    "### Final Features"
   ]
  },
  {
   "cell_type": "code",
   "execution_count": 11,
   "metadata": {},
   "outputs": [],
   "source": [
    "df = df.drop(['metascore', 'STDEV', 'reviews', 'Country'], axis = 1)\n",
    "df.drop(['Whisky', 'Cost', 'supercluster'], axis = 1, inplace = True)\n",
    "df.drop(['Class', 'Cluster', 'Type'], axis =1, inplace = True)"
   ]
  },
  {
   "cell_type": "markdown",
   "metadata": {},
   "source": [
    "# Setting up Data for Models"
   ]
  },
  {
   "cell_type": "markdown",
   "metadata": {},
   "source": [
    "## Helper Functions"
   ]
  },
  {
   "cell_type": "markdown",
   "metadata": {},
   "source": [
    "### Plot Feature Importances"
   ]
  },
  {
   "cell_type": "code",
   "execution_count": 12,
   "metadata": {},
   "outputs": [],
   "source": [
    "def plot_feature_importances(model):\n",
    "    n_features = x_train.shape[1]\n",
    "    plt.figure(figsize=(8,8))\n",
    "    plt.barh(range(n_features), model.feature_importances_, align='center') \n",
    "    plt.yticks(np.arange(n_features), x_train.columns.values) \n",
    "    plt.xlabel(\"Feature importance\")\n",
    "    plt.ylabel(\"Feature\")"
   ]
  },
  {
   "cell_type": "markdown",
   "metadata": {},
   "source": [
    "### Print Metrics"
   ]
  },
  {
   "cell_type": "code",
   "execution_count": 13,
   "metadata": {},
   "outputs": [],
   "source": [
    "def print_metrics(labels, preds):\n",
    "    print(\"Precision Score: {}\".format(precision_score(labels, preds, average='macro')))\n",
    "    print(\"Recall Score: {}\".format(recall_score(labels, preds, average='macro')))\n",
    "    print(\"Accuracy Score: {}\".format(accuracy_score(labels, preds)))\n",
    "    print(\"F1 Score: {}\".format(f1_score(labels, preds, average='macro')))"
   ]
  },
  {
   "cell_type": "markdown",
   "metadata": {},
   "source": [
    "### Plot Confusion Matrix - Pretty"
   ]
  },
  {
   "cell_type": "code",
   "execution_count": 14,
   "metadata": {},
   "outputs": [],
   "source": [
    "labels = ['Scotland', 'USA', 'Canada', 'Ireland', 'Japan', 'Rest_of_World']\n",
    "def plot_confusion_matrix(y_true, y_pred, classes, normalize=False, title=None, cmap=plt.cm.Blues):\n",
    "    # Compute confusion matrix\n",
    "    cmat = pd.crosstab(y_true, y_pred, rownames=['True'], colnames=['Predicted'], margins=True)\n",
    "    print(cmat)\n",
    "    cm = confusion_matrix(y_true, y_pred)\n",
    "    fig, ax = plt.subplots()\n",
    "    im = ax.imshow(cm, interpolation='nearest', cmap=cmap)\n",
    "    ax.figure.colorbar(im, ax=ax)\n",
    "    # We want to show all ticks...\n",
    "    ax.set(xticks=np.arange(cm.shape[1]),\n",
    "           yticks=np.arange(cm.shape[0]),\n",
    "           # ... and label them with the respective list entries\n",
    "           xticklabels=classes, yticklabels=classes,\n",
    "           title=title,\n",
    "           ylabel='True label',\n",
    "           xlabel='Predicted label')\n",
    "    # Rotate the tick labels and set their alignment.\n",
    "    plt.setp(ax.get_xticklabels(), rotation=45, ha=\"right\",\n",
    "             rotation_mode=\"anchor\")\n",
    "\n",
    "    # Loop over data dimensions and create text annotations.\n",
    "    fmt = '.2f' if normalize else 'd'\n",
    "    thresh = cm.max() / 2.\n",
    "    for i in range(cm.shape[0]):\n",
    "        for j in range(cm.shape[1]):\n",
    "            ax.text(j, i, format(cm[i, j], fmt),\n",
    "                    ha=\"center\", va=\"center\",\n",
    "                    color=\"white\" if cm[i, j] > thresh else \"black\")\n",
    "    fig.tight_layout()\n",
    "    return ax\n",
    "np.set_printoptions(precision=1)\n",
    "# Plot non-normalized confusion matrix\n",
    "\n",
    "plt.show()"
   ]
  },
  {
   "cell_type": "markdown",
   "metadata": {},
   "source": [
    "## Prepping data"
   ]
  },
  {
   "cell_type": "code",
   "execution_count": 15,
   "metadata": {},
   "outputs": [],
   "source": [
    "#variables include flavor, type, class\n",
    "x = df\n",
    "y = target"
   ]
  },
  {
   "cell_type": "markdown",
   "metadata": {},
   "source": [
    "### Train Test Split"
   ]
  },
  {
   "cell_type": "code",
   "execution_count": 16,
   "metadata": {},
   "outputs": [],
   "source": [
    "from sklearn.model_selection import train_test_split\n",
    "x_train, x_test, y_train, y_test = train_test_split(x,y, test_size = .2, random_state = 42)"
   ]
  },
  {
   "cell_type": "markdown",
   "metadata": {},
   "source": [
    "### Smote"
   ]
  },
  {
   "cell_type": "code",
   "execution_count": 17,
   "metadata": {},
   "outputs": [
    {
     "name": "stdout",
     "output_type": "stream",
     "text": [
      "1    814\n",
      "2    263\n",
      "6    137\n",
      "5     58\n",
      "4     43\n",
      "3     29\n",
      "Name: Country, dtype: int64\n",
      "5    650\n",
      "3    650\n",
      "1    650\n",
      "6    650\n",
      "4    650\n",
      "2    650\n",
      "dtype: int64\n"
     ]
    }
   ],
   "source": [
    "#SMOOOOOTTTEEEDDD!!!!\n",
    "print(y.value_counts()) #Previous original class distribution\n",
    "smote = SMOTE()\n",
    "x_train_resampled, y_train_resampled = smote.fit_sample(x_train, y_train) \n",
    "print(pd.Series(y_train_resampled).value_counts()) #Preview synthetic sample class distribution"
   ]
  },
  {
   "cell_type": "code",
   "execution_count": 19,
   "metadata": {},
   "outputs": [
    {
     "name": "stdout",
     "output_type": "stream",
     "text": [
      "(3900, 19)\n",
      "(269, 19)\n",
      "(3900,)\n",
      "(269,)\n"
     ]
    }
   ],
   "source": [
    "print(x_train_resampled.shape)\n",
    "print(x_test.shape)\n",
    "\n",
    "print(y_train_resampled.shape)\n",
    "print(y_test.shape)"
   ]
  },
  {
   "cell_type": "markdown",
   "metadata": {},
   "source": [
    "# Running Models"
   ]
  },
  {
   "cell_type": "markdown",
   "metadata": {},
   "source": [
    "## Dummy Classifer"
   ]
  },
  {
   "cell_type": "code",
   "execution_count": 20,
   "metadata": {},
   "outputs": [
    {
     "name": "stdout",
     "output_type": "stream",
     "text": [
      "Precision Score: 0.17645610631756103\n",
      "Recall Score: 0.22400858175248425\n",
      "Accuracy Score: 0.17100371747211895\n",
      "F1 Score: 0.128964161384758\n"
     ]
    }
   ],
   "source": [
    "from sklearn.dummy import DummyClassifier\n",
    "\n",
    "dummy = DummyClassifier(strategy = 'uniform')\n",
    "dummy.fit(x_train_resampled, y_train_resampled)\n",
    "dummypred = dummy.predict(x_test)\n",
    "print_metrics(y_test, dummypred)"
   ]
  },
  {
   "cell_type": "markdown",
   "metadata": {},
   "source": [
    "## KNN"
   ]
  },
  {
   "cell_type": "code",
   "execution_count": 21,
   "metadata": {},
   "outputs": [
    {
     "name": "stdout",
     "output_type": "stream",
     "text": [
      "Precision Score: 0.38680347013680344\n",
      "Recall Score: 0.38247677119628337\n",
      "Accuracy Score: 0.7434944237918215\n",
      "F1 Score: 0.3702860977961064\n"
     ]
    },
    {
     "name": "stderr",
     "output_type": "stream",
     "text": [
      "/anaconda3/lib/python3.7/site-packages/sklearn/metrics/classification.py:1437: UndefinedMetricWarning: Precision is ill-defined and being set to 0.0 in labels with no predicted samples.\n",
      "  'precision', 'predicted', average, warn_for)\n",
      "/anaconda3/lib/python3.7/site-packages/sklearn/metrics/classification.py:1437: UndefinedMetricWarning: F-score is ill-defined and being set to 0.0 in labels with no predicted samples.\n",
      "  'precision', 'predicted', average, warn_for)\n"
     ]
    }
   ],
   "source": [
    "#K Nearest Neighbor test\n",
    "#Average set to macro to account for true average, not weighted.\n",
    "from sklearn.neighbors import KNeighborsClassifier\n",
    "\n",
    "knn = KNeighborsClassifier(n_neighbors=5)\n",
    "from sklearn.metrics import precision_score, recall_score, accuracy_score, f1_score\n",
    "knnfit = knn.fit(x_train_resampled, y_train_resampled)\n",
    "test_preds5 = knn.predict(x_test)\n",
    "def print_metrics(labels, preds):\n",
    "    print(\"Precision Score: {}\".format(precision_score(labels, preds, average='macro')))\n",
    "    print(\"Recall Score: {}\".format(recall_score(labels, preds, average='macro')))\n",
    "    print(\"Accuracy Score: {}\".format(accuracy_score(labels, preds)))\n",
    "    print(\"F1 Score: {}\".format(f1_score(labels, preds, average='macro')))\n",
    "    \n",
    "print_metrics(y_test, test_preds5)"
   ]
  },
  {
   "cell_type": "code",
   "execution_count": 22,
   "metadata": {},
   "outputs": [
    {
     "name": "stdout",
     "output_type": "stream",
     "text": [
      "Predicted    1   2   3  4  All\n",
      "True                          \n",
      "1          145   0  18  1  164\n",
      "2            4  51   1  0   56\n",
      "3            4   0   1  0    5\n",
      "4            4   0   3  3   10\n",
      "5            5   0   2  2    9\n",
      "6           23   0   2  0   25\n",
      "All        185  51  27  6  269\n"
     ]
    },
    {
     "data": {
      "text/plain": [
       "<matplotlib.axes._subplots.AxesSubplot at 0x110a1c5f8>"
      ]
     },
     "execution_count": 22,
     "metadata": {},
     "output_type": "execute_result"
    },
    {
     "data": {
      "image/png": "[encoded data removed]",
      "text/plain": [
       "<Figure size 432x288 with 2 Axes>"
      ]
     },
     "metadata": {
      "needs_background": "light"
     },
     "output_type": "display_data"
    }
   ],
   "source": [
    "plot_confusion_matrix(y_test, test_preds5, classes=labels,\n",
    "                      title='Confusion matrix')"
   ]
  },
  {
   "cell_type": "code",
   "execution_count": 23,
   "metadata": {},
   "outputs": [
    {
     "name": "stdout",
     "output_type": "stream",
     "text": [
      "               precision    recall  f1-score   support\n",
      "\n",
      "     Scotland       0.78      0.88      0.83       164\n",
      "          USA       1.00      0.91      0.95        56\n",
      "       Canada       0.04      0.20      0.06         5\n",
      "      Ireland       0.50      0.30      0.37        10\n",
      "        Japan       0.00      0.00      0.00         9\n",
      "Rest_of_World       0.00      0.00      0.00        25\n",
      "\n",
      "     accuracy                           0.74       269\n",
      "    macro avg       0.39      0.38      0.37       269\n",
      " weighted avg       0.71      0.74      0.72       269\n",
      "\n"
     ]
    },
    {
     "name": "stderr",
     "output_type": "stream",
     "text": [
      "/anaconda3/lib/python3.7/site-packages/sklearn/metrics/classification.py:1437: UndefinedMetricWarning: Precision and F-score are ill-defined and being set to 0.0 in labels with no predicted samples.\n",
      "  'precision', 'predicted', average, warn_for)\n",
      "/anaconda3/lib/python3.7/site-packages/sklearn/metrics/classification.py:1437: UndefinedMetricWarning: Precision and F-score are ill-defined and being set to 0.0 in labels with no predicted samples.\n",
      "  'precision', 'predicted', average, warn_for)\n",
      "/anaconda3/lib/python3.7/site-packages/sklearn/metrics/classification.py:1437: UndefinedMetricWarning: Precision and F-score are ill-defined and being set to 0.0 in labels with no predicted samples.\n",
      "  'precision', 'predicted', average, warn_for)\n"
     ]
    }
   ],
   "source": [
    "from sklearn.metrics import classification_report\n",
    "\n",
    "print(classification_report(y_test, test_preds5, target_names=labels))\n"
   ]
  },
  {
   "cell_type": "code",
   "execution_count": 24,
   "metadata": {},
   "outputs": [
    {
     "name": "stdout",
     "output_type": "stream",
     "text": [
      "Precision Score: 0.38680347013680344\n",
      "Recall Score: 0.38247677119628337\n",
      "Accuracy Score: 0.7434944237918215\n",
      "F1 Score: 0.3702860977961064\n"
     ]
    },
    {
     "name": "stderr",
     "output_type": "stream",
     "text": [
      "/anaconda3/lib/python3.7/site-packages/sklearn/metrics/classification.py:1437: UndefinedMetricWarning: Precision is ill-defined and being set to 0.0 in labels with no predicted samples.\n",
      "  'precision', 'predicted', average, warn_for)\n",
      "/anaconda3/lib/python3.7/site-packages/sklearn/metrics/classification.py:1437: UndefinedMetricWarning: F-score is ill-defined and being set to 0.0 in labels with no predicted samples.\n",
      "  'precision', 'predicted', average, warn_for)\n"
     ]
    }
   ],
   "source": [
    "#knn with weight distance and ball_tree algo\n",
    "knn = KNeighborsClassifier(n_neighbors=5, weights = 'distance', algorithm='ball_tree')\n",
    "from sklearn.metrics import precision_score, recall_score, accuracy_score, f1_score\n",
    "knnfit = knn.fit(x_train_resampled, y_train_resampled)\n",
    "test_predsball = knn.predict(x_test)\n",
    "def print_metrics(labels, preds):\n",
    "    print(\"Precision Score: {}\".format(precision_score(labels, preds, average='macro')))\n",
    "    print(\"Recall Score: {}\".format(recall_score(labels, preds, average='macro')))\n",
    "    print(\"Accuracy Score: {}\".format(accuracy_score(labels, preds)))\n",
    "    print(\"F1 Score: {}\".format(f1_score(labels, preds, average='macro')))\n",
    "    \n",
    "print_metrics(y_test, test_predsball)"
   ]
  },
  {
   "cell_type": "code",
   "execution_count": 25,
   "metadata": {},
   "outputs": [
    {
     "name": "stdout",
     "output_type": "stream",
     "text": [
      "Predicted    1   2   3  4  All\n",
      "True                          \n",
      "1          145   0  18  1  164\n",
      "2            4  51   1  0   56\n",
      "3            4   0   1  0    5\n",
      "4            4   0   3  3   10\n",
      "5            5   0   2  2    9\n",
      "6           23   0   2  0   25\n",
      "All        185  51  27  6  269\n"
     ]
    },
    {
     "data": {
      "text/plain": [
       "<matplotlib.axes._subplots.AxesSubplot at 0x110c1c4e0>"
      ]
     },
     "execution_count": 25,
     "metadata": {},
     "output_type": "execute_result"
    },
    {
     "data": {
      "image/png": "[encoded data removed]",
      "text/plain": [
       "<Figure size 432x288 with 2 Axes>"
      ]
     },
     "metadata": {
      "needs_background": "light"
     },
     "output_type": "display_data"
    }
   ],
   "source": [
    "plot_confusion_matrix(y_test, test_predsball, classes=labels,\n",
    "                      title='Confusion matrix')"
   ]
  },
  {
   "cell_type": "code",
   "execution_count": 26,
   "metadata": {},
   "outputs": [
    {
     "name": "stdout",
     "output_type": "stream",
     "text": [
      "Precision Score: 0.38680347013680344\n",
      "Recall Score: 0.38247677119628337\n",
      "Accuracy Score: 0.7434944237918215\n",
      "F1 Score: 0.3702860977961064\n"
     ]
    },
    {
     "name": "stderr",
     "output_type": "stream",
     "text": [
      "/anaconda3/lib/python3.7/site-packages/sklearn/metrics/classification.py:1437: UndefinedMetricWarning: Precision is ill-defined and being set to 0.0 in labels with no predicted samples.\n",
      "  'precision', 'predicted', average, warn_for)\n",
      "/anaconda3/lib/python3.7/site-packages/sklearn/metrics/classification.py:1437: UndefinedMetricWarning: F-score is ill-defined and being set to 0.0 in labels with no predicted samples.\n",
      "  'precision', 'predicted', average, warn_for)\n"
     ]
    }
   ],
   "source": [
    "#KNN with Euclidian distance\n",
    "knn = KNeighborsClassifier(n_neighbors=3, metric = 'euclidean')\n",
    "from sklearn.metrics import precision_score, recall_score, accuracy_score, f1_score\n",
    "knnfit = knn.fit(x_train_resampled, y_train_resampled)\n",
    "test_preds3euc = knn.predict(x_test)\n",
    "def print_metrics(labels, preds):\n",
    "    print(\"Precision Score: {}\".format(precision_score(labels, preds, average='macro')))\n",
    "    print(\"Recall Score: {}\".format(recall_score(labels, preds, average='macro')))\n",
    "    print(\"Accuracy Score: {}\".format(accuracy_score(labels, preds)))\n",
    "    print(\"F1 Score: {}\".format(f1_score(labels, preds, average='macro')))\n",
    "    \n",
    "print_metrics(y_test, test_preds3euc)"
   ]
  },
  {
   "cell_type": "code",
   "execution_count": 27,
   "metadata": {},
   "outputs": [
    {
     "name": "stdout",
     "output_type": "stream",
     "text": [
      "Predicted    1   2   3  4  All\n",
      "True                          \n",
      "1          145   0  18  1  164\n",
      "2            4  51   1  0   56\n",
      "3            4   0   1  0    5\n",
      "4            4   0   3  3   10\n",
      "5            5   0   2  2    9\n",
      "6           23   0   2  0   25\n",
      "All        185  51  27  6  269\n"
     ]
    },
    {
     "data": {
      "text/plain": [
       "<matplotlib.axes._subplots.AxesSubplot at 0x1a261ac5c0>"
      ]
     },
     "execution_count": 27,
     "metadata": {},
     "output_type": "execute_result"
    },
    {
     "data": {
      "image/png": "[encoded data removed]",
      "text/plain": [
       "<Figure size 432x288 with 2 Axes>"
      ]
     },
     "metadata": {
      "needs_background": "light"
     },
     "output_type": "display_data"
    }
   ],
   "source": [
    "plot_confusion_matrix(y_test, test_preds3euc, classes=labels,\n",
    "                      title='Confusion matrix')"
   ]
  },
  {
   "cell_type": "code",
   "execution_count": 28,
   "metadata": {},
   "outputs": [
    {
     "name": "stderr",
     "output_type": "stream",
     "text": [
      "/anaconda3/lib/python3.7/site-packages/sklearn/metrics/classification.py:1437: UndefinedMetricWarning: F-score is ill-defined and being set to 0.0 in labels with no predicted samples.\n",
      "  'precision', 'predicted', average, warn_for)\n",
      "/anaconda3/lib/python3.7/site-packages/sklearn/metrics/classification.py:1437: UndefinedMetricWarning: F-score is ill-defined and being set to 0.0 in labels with no predicted samples.\n",
      "  'precision', 'predicted', average, warn_for)\n",
      "/anaconda3/lib/python3.7/site-packages/sklearn/metrics/classification.py:1437: UndefinedMetricWarning: F-score is ill-defined and being set to 0.0 in labels with no predicted samples.\n",
      "  'precision', 'predicted', average, warn_for)\n",
      "/anaconda3/lib/python3.7/site-packages/sklearn/metrics/classification.py:1437: UndefinedMetricWarning: F-score is ill-defined and being set to 0.0 in labels with no predicted samples.\n",
      "  'precision', 'predicted', average, warn_for)\n",
      "/anaconda3/lib/python3.7/site-packages/sklearn/metrics/classification.py:1437: UndefinedMetricWarning: F-score is ill-defined and being set to 0.0 in labels with no predicted samples.\n",
      "  'precision', 'predicted', average, warn_for)\n",
      "/anaconda3/lib/python3.7/site-packages/sklearn/metrics/classification.py:1437: UndefinedMetricWarning: F-score is ill-defined and being set to 0.0 in labels with no predicted samples.\n",
      "  'precision', 'predicted', average, warn_for)\n",
      "/anaconda3/lib/python3.7/site-packages/sklearn/metrics/classification.py:1437: UndefinedMetricWarning: F-score is ill-defined and being set to 0.0 in labels with no predicted samples.\n",
      "  'precision', 'predicted', average, warn_for)\n",
      "/anaconda3/lib/python3.7/site-packages/sklearn/metrics/classification.py:1437: UndefinedMetricWarning: F-score is ill-defined and being set to 0.0 in labels with no predicted samples.\n",
      "  'precision', 'predicted', average, warn_for)\n",
      "/anaconda3/lib/python3.7/site-packages/sklearn/metrics/classification.py:1437: UndefinedMetricWarning: F-score is ill-defined and being set to 0.0 in labels with no predicted samples.\n",
      "  'precision', 'predicted', average, warn_for)\n",
      "/anaconda3/lib/python3.7/site-packages/sklearn/metrics/classification.py:1437: UndefinedMetricWarning: F-score is ill-defined and being set to 0.0 in labels with no predicted samples.\n",
      "  'precision', 'predicted', average, warn_for)\n"
     ]
    },
    {
     "name": "stdout",
     "output_type": "stream",
     "text": [
      "Best Value for k: 3\n",
      "F1-Score: 0.3702860977961064\n"
     ]
    },
    {
     "name": "stderr",
     "output_type": "stream",
     "text": [
      "/anaconda3/lib/python3.7/site-packages/sklearn/metrics/classification.py:1437: UndefinedMetricWarning: F-score is ill-defined and being set to 0.0 in labels with no predicted samples.\n",
      "  'precision', 'predicted', average, warn_for)\n",
      "/anaconda3/lib/python3.7/site-packages/sklearn/metrics/classification.py:1437: UndefinedMetricWarning: F-score is ill-defined and being set to 0.0 in labels with no predicted samples.\n",
      "  'precision', 'predicted', average, warn_for)\n",
      "/anaconda3/lib/python3.7/site-packages/sklearn/metrics/classification.py:1437: UndefinedMetricWarning: F-score is ill-defined and being set to 0.0 in labels with no predicted samples.\n",
      "  'precision', 'predicted', average, warn_for)\n"
     ]
    }
   ],
   "source": [
    "#Finding best KNN neighbor via F1 score\n",
    "def find_best_k(X_train, y_train, X_test, y_test, min_k=1, max_k=25):\n",
    "    best_k = 0\n",
    "    best_score = 0.0\n",
    "    for k in range(min_k, max_k+1, 2):\n",
    "        knn = KNeighborsClassifier(n_neighbors=k)\n",
    "        knn.fit(X_train, y_train)\n",
    "        preds = knn.predict(X_test)\n",
    "        f1 = f1_score(y_test, preds, average = 'macro')\n",
    "        if f1 > best_score:\n",
    "            best_k = k\n",
    "            best_score = f1\n",
    "    \n",
    "    print(\"Best Value for k: {}\".format(best_k))\n",
    "    print(\"F1-Score: {}\".format(best_score))\n",
    "\n",
    "find_best_k(x_train_resampled, y_train_resampled, x_test, y_test)"
   ]
  },
  {
   "cell_type": "code",
   "execution_count": 29,
   "metadata": {},
   "outputs": [],
   "source": [
    "#rerun KNN with best\n",
    "from sklearn.neighbors import KNeighborsClassifier\n",
    "def updateKNN(x, x_train, y_train):\n",
    "    knn = KNeighborsClassifier(n_neighbors=x)\n",
    "\n",
    "    knn.fit(x_train, y_train)\n",
    "    test_preds1 = knn.predict(x_test)    \n",
    "    print_metrics(y_test, test_preds1)\n",
    "\n"
   ]
  },
  {
   "cell_type": "code",
   "execution_count": 30,
   "metadata": {
    "scrolled": true
   },
   "outputs": [
    {
     "name": "stdout",
     "output_type": "stream",
     "text": [
      "Precision Score: 0.3458527512059521\n",
      "Recall Score: 0.36938734030197445\n",
      "Accuracy Score: 0.654275092936803\n",
      "F1 Score: 0.34089302457299814\n"
     ]
    },
    {
     "name": "stderr",
     "output_type": "stream",
     "text": [
      "/anaconda3/lib/python3.7/site-packages/sklearn/metrics/classification.py:1437: UndefinedMetricWarning: Precision is ill-defined and being set to 0.0 in labels with no predicted samples.\n",
      "  'precision', 'predicted', average, warn_for)\n",
      "/anaconda3/lib/python3.7/site-packages/sklearn/metrics/classification.py:1437: UndefinedMetricWarning: F-score is ill-defined and being set to 0.0 in labels with no predicted samples.\n",
      "  'precision', 'predicted', average, warn_for)\n"
     ]
    }
   ],
   "source": [
    "updateKNN(1, x_train_resampled, y_train_resampled)"
   ]
  },
  {
   "cell_type": "code",
   "execution_count": 31,
   "metadata": {},
   "outputs": [],
   "source": [
    "test_preds1 = knn.predict(x_test)"
   ]
  },
  {
   "cell_type": "code",
   "execution_count": 32,
   "metadata": {},
   "outputs": [
    {
     "name": "stdout",
     "output_type": "stream",
     "text": [
      "Predicted    1   2   3  4  All\n",
      "True                          \n",
      "1          145   0  18  1  164\n",
      "2            4  51   1  0   56\n",
      "3            4   0   1  0    5\n",
      "4            4   0   3  3   10\n",
      "5            5   0   2  2    9\n",
      "6           23   0   2  0   25\n",
      "All        185  51  27  6  269\n"
     ]
    },
    {
     "data": {
      "text/plain": [
       "<matplotlib.axes._subplots.AxesSubplot at 0x1a26316a58>"
      ]
     },
     "execution_count": 32,
     "metadata": {},
     "output_type": "execute_result"
    },
    {
     "data": {
      "image/png": "[encoded data removed]",
      "text/plain": [
       "<Figure size 432x288 with 2 Axes>"
      ]
     },
     "metadata": {
      "needs_background": "light"
     },
     "output_type": "display_data"
    }
   ],
   "source": [
    "plot_confusion_matrix(y_test, test_preds1, classes=labels,\n",
    "                      title='Confusion matrix')"
   ]
  },
  {
   "cell_type": "code",
   "execution_count": 33,
   "metadata": {},
   "outputs": [
    {
     "name": "stdout",
     "output_type": "stream",
     "text": [
      "Fitting 3 folds for each of 24 candidates, totalling 72 fits\n"
     ]
    },
    {
     "name": "stderr",
     "output_type": "stream",
     "text": [
      "[Parallel(n_jobs=-1)]: Using backend LokyBackend with 4 concurrent workers.\n",
      "[Parallel(n_jobs=-1)]: Done  42 tasks      | elapsed:    4.2s\n",
      "[Parallel(n_jobs=-1)]: Done  72 out of  72 | elapsed:    5.7s finished\n"
     ]
    }
   ],
   "source": [
    "#GridSearch for best KNN\n",
    "\n",
    "from sklearn.model_selection import GridSearchCV\n",
    "\n",
    "grid_params = {\n",
    "    'n_neighbors': [3,5,11,19],\n",
    "    'weights': ['uniform', 'distance'],\n",
    "    'p' : [1,2,3]\n",
    "}\n",
    "\n",
    "gs = GridSearchCV(\n",
    "    knn,\n",
    "    grid_params,\n",
    "    verbose = 1,\n",
    "    cv = 3,\n",
    "    n_jobs = -1)\n",
    "\n",
    "gs_results = gs.fit(x_train_resampled, y_train_resampled)"
   ]
  },
  {
   "cell_type": "code",
   "execution_count": 34,
   "metadata": {},
   "outputs": [
    {
     "data": {
      "text/plain": [
       "{'n_neighbors': 5, 'p': 1, 'weights': 'uniform'}"
      ]
     },
     "execution_count": 34,
     "metadata": {},
     "output_type": "execute_result"
    }
   ],
   "source": [
    "gs_results.best_score_\n",
    "gs_results.best_estimator_\n",
    "gs_results.best_params_"
   ]
  },
  {
   "cell_type": "code",
   "execution_count": 35,
   "metadata": {},
   "outputs": [
    {
     "name": "stdout",
     "output_type": "stream",
     "text": [
      "Precision Score: 0.31664975477760865\n",
      "Recall Score: 0.366623112659698\n",
      "Accuracy Score: 0.6282527881040892\n",
      "F1 Score: 0.3150429719260741\n"
     ]
    },
    {
     "name": "stderr",
     "output_type": "stream",
     "text": [
      "/anaconda3/lib/python3.7/site-packages/sklearn/metrics/classification.py:1437: UndefinedMetricWarning: Precision is ill-defined and being set to 0.0 in labels with no predicted samples.\n",
      "  'precision', 'predicted', average, warn_for)\n",
      "/anaconda3/lib/python3.7/site-packages/sklearn/metrics/classification.py:1437: UndefinedMetricWarning: F-score is ill-defined and being set to 0.0 in labels with no predicted samples.\n",
      "  'precision', 'predicted', average, warn_for)\n"
     ]
    }
   ],
   "source": [
    "#Rerun of KNN with GridSearch Results\n",
    "knn = KNeighborsClassifier(n_neighbors=11, weights = 'distance', p = 1)\n",
    "from sklearn.metrics import precision_score, recall_score, accuracy_score, f1_score\n",
    "knnfit = knn.fit(x_train_resampled, y_train_resampled)\n",
    "test_preds = knn.predict(x_test)\n",
    "def print_metrics(labels, preds):\n",
    "    print(\"Precision Score: {}\".format(precision_score(labels, preds, average='macro')))\n",
    "    print(\"Recall Score: {}\".format(recall_score(labels, preds, average='macro')))\n",
    "    print(\"Accuracy Score: {}\".format(accuracy_score(labels, preds)))\n",
    "    print(\"F1 Score: {}\".format(f1_score(labels, preds, average='macro')))\n",
    "    \n",
    "print_metrics(y_test, test_preds)"
   ]
  },
  {
   "cell_type": "code",
   "execution_count": 36,
   "metadata": {},
   "outputs": [
    {
     "name": "stdout",
     "output_type": "stream",
     "text": [
      "               precision    recall  f1-score   support\n",
      "\n",
      "     Scotland       0.77      0.69      0.73       164\n",
      "          USA       1.00      0.91      0.95        56\n",
      "       Canada       0.04      0.20      0.06         5\n",
      "      Ireland       0.09      0.40      0.15        10\n",
      "        Japan       0.00      0.00      0.00         9\n",
      "Rest_of_World       0.00      0.00      0.00        25\n",
      "\n",
      "     accuracy                           0.63       269\n",
      "    macro avg       0.32      0.37      0.32       269\n",
      " weighted avg       0.68      0.63      0.65       269\n",
      "\n"
     ]
    },
    {
     "name": "stderr",
     "output_type": "stream",
     "text": [
      "/anaconda3/lib/python3.7/site-packages/sklearn/metrics/classification.py:1437: UndefinedMetricWarning: Precision and F-score are ill-defined and being set to 0.0 in labels with no predicted samples.\n",
      "  'precision', 'predicted', average, warn_for)\n",
      "/anaconda3/lib/python3.7/site-packages/sklearn/metrics/classification.py:1437: UndefinedMetricWarning: Precision and F-score are ill-defined and being set to 0.0 in labels with no predicted samples.\n",
      "  'precision', 'predicted', average, warn_for)\n",
      "/anaconda3/lib/python3.7/site-packages/sklearn/metrics/classification.py:1437: UndefinedMetricWarning: Precision and F-score are ill-defined and being set to 0.0 in labels with no predicted samples.\n",
      "  'precision', 'predicted', average, warn_for)\n"
     ]
    }
   ],
   "source": [
    "from sklearn.metrics import classification_report\n",
    "\n",
    "print(classification_report(y_test, test_preds, target_names=labels))"
   ]
  },
  {
   "cell_type": "code",
   "execution_count": 37,
   "metadata": {},
   "outputs": [
    {
     "name": "stdout",
     "output_type": "stream",
     "text": [
      "Predicted    1   2   3   4  All\n",
      "True                           \n",
      "1          113   0  18  33  164\n",
      "2            3  51   1   1   56\n",
      "3            4   0   1   0    5\n",
      "4            3   0   3   4   10\n",
      "5            5   0   2   2    9\n",
      "6           18   0   2   5   25\n",
      "All        146  51  27  45  269\n"
     ]
    },
    {
     "data": {
      "image/png": "[encoded data removed]",
      "text/plain": [
       "<Figure size 432x288 with 2 Axes>"
      ]
     },
     "metadata": {
      "needs_background": "light"
     },
     "output_type": "display_data"
    }
   ],
   "source": [
    "plot_confusion_matrix(y_test, test_preds, classes=labels,\n",
    "                      title='KNN Confusion matrix')\n",
    "\n",
    "plt.savefig(\"knn_confusion.png\")\n",
    "plt.show()"
   ]
  },
  {
   "cell_type": "code",
   "execution_count": 38,
   "metadata": {},
   "outputs": [
    {
     "name": "stdout",
     "output_type": "stream",
     "text": [
      "RMSE value for k=  1 is: 2.4983265774778807\n",
      "RMSE value for k=  2 is: 1.8079234941210305\n",
      "RMSE value for k=  3 is: 1.6979711877654518\n",
      "RMSE value for k=  4 is: 1.6395722082367414\n",
      "RMSE value for k=  5 is: 1.6254481795451423\n",
      "RMSE value for k=  6 is: 1.6140069973084363\n",
      "RMSE value for k=  7 is: 1.5992800519676982\n",
      "RMSE value for k=  8 is: 1.5665977864580671\n",
      "RMSE value for k=  9 is: 1.5986966328420984\n",
      "RMSE value for k=  10 is: 1.6373997883579008\n",
      "RMSE value for k=  11 is: 1.60680754011867\n",
      "RMSE value for k=  12 is: 1.62350398203325\n",
      "RMSE value for k=  13 is: 1.618377607746864\n",
      "RMSE value for k=  14 is: 1.604412917156881\n",
      "RMSE value for k=  15 is: 1.6268655291123868\n",
      "RMSE value for k=  16 is: 1.61355258000434\n",
      "RMSE value for k=  17 is: 1.6205776289348255\n",
      "RMSE value for k=  18 is: 1.6189826082607122\n",
      "RMSE value for k=  19 is: 1.6114856417274412\n",
      "RMSE value for k=  20 is: 1.6076172073916908\n"
     ]
    }
   ],
   "source": [
    "#test knn with RMSE\n",
    "from math import sqrt\n",
    "from sklearn.metrics import mean_squared_error \n",
    "from sklearn import neighbors\n",
    "rmse_val = []\n",
    "for K in range(20):\n",
    "    K = K+1\n",
    "    model = neighbors.KNeighborsRegressor(n_neighbors = K)\n",
    "\n",
    "    model.fit(x_train, y_train)  #fit the model\n",
    "    pred=model.predict(x_test) #make prediction on test set\n",
    "    error = sqrt(mean_squared_error(y_test,pred)) #calculate rmse\n",
    "    rmse_val.append(error) #store rmse values\n",
    "    print('RMSE value for k= ' , K , 'is:', error)"
   ]
  },
  {
   "cell_type": "code",
   "execution_count": 39,
   "metadata": {},
   "outputs": [
    {
     "data": {
      "text/plain": [
       "<matplotlib.axes._subplots.AxesSubplot at 0x1a255967b8>"
      ]
     },
     "execution_count": 39,
     "metadata": {},
     "output_type": "execute_result"
    },
    {
     "data": {
      "image/png": "[encoded data removed]",
      "text/plain": [
       "<Figure size 432x288 with 1 Axes>"
      ]
     },
     "metadata": {
      "needs_background": "light"
     },
     "output_type": "display_data"
    }
   ],
   "source": [
    "#plotting the rmse values against k values\n",
    "curve = pd.DataFrame(rmse_val) #elbow curve \n",
    "curve.plot()"
   ]
  },
  {
   "cell_type": "markdown",
   "metadata": {},
   "source": [
    "## Decision Trees"
   ]
  },
  {
   "cell_type": "code",
   "execution_count": 87,
   "metadata": {},
   "outputs": [
    {
     "name": "stdout",
     "output_type": "stream",
     "text": [
      "[3.8 2.8 3.8 3.8 3.8 3.6 3.8 2.8 2.  3.8 3.8 2.8 3.8 2.  4.1 3.8 3.8 4.1\n",
      " 3.8 3.8 2.8 2.8 3.8 4.1 3.8 2.  3.8 3.8 3.8 3.8 4.5 2.  3.8 3.8 3.8 2.\n",
      " 3.8 3.8 3.8 2.  3.8 3.8 3.8 3.8 3.8 2.8 3.8 3.8 3.8 2.  3.8 3.8 2.  3.8\n",
      " 3.6 3.8 2.  3.6 3.8 2.  3.8 3.8 3.8 3.8 3.6 4.5 2.8 3.8 3.8 3.8 3.8 2.\n",
      " 3.6 3.8 3.8 3.8 2.  3.8 2.  3.8 3.6 3.6 3.8 2.  3.8 3.8 3.8 3.8 4.1 3.8\n",
      " 3.8 2.8 4.5 3.8 3.8 3.8 3.8 3.8 3.8 3.8 3.8 2.  3.6 4.5 3.8 2.  3.8 3.6\n",
      " 3.8 3.6 2.8 3.8 4.5 3.8 3.8 3.8 3.8 3.8 3.8 3.8 2.  3.8 3.6 3.8 4.5 3.8\n",
      " 3.8 3.8 4.1 2.  3.8 3.8 3.8 4.5 3.6 3.8 2.8 3.8 4.5 2.  2.8 3.8 3.8 3.8\n",
      " 3.6 3.6 3.8 4.5 3.8 2.  3.8 2.  4.5 3.8 2.  3.8 2.  3.8 2.  4.5 3.8 2.8\n",
      " 3.8 2.  4.5 3.8 3.8 3.8 2.  3.8 2.  2.  3.8 3.6 2.8 2.8 4.5 2.  3.6 2.\n",
      " 2.  3.8 2.8 2.8 3.8 3.8 3.8 3.6 2.  3.8 3.8 3.8 2.8 3.8 3.8 3.8 2.  3.8\n",
      " 3.8 4.5 2.8 2.  3.6 3.8 3.8 3.8 3.8 3.8 3.6 3.8 3.8 3.8 2.8 2.  3.8 2.\n",
      " 2.8 2.  3.8 3.8 2.8 4.5 3.6 2.  3.8 3.8 4.1 3.8 3.8 2.  3.8 3.8 2.  3.8\n",
      " 3.6 2.  3.6 3.6 3.8 3.8 3.8 3.6 3.8 2.8 2.  2.  3.8 3.8 4.5 2.  3.8 3.8\n",
      " 2.  3.6 3.8 3.8 2.  2.  3.8 2.  2.  3.6 2.  3.8 3.6 2.8 3.8 2.  3.8]\n"
     ]
    }
   ],
   "source": [
    "#Decision Tree\n",
    "clf= DecisionTreeClassifier(criterion='entropy')\n",
    "clf.fit(x_train_resampled,y_train_resampled) \n",
    "dtree_pred = clf.predict(x_test)\n",
    "print(y_pred)"
   ]
  },
  {
   "cell_type": "code",
   "execution_count": 41,
   "metadata": {},
   "outputs": [
    {
     "name": "stdout",
     "output_type": "stream",
     "text": [
      "Accuracy is :33.457249070631974\n",
      "\n",
      "Confusion Matrix\n",
      "----------------\n"
     ]
    },
    {
     "name": "stderr",
     "output_type": "stream",
     "text": [
      "/anaconda3/lib/python3.7/site-packages/sklearn/externals/six.py:31: DeprecationWarning: The module is deprecated in version 0.21 and will be removed in version 0.23 since we've dropped support for Python 2.7. Please rely on the official version of six (https://pypi.org/project/six/).\n",
      "  \"(https://pypi.org/project/six/).\", DeprecationWarning)\n"
     ]
    },
    {
     "data": {
      "text/html": [
       "<div>\n",
       "<style scoped>\n",
       "    .dataframe tbody tr th:only-of-type {\n",
       "        vertical-align: middle;\n",
       "    }\n",
       "\n",
       "    .dataframe tbody tr th {\n",
       "        vertical-align: top;\n",
       "    }\n",
       "\n",
       "    .dataframe thead th {\n",
       "        text-align: right;\n",
       "    }\n",
       "</style>\n",
       "<table border=\"1\" class=\"dataframe\">\n",
       "  <thead>\n",
       "    <tr style=\"text-align: right;\">\n",
       "      <th>Predicted</th>\n",
       "      <th>1</th>\n",
       "      <th>2</th>\n",
       "      <th>3</th>\n",
       "      <th>4</th>\n",
       "      <th>5</th>\n",
       "      <th>6</th>\n",
       "      <th>All</th>\n",
       "    </tr>\n",
       "    <tr>\n",
       "      <th>True</th>\n",
       "      <th></th>\n",
       "      <th></th>\n",
       "      <th></th>\n",
       "      <th></th>\n",
       "      <th></th>\n",
       "      <th></th>\n",
       "      <th></th>\n",
       "    </tr>\n",
       "  </thead>\n",
       "  <tbody>\n",
       "    <tr>\n",
       "      <th>1</th>\n",
       "      <td>28</td>\n",
       "      <td>0</td>\n",
       "      <td>24</td>\n",
       "      <td>24</td>\n",
       "      <td>38</td>\n",
       "      <td>50</td>\n",
       "      <td>164</td>\n",
       "    </tr>\n",
       "    <tr>\n",
       "      <th>2</th>\n",
       "      <td>0</td>\n",
       "      <td>51</td>\n",
       "      <td>2</td>\n",
       "      <td>1</td>\n",
       "      <td>1</td>\n",
       "      <td>1</td>\n",
       "      <td>56</td>\n",
       "    </tr>\n",
       "    <tr>\n",
       "      <th>3</th>\n",
       "      <td>1</td>\n",
       "      <td>0</td>\n",
       "      <td>1</td>\n",
       "      <td>0</td>\n",
       "      <td>3</td>\n",
       "      <td>0</td>\n",
       "      <td>5</td>\n",
       "    </tr>\n",
       "    <tr>\n",
       "      <th>4</th>\n",
       "      <td>1</td>\n",
       "      <td>0</td>\n",
       "      <td>3</td>\n",
       "      <td>4</td>\n",
       "      <td>1</td>\n",
       "      <td>1</td>\n",
       "      <td>10</td>\n",
       "    </tr>\n",
       "    <tr>\n",
       "      <th>5</th>\n",
       "      <td>1</td>\n",
       "      <td>0</td>\n",
       "      <td>2</td>\n",
       "      <td>5</td>\n",
       "      <td>1</td>\n",
       "      <td>0</td>\n",
       "      <td>9</td>\n",
       "    </tr>\n",
       "    <tr>\n",
       "      <th>6</th>\n",
       "      <td>1</td>\n",
       "      <td>0</td>\n",
       "      <td>4</td>\n",
       "      <td>8</td>\n",
       "      <td>7</td>\n",
       "      <td>5</td>\n",
       "      <td>25</td>\n",
       "    </tr>\n",
       "    <tr>\n",
       "      <th>All</th>\n",
       "      <td>32</td>\n",
       "      <td>51</td>\n",
       "      <td>36</td>\n",
       "      <td>42</td>\n",
       "      <td>51</td>\n",
       "      <td>57</td>\n",
       "      <td>269</td>\n",
       "    </tr>\n",
       "  </tbody>\n",
       "</table>\n",
       "</div>"
      ],
      "text/plain": [
       "Predicted   1   2   3   4   5   6  All\n",
       "True                                  \n",
       "1          28   0  24  24  38  50  164\n",
       "2           0  51   2   1   1   1   56\n",
       "3           1   0   1   0   3   0    5\n",
       "4           1   0   3   4   1   1   10\n",
       "5           1   0   2   5   1   0    9\n",
       "6           1   0   4   8   7   5   25\n",
       "All        32  51  36  42  51  57  269"
      ]
     },
     "execution_count": 41,
     "metadata": {},
     "output_type": "execute_result"
    }
   ],
   "source": [
    "from sklearn.metrics import accuracy_score, roc_curve, auc\n",
    "from sklearn.externals.six import StringIO  \n",
    "acc = accuracy_score(y_test,y_pred) * 100\n",
    "print(\"Accuracy is :{0}\".format(acc))\n",
    "\n",
    "# # Check the AUC for predictions\n",
    "# false_positive_rate, true_positive_rate, thresholds = roc_curve(y_test, y_pred)\n",
    "# roc_auc = auc(false_positive_rate, true_positive_rate)\n",
    "# print(\"\\nAUC is :{0}\".format(round(roc_auc,2)))\n",
    "\n",
    "# Create and print a confusion matrix \n",
    "print('\\nConfusion Matrix')\n",
    "print('----------------')\n",
    "pd.crosstab(y_test, y_pred, rownames=['True'], colnames=['Predicted'], margins=True)"
   ]
  },
  {
   "cell_type": "code",
   "execution_count": 89,
   "metadata": {},
   "outputs": [
    {
     "name": "stdout",
     "output_type": "stream",
     "text": [
      "               precision    recall  f1-score   support\n",
      "\n",
      "     Scotland       0.88      0.17      0.29       164\n",
      "          USA       1.00      0.91      0.95        56\n",
      "       Canada       0.03      0.20      0.05         5\n",
      "      Ireland       0.10      0.40      0.15        10\n",
      "        Japan       0.02      0.11      0.03         9\n",
      "Rest_of_World       0.09      0.20      0.12        25\n",
      "\n",
      "     accuracy                           0.33       269\n",
      "    macro avg       0.35      0.33      0.27       269\n",
      " weighted avg       0.75      0.33      0.39       269\n",
      "\n"
     ]
    }
   ],
   "source": [
    "print(classification_report(y_test, dtree_pred, target_names=labels))"
   ]
  },
  {
   "cell_type": "code",
   "execution_count": 42,
   "metadata": {},
   "outputs": [
    {
     "name": "stdout",
     "output_type": "stream",
     "text": [
      "Predicted   1   2   3   4   5   6  All\n",
      "True                                  \n",
      "1          28   0  24  24  38  50  164\n",
      "2           0  51   2   1   1   1   56\n",
      "3           1   0   1   0   3   0    5\n",
      "4           1   0   3   4   1   1   10\n",
      "5           1   0   2   5   1   0    9\n",
      "6           1   0   4   8   7   5   25\n",
      "All        32  51  36  42  51  57  269\n"
     ]
    },
    {
     "data": {
      "image/png": "[encoded data removed]",
      "text/plain": [
       "<Figure size 432x288 with 2 Axes>"
      ]
     },
     "metadata": {
      "needs_background": "light"
     },
     "output_type": "display_data"
    }
   ],
   "source": [
    "plot_confusion_matrix(y_test, y_pred, classes=labels,\n",
    "                      title='Decision Trees Confusion matrix')\n",
    "\n",
    "plt.savefig(\"Dtree_confusion.png\")\n",
    "plt.show()"
   ]
  },
  {
   "cell_type": "markdown",
   "metadata": {},
   "source": [
    "## Regression Tree"
   ]
  },
  {
   "cell_type": "code",
   "execution_count": 43,
   "metadata": {},
   "outputs": [
    {
     "data": {
      "text/plain": [
       "DecisionTreeRegressor(criterion='mse', max_depth=7, max_features=None,\n",
       "                      max_leaf_nodes=None, min_impurity_decrease=0.0,\n",
       "                      min_impurity_split=None, min_samples_leaf=2,\n",
       "                      min_samples_split=2, min_weight_fraction_leaf=0.0,\n",
       "                      presort=False, random_state=10, splitter='best')"
      ]
     },
     "execution_count": 43,
     "metadata": {},
     "output_type": "execute_result"
    }
   ],
   "source": [
    "#Regression Tree\n",
    "from sklearn.tree import DecisionTreeRegressor\n",
    "regressor = DecisionTreeRegressor(random_state = 10, max_depth=7, min_samples_leaf = 2)\n",
    "regressor.fit(x_train_resampled, y_train_resampled)"
   ]
  },
  {
   "cell_type": "code",
   "execution_count": 44,
   "metadata": {},
   "outputs": [
    {
     "name": "stdout",
     "output_type": "stream",
     "text": [
      "MSE score: 5.177965381747861\n",
      "R-sq score: -1.0202233993759342\n"
     ]
    }
   ],
   "source": [
    "from sklearn.metrics import mean_squared_error as mse\n",
    "from sklearn.metrics import r2_score\n",
    "\n",
    "# Make predictions and evaluate \n",
    "y_pred = regressor.predict(x_test)\n",
    "print ('MSE score:', mse(y_test, y_pred))\n",
    "print('R-sq score:',r2_score(y_test,y_pred))"
   ]
  },
  {
   "cell_type": "code",
   "execution_count": 45,
   "metadata": {},
   "outputs": [],
   "source": [
    "from sklearn.metrics import accuracy_score, confusion_matrix, classification_report\n",
    "from sklearn.tree import DecisionTreeClassifier\n",
    "from sklearn.ensemble import BaggingClassifier, RandomForestClassifier"
   ]
  },
  {
   "cell_type": "code",
   "execution_count": 46,
   "metadata": {},
   "outputs": [
    {
     "data": {
      "text/plain": [
       "DecisionTreeClassifier(class_weight=None, criterion='gini', max_depth=5,\n",
       "                       max_features=None, max_leaf_nodes=4,\n",
       "                       min_impurity_decrease=0.0, min_impurity_split=None,\n",
       "                       min_samples_leaf=1, min_samples_split=2,\n",
       "                       min_weight_fraction_leaf=0.0, presort=False,\n",
       "                       random_state=None, splitter='best')"
      ]
     },
     "execution_count": 46,
     "metadata": {},
     "output_type": "execute_result"
    }
   ],
   "source": [
    "tree_clf = DecisionTreeClassifier(criterion = \"gini\", max_depth = 5, max_leaf_nodes = 4) \n",
    "tree_clf.fit(x_train_resampled, y_train_resampled)"
   ]
  },
  {
   "cell_type": "code",
   "execution_count": 47,
   "metadata": {},
   "outputs": [
    {
     "data": {
      "text/plain": [
       "array([0. , 0. , 0. , 0. , 0. , 0.2, 0. , 0.1, 0. , 0. , 0. , 0.8, 0. ,\n",
       "       0. , 0. , 0. , 0. , 0. , 0. ])"
      ]
     },
     "execution_count": 47,
     "metadata": {},
     "output_type": "execute_result"
    }
   ],
   "source": [
    "tree_clf.feature_importances_"
   ]
  },
  {
   "cell_type": "code",
   "execution_count": 48,
   "metadata": {},
   "outputs": [
    {
     "data": {
      "image/png": "[encoded data removed]",
      "text/plain": [
       "<Figure size 576x576 with 1 Axes>"
      ]
     },
     "metadata": {
      "needs_background": "light"
     },
     "output_type": "display_data"
    }
   ],
   "source": [
    "plot_feature_importances(tree_clf)"
   ]
  },
  {
   "cell_type": "code",
   "execution_count": 49,
   "metadata": {},
   "outputs": [
    {
     "name": "stdout",
     "output_type": "stream",
     "text": [
      "[[  0   0  18 121  25   0]\n",
      " [  0  51   1   3   1   0]\n",
      " [  0   0   1   1   3   0]\n",
      " [  0   0   3   7   0   0]\n",
      " [  0   0   2   6   1   0]\n",
      " [  0   0   2  18   5   0]]\n",
      "              precision    recall  f1-score   support\n",
      "\n",
      "           1       0.00      0.00      0.00       164\n",
      "           2       1.00      0.91      0.95        56\n",
      "           3       0.04      0.20      0.06         5\n",
      "           4       0.04      0.70      0.08        10\n",
      "           5       0.03      0.11      0.05         9\n",
      "           6       0.00      0.00      0.00        25\n",
      "\n",
      "    accuracy                           0.22       269\n",
      "   macro avg       0.19      0.32      0.19       269\n",
      "weighted avg       0.21      0.22      0.20       269\n",
      "\n"
     ]
    },
    {
     "name": "stderr",
     "output_type": "stream",
     "text": [
      "/anaconda3/lib/python3.7/site-packages/sklearn/metrics/classification.py:1437: UndefinedMetricWarning: Precision and F-score are ill-defined and being set to 0.0 in labels with no predicted samples.\n",
      "  'precision', 'predicted', average, warn_for)\n",
      "/anaconda3/lib/python3.7/site-packages/sklearn/metrics/classification.py:1437: UndefinedMetricWarning: Precision and F-score are ill-defined and being set to 0.0 in labels with no predicted samples.\n",
      "  'precision', 'predicted', average, warn_for)\n",
      "/anaconda3/lib/python3.7/site-packages/sklearn/metrics/classification.py:1437: UndefinedMetricWarning: Precision and F-score are ill-defined and being set to 0.0 in labels with no predicted samples.\n",
      "  'precision', 'predicted', average, warn_for)\n"
     ]
    }
   ],
   "source": [
    "pred = tree_clf.predict(x_test)\n",
    "print(confusion_matrix(y_test, pred))\n",
    "print(classification_report(y_test, pred))\n"
   ]
  },
  {
   "cell_type": "code",
   "execution_count": 50,
   "metadata": {},
   "outputs": [
    {
     "name": "stdout",
     "output_type": "stream",
     "text": [
      "Predicted   2   3    4   5  All\n",
      "True                           \n",
      "1           0  18  121  25  164\n",
      "2          51   1    3   1   56\n",
      "3           0   1    1   3    5\n",
      "4           0   3    7   0   10\n",
      "5           0   2    6   1    9\n",
      "6           0   2   18   5   25\n",
      "All        51  27  156  35  269\n"
     ]
    },
    {
     "data": {
      "image/png": "[encoded data removed]",
      "text/plain": [
       "<Figure size 432x288 with 2 Axes>"
      ]
     },
     "metadata": {
      "needs_background": "light"
     },
     "output_type": "display_data"
    }
   ],
   "source": [
    "labels = ['Scotland', 'USA', 'Canada', 'Ireland', 'Japan', 'Rest_of_World']\n",
    " \n",
    "plot_confusion_matrix(y_test, pred, classes=labels,\n",
    "                      title='Regression Trees Confusion matrix')\n",
    "\n",
    "plt.savefig(\"RGdt_confusion.png\")\n",
    "plt.show()"
   ]
  },
  {
   "cell_type": "code",
   "execution_count": 51,
   "metadata": {},
   "outputs": [
    {
     "name": "stdout",
     "output_type": "stream",
     "text": [
      "Testing Accuracy for Decision Tree Classifier: 22.3%\n"
     ]
    }
   ],
   "source": [
    "print(\"Testing Accuracy for Decision Tree Classifier: {:.4}%\".format(accuracy_score(y_test, pred) * 100))\n"
   ]
  },
  {
   "cell_type": "markdown",
   "metadata": {},
   "source": [
    "## Bagged Tree"
   ]
  },
  {
   "cell_type": "code",
   "execution_count": 52,
   "metadata": {},
   "outputs": [],
   "source": [
    "#bagged test\n",
    "bagged_tree =  BaggingClassifier(DecisionTreeClassifier(criterion='gini', max_depth=5), n_estimators=20)\n"
   ]
  },
  {
   "cell_type": "code",
   "execution_count": 53,
   "metadata": {},
   "outputs": [],
   "source": [
    "clf = bagged_tree.fit(x_train_resampled, y_train_resampled)\n"
   ]
  },
  {
   "cell_type": "code",
   "execution_count": 54,
   "metadata": {},
   "outputs": [
    {
     "data": {
      "text/plain": [
       "0.5128205128205128"
      ]
     },
     "execution_count": 54,
     "metadata": {},
     "output_type": "execute_result"
    }
   ],
   "source": [
    "bagged_tree.score(x_train_resampled, y_train_resampled)\n"
   ]
  },
  {
   "cell_type": "code",
   "execution_count": 55,
   "metadata": {},
   "outputs": [
    {
     "name": "stdout",
     "output_type": "stream",
     "text": [
      "Testing Accuracy for Bagged Tree Test: 24.91%\n"
     ]
    }
   ],
   "source": [
    "print(\"Testing Accuracy for Bagged Tree Test: {:.4}%\".format(bagged_tree.score(x_test, y_test)*100))"
   ]
  },
  {
   "cell_type": "code",
   "execution_count": 56,
   "metadata": {},
   "outputs": [],
   "source": [
    "bagged_pred = bagged_tree.predict(x_test)"
   ]
  },
  {
   "cell_type": "code",
   "execution_count": 57,
   "metadata": {},
   "outputs": [
    {
     "name": "stdout",
     "output_type": "stream",
     "text": [
      "              precision    recall  f1-score   support\n",
      "\n",
      "           1       0.00      0.00      0.00       164\n",
      "           2       1.00      0.91      0.95        56\n",
      "           3       0.04      0.20      0.06         5\n",
      "           4       0.10      0.40      0.15        10\n",
      "           5       0.03      0.11      0.05         9\n",
      "           6       0.09      0.40      0.14        25\n",
      "\n",
      "    accuracy                           0.25       269\n",
      "   macro avg       0.21      0.34      0.23       269\n",
      "weighted avg       0.22      0.25      0.22       269\n",
      "\n"
     ]
    },
    {
     "name": "stderr",
     "output_type": "stream",
     "text": [
      "/anaconda3/lib/python3.7/site-packages/sklearn/metrics/classification.py:1437: UndefinedMetricWarning: Precision and F-score are ill-defined and being set to 0.0 in labels with no predicted samples.\n",
      "  'precision', 'predicted', average, warn_for)\n",
      "/anaconda3/lib/python3.7/site-packages/sklearn/metrics/classification.py:1437: UndefinedMetricWarning: Precision and F-score are ill-defined and being set to 0.0 in labels with no predicted samples.\n",
      "  'precision', 'predicted', average, warn_for)\n",
      "/anaconda3/lib/python3.7/site-packages/sklearn/metrics/classification.py:1437: UndefinedMetricWarning: Precision and F-score are ill-defined and being set to 0.0 in labels with no predicted samples.\n",
      "  'precision', 'predicted', average, warn_for)\n"
     ]
    }
   ],
   "source": [
    "\n",
    "print(classification_report(y_test, bagged_pred))"
   ]
  },
  {
   "cell_type": "code",
   "execution_count": 58,
   "metadata": {},
   "outputs": [
    {
     "name": "stdout",
     "output_type": "stream",
     "text": [
      "Predicted   2   3   4   5    6  All\n",
      "True                               \n",
      "1           0  18  24  25   97  164\n",
      "2          51   1   1   1    2   56\n",
      "3           0   1   0   3    1    5\n",
      "4           0   3   4   0    3   10\n",
      "5           0   2   5   1    1    9\n",
      "6           0   2   8   5   10   25\n",
      "All        51  27  42  35  114  269\n"
     ]
    },
    {
     "data": {
      "image/png": "[encoded data removed]",
      "text/plain": [
       "<Figure size 432x288 with 2 Axes>"
      ]
     },
     "metadata": {
      "needs_background": "light"
     },
     "output_type": "display_data"
    }
   ],
   "source": [
    "labels = ['Scotland', 'USA', 'Canada', 'Ireland', 'Japan', 'Rest_of_World']\n",
    "\n",
    "plot_confusion_matrix(y_test, bagged_pred, classes=labels,\n",
    "                      title='Bagged Trees Confusion matrix')\n",
    "plt.savefig(\"baggeddt_confusion.png\")\n",
    "plt.show()"
   ]
  },
  {
   "cell_type": "markdown",
   "metadata": {},
   "source": [
    "## Random Forest"
   ]
  },
  {
   "cell_type": "code",
   "execution_count": 59,
   "metadata": {},
   "outputs": [
    {
     "data": {
      "text/plain": [
       "RandomForestClassifier(bootstrap=True, class_weight=None, criterion='gini',\n",
       "                       max_depth=5, max_features='auto', max_leaf_nodes=10,\n",
       "                       min_impurity_decrease=0.0, min_impurity_split=None,\n",
       "                       min_samples_leaf=1, min_samples_split=2,\n",
       "                       min_weight_fraction_leaf=0.0, n_estimators=100,\n",
       "                       n_jobs=None, oob_score=False, random_state=None,\n",
       "                       verbose=0, warm_start=False)"
      ]
     },
     "execution_count": 59,
     "metadata": {},
     "output_type": "execute_result"
    }
   ],
   "source": [
    "#Random Forest\n",
    "forest = RandomForestClassifier(n_estimators=100, max_depth= 5, max_leaf_nodes = 10)\n",
    "forest.fit(x_train_resampled, y_train_resampled)"
   ]
  },
  {
   "cell_type": "code",
   "execution_count": 60,
   "metadata": {
    "scrolled": true
   },
   "outputs": [
    {
     "data": {
      "text/plain": [
       "0.5315384615384615"
      ]
     },
     "execution_count": 60,
     "metadata": {},
     "output_type": "execute_result"
    }
   ],
   "source": [
    "#Score for model\n",
    "forest.score(x_train_resampled, y_train_resampled)"
   ]
  },
  {
   "cell_type": "code",
   "execution_count": 61,
   "metadata": {},
   "outputs": [
    {
     "name": "stdout",
     "output_type": "stream",
     "text": [
      "[[28  0 18 24 25 69]\n",
      " [ 0 51  1  1  1  2]\n",
      " [ 1  0  1  0  3  0]\n",
      " [ 1  0  3  4  0  2]\n",
      " [ 1  0  2  5  1  0]\n",
      " [ 1  0  2  8  5  9]]\n",
      "              precision    recall  f1-score   support\n",
      "\n",
      "           1       0.88      0.17      0.29       164\n",
      "           2       1.00      0.91      0.95        56\n",
      "           3       0.04      0.20      0.06         5\n",
      "           4       0.10      0.40      0.15        10\n",
      "           5       0.03      0.11      0.05         9\n",
      "           6       0.11      0.36      0.17        25\n",
      "\n",
      "    accuracy                           0.35       269\n",
      "   macro avg       0.36      0.36      0.28       269\n",
      "weighted avg       0.76      0.35      0.40       269\n",
      "\n"
     ]
    }
   ],
   "source": [
    "RFpred = forest.predict(x_test)\n",
    "print(confusion_matrix(y_test, RFpred))\n",
    "print(classification_report(y_test, RFpred))"
   ]
  },
  {
   "cell_type": "code",
   "execution_count": 62,
   "metadata": {},
   "outputs": [
    {
     "name": "stdout",
     "output_type": "stream",
     "text": [
      "Testing Accuracy for Random Forest Test: 34.94%\n"
     ]
    }
   ],
   "source": [
    "#Actual score\n",
    "print(\"Testing Accuracy for Random Forest Test: {:.4}%\".format(forest.score(x_test, y_test)*100))"
   ]
  },
  {
   "cell_type": "code",
   "execution_count": 63,
   "metadata": {},
   "outputs": [
    {
     "name": "stdout",
     "output_type": "stream",
     "text": [
      "              precision    recall  f1-score   support\n",
      "\n",
      "           1       0.88      0.17      0.29       164\n",
      "           2       1.00      0.91      0.95        56\n",
      "           3       0.04      0.20      0.06         5\n",
      "           4       0.10      0.40      0.15        10\n",
      "           5       0.03      0.11      0.05         9\n",
      "           6       0.11      0.36      0.17        25\n",
      "\n",
      "    accuracy                           0.35       269\n",
      "   macro avg       0.36      0.36      0.28       269\n",
      "weighted avg       0.76      0.35      0.40       269\n",
      "\n"
     ]
    }
   ],
   "source": [
    "print(classification_report(y_test, RFpred))"
   ]
  },
  {
   "cell_type": "code",
   "execution_count": 64,
   "metadata": {},
   "outputs": [
    {
     "data": {
      "image/png": "[encoded data removed]",
      "text/plain": [
       "<Figure size 576x576 with 1 Axes>"
      ]
     },
     "metadata": {
      "needs_background": "light"
     },
     "output_type": "display_data"
    }
   ],
   "source": [
    "plot_feature_importances(forest)\n"
   ]
  },
  {
   "cell_type": "code",
   "execution_count": 65,
   "metadata": {},
   "outputs": [
    {
     "data": {
      "text/plain": [
       "RandomForestClassifier(bootstrap=True, class_weight=None, criterion='gini',\n",
       "                       max_depth=2, max_features=10, max_leaf_nodes=None,\n",
       "                       min_impurity_decrease=0.0, min_impurity_split=None,\n",
       "                       min_samples_leaf=1, min_samples_split=2,\n",
       "                       min_weight_fraction_leaf=0.0, n_estimators=5,\n",
       "                       n_jobs=None, oob_score=False, random_state=None,\n",
       "                       verbose=0, warm_start=False)"
      ]
     },
     "execution_count": 65,
     "metadata": {},
     "output_type": "execute_result"
    }
   ],
   "source": [
    "#closer look at random forest, smaller trees reduced n_estimators, max features, and max depth\n",
    "forest_2 = RandomForestClassifier(n_estimators = 5, max_features= 10, max_depth= 2)\n",
    "forest_2.fit(x_train_resampled, y_train_resampled)"
   ]
  },
  {
   "cell_type": "code",
   "execution_count": 66,
   "metadata": {},
   "outputs": [
    {
     "data": {
      "image/png": "[encoded data removed]",
      "text/plain": [
       "<Figure size 576x576 with 1 Axes>"
      ]
     },
     "metadata": {
      "needs_background": "light"
     },
     "output_type": "display_data"
    }
   ],
   "source": [
    "rf_tree_1 = forest_2.estimators_[0]\n",
    "plot_feature_importances(rf_tree_1)"
   ]
  },
  {
   "cell_type": "code",
   "execution_count": 67,
   "metadata": {},
   "outputs": [
    {
     "data": {
      "image/png": "[encoded data removed]",
      "text/plain": [
       "<Figure size 576x576 with 1 Axes>"
      ]
     },
     "metadata": {
      "needs_background": "light"
     },
     "output_type": "display_data"
    }
   ],
   "source": [
    "rf_tree_2 = forest_2.estimators_[1]\n",
    "plot_feature_importances(rf_tree_2)"
   ]
  },
  {
   "cell_type": "code",
   "execution_count": null,
   "metadata": {},
   "outputs": [],
   "source": []
  },
  {
   "cell_type": "code",
   "execution_count": 68,
   "metadata": {},
   "outputs": [
    {
     "name": "stdout",
     "output_type": "stream",
     "text": [
      "Predicted   1   2   3   4   5   6  All\n",
      "True                                  \n",
      "1          28   0  18  24  25  69  164\n",
      "2           0  51   1   1   1   2   56\n",
      "3           1   0   1   0   3   0    5\n",
      "4           1   0   3   4   0   2   10\n",
      "5           1   0   2   5   1   0    9\n",
      "6           1   0   2   8   5   9   25\n",
      "All        32  51  27  42  35  82  269\n"
     ]
    },
    {
     "data": {
      "image/png": "[encoded data removed]",
      "text/plain": [
       "<Figure size 432x288 with 2 Axes>"
      ]
     },
     "metadata": {
      "needs_background": "light"
     },
     "output_type": "display_data"
    }
   ],
   "source": [
    "labels = ['Scotland', 'USA', 'Canada', 'Ireland', 'Japan', 'Rest_of_World']\n",
    "\n",
    "plot_confusion_matrix(y_test, RFpred, classes=labels,\n",
    "                      title='Random Forest Confusion matrix')\n",
    "plt.savefig(\"rf_confusion.png\")\n",
    "plt.show()"
   ]
  },
  {
   "cell_type": "markdown",
   "metadata": {},
   "source": [
    "## AdaBoost and Gradient Boosting"
   ]
  },
  {
   "cell_type": "code",
   "execution_count": 69,
   "metadata": {},
   "outputs": [],
   "source": [
    "#Adaboost\n",
    "from sklearn.model_selection import cross_val_score\n",
    "from sklearn.ensemble import AdaBoostClassifier, GradientBoostingClassifier\n",
    "from sklearn.metrics import accuracy_score, f1_score, confusion_matrix, classification_report"
   ]
  },
  {
   "cell_type": "code",
   "execution_count": 70,
   "metadata": {},
   "outputs": [],
   "source": [
    "adaboost_clf = AdaBoostClassifier()\n",
    "gbt_clf = GradientBoostingClassifier(learning_rate =.02)"
   ]
  },
  {
   "cell_type": "code",
   "execution_count": 71,
   "metadata": {},
   "outputs": [
    {
     "data": {
      "text/plain": [
       "AdaBoostClassifier(algorithm='SAMME.R', base_estimator=None, learning_rate=1.0,\n",
       "                   n_estimators=50, random_state=None)"
      ]
     },
     "execution_count": 71,
     "metadata": {},
     "output_type": "execute_result"
    }
   ],
   "source": [
    "adaboost_clf.fit(x_train_resampled, y_train_resampled)\n"
   ]
  },
  {
   "cell_type": "code",
   "execution_count": 72,
   "metadata": {},
   "outputs": [
    {
     "data": {
      "text/plain": [
       "GradientBoostingClassifier(criterion='friedman_mse', init=None,\n",
       "                           learning_rate=0.02, loss='deviance', max_depth=3,\n",
       "                           max_features=None, max_leaf_nodes=None,\n",
       "                           min_impurity_decrease=0.0, min_impurity_split=None,\n",
       "                           min_samples_leaf=1, min_samples_split=2,\n",
       "                           min_weight_fraction_leaf=0.0, n_estimators=100,\n",
       "                           n_iter_no_change=None, presort='auto',\n",
       "                           random_state=None, subsample=1.0, tol=0.0001,\n",
       "                           validation_fraction=0.1, verbose=0,\n",
       "                           warm_start=False)"
      ]
     },
     "execution_count": 72,
     "metadata": {},
     "output_type": "execute_result"
    }
   ],
   "source": [
    "gbt_clf.fit(x_train_resampled, y_train_resampled)\n",
    "#learning_rate = 2"
   ]
  },
  {
   "cell_type": "code",
   "execution_count": 73,
   "metadata": {},
   "outputs": [],
   "source": [
    "adaboost_train_preds = adaboost_clf.predict(x_train_resampled)\n",
    "adaboost_test_preds = adaboost_clf.predict(x_test)\n",
    "gbt_clf_train_preds = gbt_clf.predict(x_train_resampled)\n",
    "gbt_clf_test_preds = gbt_clf.predict(x_test)"
   ]
  },
  {
   "cell_type": "code",
   "execution_count": 74,
   "metadata": {},
   "outputs": [
    {
     "name": "stdout",
     "output_type": "stream",
     "text": [
      "Training Metrics\n",
      "Model: AdaBoost\n",
      "Accuracy: 0.4658974358974359\n",
      "F1-Score: 0.4596432050767298\n",
      "\n",
      "Model: Gradient Boosted Trees\n",
      "Accuracy: 0.5397435897435897\n",
      "F1-Score: 0.5314950301815461\n",
      "\n",
      "Testing Metrics\n",
      "Model: AdaBoost\n",
      "Accuracy: 0.275092936802974\n",
      "F1-Score: 0.23319391348916385\n",
      "\n",
      "Model: Gradient Boosted Trees\n",
      "Accuracy: 0.3680297397769517\n",
      "F1-Score: 0.3243398532543245\n"
     ]
    }
   ],
   "source": [
    "def display_acc_and_f1_score(true, preds, model_name):\n",
    "    acc = accuracy_score(true, preds)\n",
    "    f1 = f1_score(true, preds, average = 'macro')\n",
    "    print(\"Model: {}\".format(model_name))\n",
    "    print(\"Accuracy: {}\".format(acc))\n",
    "    print(\"F1-Score: {}\".format(f1))\n",
    "    \n",
    "print(\"Training Metrics\")\n",
    "display_acc_and_f1_score(y_train_resampled, adaboost_train_preds, model_name='AdaBoost')\n",
    "print(\"\")\n",
    "display_acc_and_f1_score(y_train_resampled, gbt_clf_train_preds, model_name='Gradient Boosted Trees')\n",
    "print(\"\")\n",
    "print(\"Testing Metrics\")\n",
    "display_acc_and_f1_score(y_test, adaboost_test_preds, model_name='AdaBoost')\n",
    "print(\"\")\n",
    "display_acc_and_f1_score(y_test, gbt_clf_test_preds, model_name='Gradient Boosted Trees')"
   ]
  },
  {
   "cell_type": "code",
   "execution_count": 75,
   "metadata": {},
   "outputs": [
    {
     "name": "stdout",
     "output_type": "stream",
     "text": [
      "              precision    recall  f1-score   support\n",
      "\n",
      "           1       0.88      0.17      0.29       164\n",
      "           2       1.00      0.62      0.77        56\n",
      "           3       0.02      0.20      0.04         5\n",
      "           4       0.10      0.40      0.15        10\n",
      "           5       0.02      0.11      0.03         9\n",
      "           6       0.09      0.20      0.12        25\n",
      "\n",
      "    accuracy                           0.28       269\n",
      "   macro avg       0.35      0.28      0.23       269\n",
      "weighted avg       0.75      0.28      0.35       269\n",
      "\n",
      "              precision    recall  f1-score   support\n",
      "\n",
      "           1       0.88      0.17      0.29       164\n",
      "           2       1.00      0.91      0.95        56\n",
      "           3       0.04      0.20      0.06         5\n",
      "           4       0.50      0.30      0.37        10\n",
      "           5       0.02      0.11      0.03         9\n",
      "           6       0.15      0.60      0.24        25\n",
      "\n",
      "    accuracy                           0.37       269\n",
      "   macro avg       0.43      0.38      0.32       269\n",
      "weighted avg       0.78      0.37      0.41       269\n",
      "\n"
     ]
    }
   ],
   "source": [
    "print(classification_report(y_test, adaboost_test_preds))\n",
    "print(classification_report(y_test, gbt_clf_test_preds))"
   ]
  },
  {
   "cell_type": "code",
   "execution_count": 76,
   "metadata": {},
   "outputs": [
    {
     "data": {
      "text/plain": [
       "array([[28,  0, 24, 24, 38, 50],\n",
       "       [ 0, 35, 18,  1,  1,  1],\n",
       "       [ 1,  0,  1,  0,  3,  0],\n",
       "       [ 1,  0,  3,  4,  1,  1],\n",
       "       [ 1,  0,  2,  5,  1,  0],\n",
       "       [ 1,  0,  4,  8,  7,  5]])"
      ]
     },
     "execution_count": 76,
     "metadata": {},
     "output_type": "execute_result"
    }
   ],
   "source": [
    "adaboost_confusion_matrix = confusion_matrix(y_test, adaboost_test_preds)\n",
    "adaboost_confusion_matrix"
   ]
  },
  {
   "cell_type": "code",
   "execution_count": 77,
   "metadata": {
    "scrolled": true
   },
   "outputs": [
    {
     "name": "stdout",
     "output_type": "stream",
     "text": [
      "Predicted   1   2   3   4   5   6  All\n",
      "True                                  \n",
      "1          28   0  24  24  38  50  164\n",
      "2           0  35  18   1   1   1   56\n",
      "3           1   0   1   0   3   0    5\n",
      "4           1   0   3   4   1   1   10\n",
      "5           1   0   2   5   1   0    9\n",
      "6           1   0   4   8   7   5   25\n",
      "All        32  35  52  42  51  57  269\n"
     ]
    },
    {
     "data": {
      "image/png": "[encoded data removed]",
      "text/plain": [
       "<Figure size 432x288 with 2 Axes>"
      ]
     },
     "metadata": {
      "needs_background": "light"
     },
     "output_type": "display_data"
    }
   ],
   "source": [
    "#Adaboost confusion matrix plotting\n",
    "\n",
    "labels = ['Scotland', 'USA', 'Canada', 'Ireland', 'Japan', 'Rest_of_World']\n",
    "\n",
    "plot_confusion_matrix(y_test, adaboost_test_preds, classes=labels,\n",
    "                      title='ADABoost Confusion matrix')\n",
    "plt.savefig(\"adaboost_confusion.png\")\n",
    "plt.show()"
   ]
  },
  {
   "cell_type": "code",
   "execution_count": 78,
   "metadata": {},
   "outputs": [
    {
     "name": "stdout",
     "output_type": "stream",
     "text": [
      "Predicted   1   2   3  4   5    6  All\n",
      "True                                  \n",
      "1          28   0  18  1  38   79  164\n",
      "2           0  51   1  0   1    3   56\n",
      "3           1   0   1  0   3    0    5\n",
      "4           1   0   3  3   1    2   10\n",
      "5           1   0   2  2   1    3    9\n",
      "6           1   0   2  0   7   15   25\n",
      "All        32  51  27  6  51  102  269\n"
     ]
    },
    {
     "data": {
      "image/png": "[encoded data removed]",
      "text/plain": [
       "<Figure size 432x288 with 2 Axes>"
      ]
     },
     "metadata": {
      "needs_background": "light"
     },
     "output_type": "display_data"
    }
   ],
   "source": [
    "#Gradient Boost Confusion matrix plotting\n",
    "\n",
    "labels = ['Scotland', 'USA', 'Canada', 'Ireland', 'Japan', 'Rest_of_World']\n",
    "\n",
    "plot_confusion_matrix(y_test, gbt_clf_test_preds, classes=labels, title='GBT Confusion matrix')\n",
    "\n",
    "plt.savefig(\"gbt_confusion.png\")\n",
    "plt.show()"
   ]
  },
  {
   "cell_type": "markdown",
   "metadata": {},
   "source": [
    "## XG Boost"
   ]
  },
  {
   "cell_type": "code",
   "execution_count": 79,
   "metadata": {},
   "outputs": [],
   "source": [
    "#xgboost\n",
    "from sklearn.model_selection import GridSearchCV\n",
    "import xgboost as xgb"
   ]
  },
  {
   "cell_type": "code",
   "execution_count": 80,
   "metadata": {},
   "outputs": [
    {
     "name": "stdout",
     "output_type": "stream",
     "text": [
      "Training Accuracy: 54.05%\n",
      "Validation accuracy: 32.71%\n"
     ]
    }
   ],
   "source": [
    "clf = xgb.XGBClassifier()\n",
    "xgb = clf.fit(np.array(x_train_resampled), np.array(y_train_resampled))\n",
    "training_preds = clf.predict(np.array(x_train_resampled))\n",
    "xgb_preds = clf.predict(np.array(x_test))\n",
    "training_accuracy = accuracy_score(np.array(y_train_resampled), training_preds)\n",
    "val_accuracy = accuracy_score(np.array(y_test), xgb_preds)\n",
    "\n",
    "print(\"Training Accuracy: {:.4}%\".format(training_accuracy * 100))\n",
    "print(\"Validation accuracy: {:.4}%\".format(val_accuracy * 100))"
   ]
  },
  {
   "cell_type": "code",
   "execution_count": 81,
   "metadata": {},
   "outputs": [
    {
     "name": "stdout",
     "output_type": "stream",
     "text": [
      "              precision    recall  f1-score   support\n",
      "\n",
      "           1       0.88      0.17      0.29       164\n",
      "           2       1.00      0.91      0.95        56\n",
      "           3       0.04      0.20      0.06         5\n",
      "           4       0.06      0.50      0.11        10\n",
      "           5       0.02      0.11      0.03         9\n",
      "           6       0.07      0.08      0.08        25\n",
      "\n",
      "    accuracy                           0.33       269\n",
      "   macro avg       0.34      0.33      0.25       269\n",
      "weighted avg       0.75      0.33      0.39       269\n",
      "\n"
     ]
    }
   ],
   "source": [
    "print(classification_report(y_test, xgb_preds))\n"
   ]
  },
  {
   "cell_type": "code",
   "execution_count": 82,
   "metadata": {},
   "outputs": [
    {
     "name": "stdout",
     "output_type": "stream",
     "text": [
      "Predicted   1   2   3   4   5   6  All\n",
      "True                                  \n",
      "1          28   0  18  56  38  24  164\n",
      "2           0  51   1   2   1   1   56\n",
      "3           1   0   1   0   3   0    5\n",
      "4           1   0   3   5   1   0   10\n",
      "5           1   0   2   5   1   0    9\n",
      "6           1   0   2  13   7   2   25\n",
      "All        32  51  27  81  51  27  269\n"
     ]
    },
    {
     "data": {
      "image/png": "[encoded data removed]",
      "text/plain": [
       "<Figure size 432x288 with 2 Axes>"
      ]
     },
     "metadata": {
      "needs_background": "light"
     },
     "output_type": "display_data"
    }
   ],
   "source": [
    "labels = ['Scotland', 'USA', 'Canada', 'Ireland', 'Japan', 'Rest_of_World']\n",
    "\n",
    "plot_confusion_matrix(y_test, xgb_preds, classes=labels,\n",
    "                      title='XGB Confusion matrix')\n",
    "plt.savefig('XGB_confusion_matrix.png')\n",
    "plt.show()"
   ]
  },
  {
   "cell_type": "code",
   "execution_count": 83,
   "metadata": {},
   "outputs": [
    {
     "name": "stderr",
     "output_type": "stream",
     "text": [
      "/anaconda3/lib/python3.7/site-packages/sklearn/model_selection/_split.py:1978: FutureWarning: The default value of cv will change from 3 to 5 in version 0.22. Specify it explicitly to silence this warning.\n",
      "  warnings.warn(CV_WARNING, FutureWarning)\n"
     ]
    },
    {
     "name": "stdout",
     "output_type": "stream",
     "text": [
      "Grid Search found the following optimal parameters: \n",
      "learning_rate: 0.05\n",
      "max_depth: 6\n",
      "min_child_weight: 10\n",
      "n_estimators: 250\n",
      "subsample: 0.7\n",
      "\n",
      "Training Accuracy: 54.31%\n",
      "Validation accuracy: 33.46%\n"
     ]
    }
   ],
   "source": [
    "#Grid Search for XGBoost\n",
    "param_grid = {\n",
    "    \"learning_rate\": [.05],\n",
    "    'max_depth': [6],\n",
    "    'min_child_weight': [10],\n",
    "    'subsample': [ 0.7],\n",
    "    'n_estimators': [5, 30, 100, 250]}\n",
    "grid_clf = GridSearchCV(clf, param_grid, scoring='accuracy', cv=None, n_jobs=1)\n",
    "grid_clf.fit(x_train_resampled, y_train_resampled)\n",
    "\n",
    "best_parameters = grid_clf.best_params_\n",
    "\n",
    "print(\"Grid Search found the following optimal parameters: \")\n",
    "for param_name in sorted(best_parameters.keys()):\n",
    "    print(\"%s: %r\" % (param_name, best_parameters[param_name]))\n",
    "\n",
    "training_preds = grid_clf.predict(np.array(x_train_resampled))\n",
    "val_preds = grid_clf.predict(np.array(x_test))\n",
    "training_accuracy = accuracy_score(np.array(y_train_resampled), training_preds)\n",
    "val_accuracy = accuracy_score(np.array(y_test), val_preds)\n",
    "\n",
    "print(\"\")\n",
    "print(\"Training Accuracy: {:.4}%\".format(training_accuracy * 100))\n",
    "print(\"Validation accuracy: {:.4}%\".format(val_accuracy * 100))"
   ]
  },
  {
   "cell_type": "code",
   "execution_count": 84,
   "metadata": {},
   "outputs": [
    {
     "name": "stdout",
     "output_type": "stream",
     "text": [
      "Training Accuracy: 54.59%\n",
      "Validation accuracy: 32.71%\n"
     ]
    }
   ],
   "source": [
    "#Testing XGBoost for 250 n_estimators\n",
    "import xgboost as xgb\n",
    "clf = xgb.XGBClassifier(n_estimators = 250)\n",
    "xgb2 = clf.fit(np.array(x_train_resampled), np.array(y_train_resampled))\n",
    "training_preds = clf.predict(np.array(x_train_resampled))\n",
    "xgb2_preds = clf.predict(np.array(x_test))\n",
    "training_accuracy = accuracy_score(np.array(y_train_resampled), training_preds)\n",
    "val_accuracy = accuracy_score(np.array(y_test), xgb_preds)\n",
    "\n",
    "print(\"Training Accuracy: {:.4}%\".format(training_accuracy * 100))\n",
    "print(\"Validation accuracy: {:.4}%\".format(val_accuracy * 100))"
   ]
  },
  {
   "cell_type": "code",
   "execution_count": 85,
   "metadata": {},
   "outputs": [
    {
     "name": "stdout",
     "output_type": "stream",
     "text": [
      "              precision    recall  f1-score   support\n",
      "\n",
      "           1       0.88      0.17      0.29       164\n",
      "           2       1.00      0.91      0.95        56\n",
      "           3       0.03      0.20      0.05         5\n",
      "           4       0.10      0.40      0.15        10\n",
      "           5       0.02      0.11      0.03         9\n",
      "           6       0.09      0.20      0.12        25\n",
      "\n",
      "    accuracy                           0.33       269\n",
      "   macro avg       0.35      0.33      0.27       269\n",
      "weighted avg       0.75      0.33      0.39       269\n",
      "\n"
     ]
    }
   ],
   "source": [
    "print(classification_report(y_test, xgb2_preds))"
   ]
  },
  {
   "cell_type": "code",
   "execution_count": 86,
   "metadata": {},
   "outputs": [
    {
     "name": "stdout",
     "output_type": "stream",
     "text": [
      "Predicted   1   2   3   4   5   6  All\n",
      "True                                  \n",
      "1          28   0  18  56  38  24  164\n",
      "2           0  51   1   2   1   1   56\n",
      "3           1   0   1   0   3   0    5\n",
      "4           1   0   3   5   1   0   10\n",
      "5           1   0   2   5   1   0    9\n",
      "6           1   0   2  13   7   2   25\n",
      "All        32  51  27  81  51  27  269\n"
     ]
    },
    {
     "data": {
      "image/png": "[encoded data removed]",
      "text/plain": [
       "<Figure size 432x288 with 2 Axes>"
      ]
     },
     "metadata": {
      "needs_background": "light"
     },
     "output_type": "display_data"
    }
   ],
   "source": [
    "plot_confusion_matrix(y_test, xgb_preds, classes=labels,\n",
    "                      title='XGB Confusion matrix')\n",
    "\n",
    "plt.show()"
   ]
  },
  {
   "cell_type": "markdown",
   "metadata": {},
   "source": [
    "## Support Vector Machines"
   ]
  },
  {
   "cell_type": "code",
   "execution_count": 90,
   "metadata": {
    "scrolled": true
   },
   "outputs": [
    {
     "name": "stderr",
     "output_type": "stream",
     "text": [
      "/anaconda3/lib/python3.7/site-packages/sklearn/svm/base.py:193: FutureWarning: The default value of gamma will change from 'auto' to 'scale' in version 0.22 to account better for unscaled features. Set gamma explicitly to 'auto' or 'scale' to avoid this warning.\n",
      "  \"avoid this warning.\", FutureWarning)\n"
     ]
    },
    {
     "data": {
      "text/plain": [
       "SVC(C=4, cache_size=200, class_weight=None, coef0=0.0,\n",
       "    decision_function_shape='ovr', degree=3, gamma='auto_deprecated',\n",
       "    kernel='rbf', max_iter=-1, probability=False, random_state=None,\n",
       "    shrinking=True, tol=0.001, verbose=False)"
      ]
     },
     "execution_count": 90,
     "metadata": {},
     "output_type": "execute_result"
    }
   ],
   "source": [
    "from sklearn import svm\n",
    "\n",
    "clf = svm.SVC(kernel='rbf', C=4)\n",
    "clf.fit(np.array(x_train_resampled), np.array(y_train_resampled))"
   ]
  },
  {
   "cell_type": "code",
   "execution_count": 91,
   "metadata": {},
   "outputs": [
    {
     "data": {
      "text/plain": [
       "array([[0., 0., 0., ..., 0., 0., 0.],\n",
       "       [0., 0., 0., ..., 0., 0., 0.],\n",
       "       [0., 0., 0., ..., 0., 0., 0.],\n",
       "       ...,\n",
       "       [0., 0., 0., ..., 0., 0., 0.],\n",
       "       [0., 0., 0., ..., 0., 0., 0.],\n",
       "       [0., 0., 0., ..., 0., 0., 0.]])"
      ]
     },
     "execution_count": 91,
     "metadata": {},
     "output_type": "execute_result"
    }
   ],
   "source": [
    "clf.support_vectors_\n"
   ]
  },
  {
   "cell_type": "code",
   "execution_count": 92,
   "metadata": {},
   "outputs": [
    {
     "data": {
      "text/plain": [
       "0.36059479553903345"
      ]
     },
     "execution_count": 92,
     "metadata": {},
     "output_type": "execute_result"
    }
   ],
   "source": [
    "clf.score(x_test,y_test)"
   ]
  },
  {
   "cell_type": "code",
   "execution_count": 93,
   "metadata": {},
   "outputs": [],
   "source": [
    "svcy_pred = clf.predict(x_test)"
   ]
  },
  {
   "cell_type": "code",
   "execution_count": 94,
   "metadata": {},
   "outputs": [
    {
     "name": "stdout",
     "output_type": "stream",
     "text": [
      "              precision    recall  f1-score   support\n",
      "\n",
      "           1       0.17      0.88      0.29        32\n",
      "           2       0.91      1.00      0.95        51\n",
      "           3       0.20      0.03      0.05        36\n",
      "           4       0.30      0.50      0.37         6\n",
      "           5       0.11      0.02      0.03        51\n",
      "           6       0.52      0.14      0.22        93\n",
      "\n",
      "    accuracy                           0.36       269\n",
      "   macro avg       0.37      0.43      0.32       269\n",
      "weighted avg       0.43      0.36      0.31       269\n",
      "\n"
     ]
    }
   ],
   "source": [
    "print(classification_report(svcy_pred, y_test))"
   ]
  },
  {
   "cell_type": "code",
   "execution_count": null,
   "metadata": {},
   "outputs": [],
   "source": [
    "labels = ['Scotland', 'USA', 'Canada', 'Ireland', 'Japan', 'Rest_of_World']\n",
    "\n",
    "plot_confusion_matrix(y_test, svcy_pred, classes=labels,\n",
    "                      title='SVM Confusion matrix')\n",
    "plt.savefig('svm_confusionmatrix.png')\n",
    "plt.show()"
   ]
  },
  {
   "cell_type": "code",
   "execution_count": null,
   "metadata": {},
   "outputs": [],
   "source": []
  },
  {
   "cell_type": "code",
   "execution_count": null,
   "metadata": {},
   "outputs": [],
   "source": []
  },
  {
   "cell_type": "code",
   "execution_count": 18,
   "metadata": {},
   "outputs": [],
   "source": [
    "import keras\n",
    "import pandas as pd\n",
    "import numpy as np\n",
    "import seaborn as sns\n",
    "import matplotlib.pyplot as plt\n",
    "from keras.models import Sequential\n",
    "from keras.layers import Dense"
   ]
  },
  {
   "cell_type": "code",
   "execution_count": 33,
   "metadata": {},
   "outputs": [],
   "source": [
    "model = Sequential()\n",
    "#intitalize input layer \n",
    "model.add(Dense(8, input_dim=19, activation='tanh'))\n",
    "#hidden layer with relu activation\n",
    "model.add(Dense(8, input_dim=19, activation='relu'))\n",
    "#another layer\n",
    "model.add(Dense(8, input_dim=19, activation='tanh'))\n",
    "#another layer\n",
    "model.add(Dense(8, input_dim=19, activation='relu'))\n",
    "#output layer / decision layer \n",
    "model.add(Dense(1, activation='sigmoid'))"
   ]
  },
  {
   "cell_type": "code",
   "execution_count": 34,
   "metadata": {},
   "outputs": [],
   "source": [
    "model.compile(loss='binary_crossentropy',  optimizer='adam', metrics=['accuracy'])"
   ]
  },
  {
   "cell_type": "code",
   "execution_count": 36,
   "metadata": {},
   "outputs": [
    {
     "name": "stdout",
     "output_type": "stream",
     "text": [
      "Epoch 1/30\n",
      "3900/3900 [==============================] - 0s 33us/step - loss: -1208.5378 - accuracy: 0.1667\n",
      "Epoch 2/30\n",
      "3900/3900 [==============================] - 0s 42us/step - loss: -1254.2743 - accuracy: 0.1667\n",
      "Epoch 3/30\n",
      "3900/3900 [==============================] - 0s 30us/step - loss: -1300.7019 - accuracy: 0.1667\n",
      "Epoch 4/30\n",
      "3900/3900 [==============================] - 0s 32us/step - loss: -1347.8322 - accuracy: 0.1667\n",
      "Epoch 5/30\n",
      "3900/3900 [==============================] - 0s 30us/step - loss: -1395.6363 - accuracy: 0.1667\n",
      "Epoch 6/30\n",
      "3900/3900 [==============================] - 0s 34us/step - loss: -1444.2107 - accuracy: 0.1667\n",
      "Epoch 7/30\n",
      "3900/3900 [==============================] - 0s 30us/step - loss: -1493.3847 - accuracy: 0.1667\n",
      "Epoch 8/30\n",
      "3900/3900 [==============================] - 0s 32us/step - loss: -1543.2939 - accuracy: 0.1667\n",
      "Epoch 9/30\n",
      "3900/3900 [==============================] - 0s 37us/step - loss: -1593.7691 - accuracy: 0.1667\n",
      "Epoch 10/30\n",
      "3900/3900 [==============================] - 0s 41us/step - loss: -1645.0806 - accuracy: 0.1667\n",
      "Epoch 11/30\n",
      "3900/3900 [==============================] - 0s 38us/step - loss: -1696.9117 - accuracy: 0.1667\n",
      "Epoch 12/30\n",
      "3900/3900 [==============================] - 0s 36us/step - loss: -1749.4494 - accuracy: 0.1667\n",
      "Epoch 13/30\n",
      "3900/3900 [==============================] - 0s 31us/step - loss: -1802.6996 - accuracy: 0.1667\n",
      "Epoch 14/30\n",
      "3900/3900 [==============================] - 0s 36us/step - loss: -1856.4845 - accuracy: 0.1667\n",
      "Epoch 15/30\n",
      "3900/3900 [==============================] - 0s 37us/step - loss: -1910.9546 - accuracy: 0.1667\n",
      "Epoch 16/30\n",
      "3900/3900 [==============================] - 0s 37us/step - loss: -1966.1914 - accuracy: 0.1667\n",
      "Epoch 17/30\n",
      "3900/3900 [==============================] - 0s 29us/step - loss: -2021.8073 - accuracy: 0.1667\n",
      "Epoch 18/30\n",
      "3900/3900 [==============================] - 0s 38us/step - loss: -2078.2614 - accuracy: 0.1667\n",
      "Epoch 19/30\n",
      "3900/3900 [==============================] - 0s 27us/step - loss: -2135.2604 - accuracy: 0.1667\n",
      "Epoch 20/30\n",
      "3900/3900 [==============================] - 0s 32us/step - loss: -2192.8594 - accuracy: 0.1667\n",
      "Epoch 21/30\n",
      "3900/3900 [==============================] - 0s 35us/step - loss: -2251.1835 - accuracy: 0.1667\n",
      "Epoch 22/30\n",
      "3900/3900 [==============================] - 0s 25us/step - loss: -2309.9685 - accuracy: 0.1667\n",
      "Epoch 23/30\n",
      "3900/3900 [==============================] - 0s 35us/step - loss: -2369.5630 - accuracy: 0.1667\n",
      "Epoch 24/30\n",
      "3900/3900 [==============================] - 0s 36us/step - loss: -2429.5792 - accuracy: 0.1667\n",
      "Epoch 25/30\n",
      "3900/3900 [==============================] - 0s 33us/step - loss: -2490.3484 - accuracy: 0.1667\n",
      "Epoch 26/30\n",
      "3900/3900 [==============================] - 0s 44us/step - loss: -2551.5858 - accuracy: 0.1667\n",
      "Epoch 27/30\n",
      "3900/3900 [==============================] - 0s 35us/step - loss: -2613.6445 - accuracy: 0.1667\n",
      "Epoch 28/30\n",
      "3900/3900 [==============================] - 0s 38us/step - loss: -2676.1008 - accuracy: 0.1667\n",
      "Epoch 29/30\n",
      "3900/3900 [==============================] - 0s 34us/step - loss: -2739.3061 - accuracy: 0.1667\n",
      "Epoch 30/30\n",
      "3900/3900 [==============================] - 0s 34us/step - loss: -2802.9531 - accuracy: 0.1667\n"
     ]
    },
    {
     "data": {
      "text/plain": [
       "<keras.callbacks.callbacks.History at 0x10b84fcc0>"
      ]
     },
     "execution_count": 36,
     "metadata": {},
     "output_type": "execute_result"
    }
   ],
   "source": [
    "model.fit(x_train_resampled, y_train_resampled, epochs=30, batch_size=75)"
   ]
  },
  {
   "cell_type": "code",
   "execution_count": null,
   "metadata": {},
   "outputs": [],
   "source": []
  }
 ],
 "metadata": {
  "kernelspec": {
   "display_name": "Python 3",
   "language": "python",
   "name": "python3"
  },
  "language_info": {
   "codemirror_mode": {
    "name": "ipython",
    "version": 3
   },
   "file_extension": ".py",
   "mimetype": "text/x-python",
   "name": "python",
   "nbconvert_exporter": "python",
   "pygments_lexer": "ipython3",
   "version": "3.7.3"
  },
  "toc": {
   "base_numbering": 1,
   "nav_menu": {},
   "number_sections": true,
   "sideBar": true,
   "skip_h1_title": false,
   "title_cell": "Table of Contents",
   "title_sidebar": "Contents",
   "toc_cell": false,
   "toc_position": {
    "height": "calc(100% - 180px)",
    "left": "10px",
    "top": "150px",
    "width": "288px"
   },
   "toc_section_display": true,
   "toc_window_display": true
  }
 },
 "nbformat": 4,
 "nbformat_minor": 2
}
